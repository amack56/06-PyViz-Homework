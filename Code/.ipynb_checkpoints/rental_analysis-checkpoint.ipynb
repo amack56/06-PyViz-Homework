{
 "cells": [
  {
   "cell_type": "markdown",
   "id": "5a00e1a8",
   "metadata": {},
   "source": [
    "# San Francisco Housing Cost Analysis\n",
    "\n",
    "In this assignment, you will perform fundamental analysis for the San Francisco housing market to allow potential real estate investors to choose rental investment properties."
   ]
  },
  {
   "cell_type": "code",
   "execution_count": 320,
   "id": "7ae7b44e",
   "metadata": {},
   "outputs": [],
   "source": [
    "# imports\n",
    "import panel as pn\n",
    "pn.extension('plotly')\n",
    "import plotly.express as px\n",
    "import pandas as pd\n",
    "import hvplot.pandas\n",
    "import matplotlib.pyplot as plt\n",
    "import panel as pn\n",
    "from panel.interact import interact\n",
    "import numpy as np\n",
    "import os\n",
    "from pathlib import Path\n",
    "from dotenv import load_dotenv\n",
    "\n",
    "import warnings\n",
    "warnings.filterwarnings('ignore')"
   ]
  },
  {
   "cell_type": "code",
   "execution_count": 330,
   "id": "e6678bea",
   "metadata": {},
   "outputs": [],
   "source": [
    "# Read the Mapbox API key\n",
    "dotenv_path = Path('../.env')\n",
    "load_dotenv(dotenv_path=dotenv_path)\n",
    "map_box_api = os.getenv(\"mapbox\")\n",
    "\n",
    "# Set the Mapbox API\n",
    "px.set_mapbox_access_token(\"pk.eyJ1IjoiYW1hY2s1NiIsImEiOiJja3RldzZmcnAwMmd5Mm5wZngyejR2cm5iIn0.JohlA6vRxmH-iugH7u_xXA\")"
   ]
  },
  {
   "cell_type": "markdown",
   "id": "68317356",
   "metadata": {},
   "source": [
    "## Load Data"
   ]
  },
  {
   "cell_type": "code",
   "execution_count": 369,
   "id": "d56c6848",
   "metadata": {},
   "outputs": [
    {
     "data": {
      "text/html": [
       "<div>\n",
       "<style scoped>\n",
       "    .dataframe tbody tr th:only-of-type {\n",
       "        vertical-align: middle;\n",
       "    }\n",
       "\n",
       "    .dataframe tbody tr th {\n",
       "        vertical-align: top;\n",
       "    }\n",
       "\n",
       "    .dataframe thead th {\n",
       "        text-align: right;\n",
       "    }\n",
       "</style>\n",
       "<table border=\"1\" class=\"dataframe\">\n",
       "  <thead>\n",
       "    <tr style=\"text-align: right;\">\n",
       "      <th></th>\n",
       "      <th>neighborhood</th>\n",
       "      <th>sale_price_sqr_foot</th>\n",
       "      <th>housing_units</th>\n",
       "      <th>gross_rent</th>\n",
       "    </tr>\n",
       "    <tr>\n",
       "      <th>year</th>\n",
       "      <th></th>\n",
       "      <th></th>\n",
       "      <th></th>\n",
       "      <th></th>\n",
       "    </tr>\n",
       "  </thead>\n",
       "  <tbody>\n",
       "    <tr>\n",
       "      <th>2010</th>\n",
       "      <td>Alamo Square</td>\n",
       "      <td>291.182945</td>\n",
       "      <td>372560</td>\n",
       "      <td>1239</td>\n",
       "    </tr>\n",
       "    <tr>\n",
       "      <th>2010</th>\n",
       "      <td>Anza Vista</td>\n",
       "      <td>267.932583</td>\n",
       "      <td>372560</td>\n",
       "      <td>1239</td>\n",
       "    </tr>\n",
       "    <tr>\n",
       "      <th>2010</th>\n",
       "      <td>Bayview</td>\n",
       "      <td>170.098665</td>\n",
       "      <td>372560</td>\n",
       "      <td>1239</td>\n",
       "    </tr>\n",
       "    <tr>\n",
       "      <th>2010</th>\n",
       "      <td>Buena Vista Park</td>\n",
       "      <td>347.394919</td>\n",
       "      <td>372560</td>\n",
       "      <td>1239</td>\n",
       "    </tr>\n",
       "    <tr>\n",
       "      <th>2010</th>\n",
       "      <td>Central Richmond</td>\n",
       "      <td>319.027623</td>\n",
       "      <td>372560</td>\n",
       "      <td>1239</td>\n",
       "    </tr>\n",
       "  </tbody>\n",
       "</table>\n",
       "</div>"
      ],
      "text/plain": [
       "          neighborhood  sale_price_sqr_foot  housing_units  gross_rent\n",
       "year                                                                  \n",
       "2010      Alamo Square           291.182945         372560        1239\n",
       "2010        Anza Vista           267.932583         372560        1239\n",
       "2010           Bayview           170.098665         372560        1239\n",
       "2010  Buena Vista Park           347.394919         372560        1239\n",
       "2010  Central Richmond           319.027623         372560        1239"
      ]
     },
     "execution_count": 369,
     "metadata": {},
     "output_type": "execute_result"
    }
   ],
   "source": [
    "# Read the census data into a Pandas DataFrame\n",
    "file_path = Path(\"../Data/sfo_neighborhoods_census_data.csv\")\n",
    "sfo_data = pd.read_csv(file_path, index_col=\"year\")\n",
    "sfo_data.head()"
   ]
  },
  {
   "cell_type": "markdown",
   "id": "926b2ad7",
   "metadata": {},
   "source": [
    "## Housing Units Per Year\n",
    "\n",
    "In this section, you will calculate the number of housing units per year and visualize the results as a bar chart using the Pandas plot function.\n",
    "\n",
    "**Hint:** Use the Pandas `groupby` function.\n",
    "\n",
    "**Optional challenge:** Use the min, max, and std to scale the y limits of the chart.\n",
    "\n"
   ]
  },
  {
   "cell_type": "code",
   "execution_count": 302,
   "id": "8e12c5ce",
   "metadata": {},
   "outputs": [],
   "source": [
    "# Calculate the mean number of housing units per year (hint: use groupby) \n",
    "sfo_data_by_year_mean = sfo_data.groupby(['year']).mean()\n",
    "sfo_data_by_year_mean.drop(labels=['sale_price_sqr_foot', 'gross_rent'], axis=1, inplace=True)\n",
    "\n",
    "# Calculate min, max, std dev\n",
    "sfo_data_by_year_min = min(sfo_data_by_year_mean['housing_units'])\n",
    "sfo_data_by_year_max = max(sfo_data_by_year_mean['housing_units'])\n",
    "sfo_data_by_year_std = np.std(sfo_data_by_year_mean['housing_units'])"
   ]
  },
  {
   "cell_type": "code",
   "execution_count": 303,
   "id": "34e08255",
   "metadata": {},
   "outputs": [],
   "source": [
    "# Save the dataframe as a csv file\n",
    "save_file_path = Path(\"../Data/sfo_data_by_year_mean.csv\")\n",
    "to_csv_dataframe = sfo_data_by_year_mean\n",
    "to_csv_dataframe.to_csv(save_file_path, index=\"year\")"
   ]
  },
  {
   "cell_type": "code",
   "execution_count": 367,
   "id": "ca59d059",
   "metadata": {},
   "outputs": [
    {
     "data": {},
     "metadata": {},
     "output_type": "display_data"
    },
    {
     "data": {
      "application/vnd.holoviews_exec.v0+json": "",
      "text/html": [
       "<div id='13183'>\n",
       "\n",
       "\n",
       "\n",
       "\n",
       "\n",
       "  <div class=\"bk-root\" id=\"f6ea30b0-af48-4c39-81f3-8073ef187423\" data-root-id=\"13183\"></div>\n",
       "</div>\n",
       "<script type=\"application/javascript\">(function(root) {\n",
       "  function embed_document(root) {\n",
       "    var docs_json = {\"07816392-15dd-46c1-8c7a-745f9cd3e265\":{\"defs\":[{\"extends\":null,\"module\":null,\"name\":\"ReactiveHTML1\",\"overrides\":[],\"properties\":[]},{\"extends\":null,\"module\":null,\"name\":\"FlexBox1\",\"overrides\":[],\"properties\":[{\"default\":\"flex-start\",\"kind\":null,\"name\":\"align_content\"},{\"default\":\"flex-start\",\"kind\":null,\"name\":\"align_items\"},{\"default\":\"row\",\"kind\":null,\"name\":\"flex_direction\"},{\"default\":\"wrap\",\"kind\":null,\"name\":\"flex_wrap\"},{\"default\":\"flex-start\",\"kind\":null,\"name\":\"justify_content\"}]},{\"extends\":null,\"module\":null,\"name\":\"TemplateActions1\",\"overrides\":[],\"properties\":[{\"default\":0,\"kind\":null,\"name\":\"open_modal\"},{\"default\":0,\"kind\":null,\"name\":\"close_modal\"}]},{\"extends\":null,\"module\":null,\"name\":\"MaterialTemplateActions1\",\"overrides\":[],\"properties\":[{\"default\":0,\"kind\":null,\"name\":\"open_modal\"},{\"default\":0,\"kind\":null,\"name\":\"close_modal\"}]}],\"roots\":{\"references\":[{\"attributes\":{},\"id\":\"13193\",\"type\":\"CategoricalScale\"},{\"attributes\":{},\"id\":\"13229\",\"type\":\"CategoricalTickFormatter\"},{\"attributes\":{\"callback\":null,\"renderers\":[{\"id\":\"13223\"}],\"tags\":[\"hv_created\"],\"tooltips\":[[\"year\",\"@{year}\"],[\"housing_units\",\"@{housing_units}\"]]},\"id\":\"13187\",\"type\":\"HoverTool\"},{\"attributes\":{\"data_source\":{\"id\":\"13217\"},\"glyph\":{\"id\":\"13220\"},\"hover_glyph\":null,\"muted_glyph\":{\"id\":\"13222\"},\"nonselection_glyph\":{\"id\":\"13221\"},\"selection_glyph\":{\"id\":\"13225\"},\"view\":{\"id\":\"13224\"}},\"id\":\"13223\",\"type\":\"GlyphRenderer\"},{\"attributes\":{\"children\":[{\"id\":\"13184\"},{\"id\":\"13188\"},{\"id\":\"13253\"}],\"margin\":[0,0,0,0],\"name\":\"Row25287\",\"tags\":[\"embedded\"]},\"id\":\"13183\",\"type\":\"Row\"},{\"attributes\":{\"axis_label\":\"Housing Units\",\"formatter\":{\"id\":\"13229\"},\"major_label_orientation\":1.5707963267948966,\"major_label_policy\":{\"id\":\"13227\"},\"ticker\":{\"id\":\"13198\"}},\"id\":\"13197\",\"type\":\"CategoricalAxis\"},{\"attributes\":{\"fill_color\":{\"value\":\"#30a2da\"},\"top\":{\"field\":\"housing_units\"},\"width\":{\"value\":0.8},\"x\":{\"field\":\"year\"}},\"id\":\"13220\",\"type\":\"VBar\"},{\"attributes\":{},\"id\":\"13206\",\"type\":\"WheelZoomTool\"},{\"attributes\":{\"axis_label\":\"Year\",\"formatter\":{\"id\":\"13226\"},\"major_label_policy\":{\"id\":\"13230\"},\"ticker\":{\"id\":\"13201\"}},\"id\":\"13200\",\"type\":\"LinearAxis\"},{\"attributes\":{\"margin\":[5,5,5,5],\"name\":\"HSpacer25291\",\"sizing_mode\":\"stretch_width\"},\"id\":\"13184\",\"type\":\"Spacer\"},{\"attributes\":{\"fill_alpha\":{\"value\":0.2},\"fill_color\":{\"value\":\"#30a2da\"},\"line_alpha\":{\"value\":0.2},\"top\":{\"field\":\"housing_units\"},\"width\":{\"value\":0.8},\"x\":{\"field\":\"year\"}},\"id\":\"13222\",\"type\":\"VBar\"},{\"attributes\":{},\"id\":\"13205\",\"type\":\"PanTool\"},{\"attributes\":{},\"id\":\"13227\",\"type\":\"AllLabels\"},{\"attributes\":{\"text\":\"Housing Units in San Francisco from 2010 to 2016\",\"text_color\":\"black\",\"text_font_size\":\"12pt\"},\"id\":\"13189\",\"type\":\"Title\"},{\"attributes\":{},\"id\":\"13198\",\"type\":\"CategoricalTicker\"},{\"attributes\":{\"fill_alpha\":{\"value\":0.1},\"fill_color\":{\"value\":\"#30a2da\"},\"line_alpha\":{\"value\":0.1},\"top\":{\"field\":\"housing_units\"},\"width\":{\"value\":0.8},\"x\":{\"field\":\"year\"}},\"id\":\"13221\",\"type\":\"VBar\"},{\"attributes\":{\"data\":{\"housing_units\":[372560,374507,376454,378401,380348,382295,384242],\"year\":[\"2010\",\"2011\",\"2012\",\"2013\",\"2014\",\"2015\",\"2016\"]},\"selected\":{\"id\":\"13218\"},\"selection_policy\":{\"id\":\"13242\"}},\"id\":\"13217\",\"type\":\"ColumnDataSource\"},{\"attributes\":{\"format\":\"%.0f\"},\"id\":\"13226\",\"type\":\"PrintfTickFormatter\"},{\"attributes\":{},\"id\":\"13201\",\"type\":\"BasicTicker\"},{\"attributes\":{},\"id\":\"13204\",\"type\":\"SaveTool\"},{\"attributes\":{\"bottom\":{\"value\":0},\"fill_alpha\":{\"value\":1.0},\"fill_color\":{\"value\":\"#30a2da\"},\"hatch_alpha\":{\"value\":1.0},\"hatch_color\":{\"value\":\"black\"},\"hatch_scale\":{\"value\":12.0},\"hatch_weight\":{\"value\":1.0},\"line_alpha\":{\"value\":1.0},\"line_cap\":{\"value\":\"butt\"},\"line_color\":{\"value\":\"black\"},\"line_dash\":{\"value\":[]},\"line_dash_offset\":{\"value\":0},\"line_join\":{\"value\":\"bevel\"},\"line_width\":{\"value\":1},\"top\":{\"field\":\"housing_units\"},\"width\":{\"value\":0.8},\"x\":{\"field\":\"year\"}},\"id\":\"13225\",\"type\":\"VBar\"},{\"attributes\":{\"source\":{\"id\":\"13217\"}},\"id\":\"13224\",\"type\":\"CDSView\"},{\"attributes\":{\"overlay\":{\"id\":\"13209\"}},\"id\":\"13207\",\"type\":\"BoxZoomTool\"},{\"attributes\":{\"below\":[{\"id\":\"13197\"}],\"center\":[{\"id\":\"13199\"},{\"id\":\"13203\"}],\"height\":300,\"left\":[{\"id\":\"13200\"}],\"margin\":[5,5,5,5],\"min_border_bottom\":10,\"min_border_left\":10,\"min_border_right\":10,\"min_border_top\":10,\"renderers\":[{\"id\":\"13223\"}],\"sizing_mode\":\"fixed\",\"title\":{\"id\":\"13189\"},\"toolbar\":{\"id\":\"13210\"},\"width\":700,\"x_range\":{\"id\":\"13185\"},\"x_scale\":{\"id\":\"13193\"},\"y_range\":{\"id\":\"13186\"},\"y_scale\":{\"id\":\"13195\"}},\"id\":\"13188\",\"subtype\":\"Figure\",\"type\":\"Plot\"},{\"attributes\":{},\"id\":\"13230\",\"type\":\"AllLabels\"},{\"attributes\":{\"axis\":{\"id\":\"13200\"},\"dimension\":1,\"grid_line_color\":null,\"ticker\":null},\"id\":\"13203\",\"type\":\"Grid\"},{\"attributes\":{\"bottom_units\":\"screen\",\"fill_alpha\":0.5,\"fill_color\":\"lightgrey\",\"left_units\":\"screen\",\"level\":\"overlay\",\"line_alpha\":1.0,\"line_color\":\"black\",\"line_dash\":[4,4],\"line_width\":2,\"right_units\":\"screen\",\"syncable\":false,\"top_units\":\"screen\"},\"id\":\"13209\",\"type\":\"BoxAnnotation\"},{\"attributes\":{\"end\":386242,\"reset_end\":386242,\"reset_start\":370560,\"start\":370560,\"tags\":[[[\"housing_units\",\"housing_units\",null]]]},\"id\":\"13186\",\"type\":\"Range1d\"},{\"attributes\":{},\"id\":\"13195\",\"type\":\"LinearScale\"},{\"attributes\":{},\"id\":\"13218\",\"type\":\"Selection\"},{\"attributes\":{\"active_multi\":null,\"tools\":[{\"id\":\"13187\"},{\"id\":\"13204\"},{\"id\":\"13205\"},{\"id\":\"13206\"},{\"id\":\"13207\"},{\"id\":\"13208\"}]},\"id\":\"13210\",\"type\":\"Toolbar\"},{\"attributes\":{\"factors\":[\"2010\",\"2011\",\"2012\",\"2013\",\"2014\",\"2015\",\"2016\"],\"tags\":[[[\"year\",\"year\",null]]]},\"id\":\"13185\",\"type\":\"FactorRange\"},{\"attributes\":{},\"id\":\"13242\",\"type\":\"UnionRenderers\"},{\"attributes\":{\"margin\":[5,5,5,5],\"name\":\"HSpacer25292\",\"sizing_mode\":\"stretch_width\"},\"id\":\"13253\",\"type\":\"Spacer\"},{\"attributes\":{},\"id\":\"13208\",\"type\":\"ResetTool\"},{\"attributes\":{\"axis\":{\"id\":\"13197\"},\"grid_line_color\":null,\"ticker\":null},\"id\":\"13199\",\"type\":\"Grid\"}],\"root_ids\":[\"13183\"]},\"title\":\"Bokeh Application\",\"version\":\"2.3.3\"}};\n",
       "    var render_items = [{\"docid\":\"07816392-15dd-46c1-8c7a-745f9cd3e265\",\"root_ids\":[\"13183\"],\"roots\":{\"13183\":\"f6ea30b0-af48-4c39-81f3-8073ef187423\"}}];\n",
       "    root.Bokeh.embed.embed_items_notebook(docs_json, render_items);\n",
       "  }\n",
       "  if (root.Bokeh !== undefined && root.Bokeh.Panel !== undefined && ( root['Plotly'] !== undefined)) {\n",
       "    embed_document(root);\n",
       "  } else {\n",
       "    var attempts = 0;\n",
       "    var timer = setInterval(function(root) {\n",
       "      if (root.Bokeh !== undefined && root.Bokeh.Panel !== undefined && (root['Plotly'] !== undefined)) {\n",
       "        clearInterval(timer);\n",
       "        embed_document(root);\n",
       "      } else if (document.readyState == \"complete\") {\n",
       "        attempts++;\n",
       "        if (attempts > 200) {\n",
       "          clearInterval(timer);\n",
       "          console.log(\"Bokeh: ERROR: Unable to run BokehJS code because BokehJS library is missing\");\n",
       "        }\n",
       "      }\n",
       "    }, 25, root)\n",
       "  }\n",
       "})(window);</script>"
      ],
      "text/plain": [
       ":Bars   [year]   (housing_units)"
      ]
     },
     "execution_count": 367,
     "metadata": {
      "application/vnd.holoviews_exec.v0+json": {
       "id": "13183"
      }
     },
     "output_type": "execute_result"
    }
   ],
   "source": [
    "# Use the Pandas plot function to plot the average housing units per year.\n",
    "# Note: You will need to manually adjust the y limit of the chart using the min and max values from above.\n",
    "plot_sfo_data_by_year_mean = sfo_data_by_year_mean.hvplot.bar(title='Housing Units in San Francisco from 2010 to 2016', xlabel=\"Housing Units\", ylabel='Year', ylim=(sfo_data_by_year_min-2000,sfo_data_by_year_max+2000), yformatter='%.0f', rot=90)\n",
    "plot_sfo_data_by_year_mean\n"
   ]
  },
  {
   "cell_type": "markdown",
   "id": "4fc3ddfe",
   "metadata": {},
   "source": [
    "## Average Housing Costs in San Francisco Per Year\n",
    "\n",
    "In this section, you will calculate the average monthly rent and the average price per square foot for each year. An investor may wish to better understand the sales price of the rental property over time. For example, a customer will want to know if they should expect an increase or decrease in the property value over time so they can determine how long to hold the rental property.  Plot the results as two line charts.\n",
    "\n",
    "**Optional challenge:** Plot each line chart in a different color."
   ]
  },
  {
   "cell_type": "code",
   "execution_count": 305,
   "id": "f167dc52",
   "metadata": {},
   "outputs": [
    {
     "data": {
      "text/html": [
       "<div>\n",
       "<style scoped>\n",
       "    .dataframe tbody tr th:only-of-type {\n",
       "        vertical-align: middle;\n",
       "    }\n",
       "\n",
       "    .dataframe tbody tr th {\n",
       "        vertical-align: top;\n",
       "    }\n",
       "\n",
       "    .dataframe thead th {\n",
       "        text-align: right;\n",
       "    }\n",
       "</style>\n",
       "<table border=\"1\" class=\"dataframe\">\n",
       "  <thead>\n",
       "    <tr style=\"text-align: right;\">\n",
       "      <th></th>\n",
       "      <th>sale_price_sqr_foot</th>\n",
       "      <th>gross_rent</th>\n",
       "    </tr>\n",
       "    <tr>\n",
       "      <th>year</th>\n",
       "      <th></th>\n",
       "      <th></th>\n",
       "    </tr>\n",
       "  </thead>\n",
       "  <tbody>\n",
       "    <tr>\n",
       "      <th>2010</th>\n",
       "      <td>369.344353</td>\n",
       "      <td>1239</td>\n",
       "    </tr>\n",
       "    <tr>\n",
       "      <th>2011</th>\n",
       "      <td>341.903429</td>\n",
       "      <td>1530</td>\n",
       "    </tr>\n",
       "    <tr>\n",
       "      <th>2012</th>\n",
       "      <td>399.389968</td>\n",
       "      <td>2324</td>\n",
       "    </tr>\n",
       "    <tr>\n",
       "      <th>2013</th>\n",
       "      <td>483.600304</td>\n",
       "      <td>2971</td>\n",
       "    </tr>\n",
       "    <tr>\n",
       "      <th>2014</th>\n",
       "      <td>556.277273</td>\n",
       "      <td>3528</td>\n",
       "    </tr>\n",
       "    <tr>\n",
       "      <th>2015</th>\n",
       "      <td>632.540352</td>\n",
       "      <td>3739</td>\n",
       "    </tr>\n",
       "    <tr>\n",
       "      <th>2016</th>\n",
       "      <td>697.643709</td>\n",
       "      <td>4390</td>\n",
       "    </tr>\n",
       "  </tbody>\n",
       "</table>\n",
       "</div>"
      ],
      "text/plain": [
       "      sale_price_sqr_foot  gross_rent\n",
       "year                                 \n",
       "2010           369.344353        1239\n",
       "2011           341.903429        1530\n",
       "2012           399.389968        2324\n",
       "2013           483.600304        2971\n",
       "2014           556.277273        3528\n",
       "2015           632.540352        3739\n",
       "2016           697.643709        4390"
      ]
     },
     "execution_count": 305,
     "metadata": {},
     "output_type": "execute_result"
    }
   ],
   "source": [
    "# Calculate the average sale price per square foot and average gross rent\n",
    "avg_cost_by_year = sfo_data.groupby(['year']).mean()\n",
    "avg_cost_by_year.drop(labels=['housing_units'], axis=1, inplace=True)\n",
    "avg_cost_by_year"
   ]
  },
  {
   "cell_type": "code",
   "execution_count": 306,
   "id": "3ab53fc8",
   "metadata": {},
   "outputs": [
    {
     "data": {},
     "metadata": {},
     "output_type": "display_data"
    },
    {
     "data": {
      "application/vnd.holoviews_exec.v0+json": "",
      "text/html": [
       "<div id='12359'>\n",
       "\n",
       "\n",
       "\n",
       "\n",
       "\n",
       "  <div class=\"bk-root\" id=\"4b543edb-297b-44b4-9690-4587c774e646\" data-root-id=\"12359\"></div>\n",
       "</div>\n",
       "<script type=\"application/javascript\">(function(root) {\n",
       "  function embed_document(root) {\n",
       "    var docs_json = {\"50b3af5c-90ad-41b3-a535-c9f6e86e5771\":{\"defs\":[{\"extends\":null,\"module\":null,\"name\":\"ReactiveHTML1\",\"overrides\":[],\"properties\":[]},{\"extends\":null,\"module\":null,\"name\":\"FlexBox1\",\"overrides\":[],\"properties\":[{\"default\":\"flex-start\",\"kind\":null,\"name\":\"align_content\"},{\"default\":\"flex-start\",\"kind\":null,\"name\":\"align_items\"},{\"default\":\"row\",\"kind\":null,\"name\":\"flex_direction\"},{\"default\":\"wrap\",\"kind\":null,\"name\":\"flex_wrap\"},{\"default\":\"flex-start\",\"kind\":null,\"name\":\"justify_content\"}]},{\"extends\":null,\"module\":null,\"name\":\"TemplateActions1\",\"overrides\":[],\"properties\":[{\"default\":0,\"kind\":null,\"name\":\"open_modal\"},{\"default\":0,\"kind\":null,\"name\":\"close_modal\"}]},{\"extends\":null,\"module\":null,\"name\":\"MaterialTemplateActions1\",\"overrides\":[],\"properties\":[{\"default\":0,\"kind\":null,\"name\":\"open_modal\"},{\"default\":0,\"kind\":null,\"name\":\"close_modal\"}]}],\"roots\":{\"references\":[{\"attributes\":{\"data\":{\"sale_price_sqr_foot\":{\"__ndarray__\":\"tQKjeIIVd0Do7CdydF51QGdijk899nhAaBKk2Jo5fkDGKCTbN2KBQPETFqRSxINAUB33UCbNhUA=\",\"dtype\":\"float64\",\"order\":\"little\",\"shape\":[7]},\"year\":[2010,2011,2012,2013,2014,2015,2016]},\"selected\":{\"id\":\"12395\"},\"selection_policy\":{\"id\":\"12417\"}},\"id\":\"12394\",\"type\":\"ColumnDataSource\"},{\"attributes\":{\"axis\":{\"id\":\"12377\"},\"dimension\":1,\"grid_line_color\":null,\"ticker\":null},\"id\":\"12380\",\"type\":\"Grid\"},{\"attributes\":{\"overlay\":{\"id\":\"12386\"}},\"id\":\"12384\",\"type\":\"BoxZoomTool\"},{\"attributes\":{},\"id\":\"12378\",\"type\":\"BasicTicker\"},{\"attributes\":{\"source\":{\"id\":\"12394\"}},\"id\":\"12401\",\"type\":\"CDSView\"},{\"attributes\":{},\"id\":\"12395\",\"type\":\"Selection\"},{\"attributes\":{\"line_alpha\":0.2,\"line_color\":\"#30a2da\",\"line_width\":2,\"x\":{\"field\":\"year\"},\"y\":{\"field\":\"sale_price_sqr_foot\"}},\"id\":\"12399\",\"type\":\"Line\"},{\"attributes\":{\"line_color\":\"#30a2da\",\"line_width\":2,\"x\":{\"field\":\"year\"},\"y\":{\"field\":\"sale_price_sqr_foot\"}},\"id\":\"12402\",\"type\":\"Line\"},{\"attributes\":{},\"id\":\"12371\",\"type\":\"LinearScale\"},{\"attributes\":{\"active_multi\":null,\"tools\":[{\"id\":\"12363\"},{\"id\":\"12381\"},{\"id\":\"12382\"},{\"id\":\"12383\"},{\"id\":\"12384\"},{\"id\":\"12385\"}]},\"id\":\"12387\",\"type\":\"Toolbar\"},{\"attributes\":{},\"id\":\"12408\",\"type\":\"BasicTickFormatter\"},{\"attributes\":{},\"id\":\"12383\",\"type\":\"WheelZoomTool\"},{\"attributes\":{\"below\":[{\"id\":\"12373\"}],\"center\":[{\"id\":\"12376\"},{\"id\":\"12380\"}],\"height\":300,\"left\":[{\"id\":\"12377\"}],\"margin\":[5,5,5,5],\"min_border_bottom\":10,\"min_border_left\":10,\"min_border_right\":10,\"min_border_top\":10,\"renderers\":[{\"id\":\"12400\"}],\"sizing_mode\":\"fixed\",\"title\":{\"id\":\"12365\"},\"toolbar\":{\"id\":\"12387\"},\"width\":700,\"x_range\":{\"id\":\"12361\"},\"x_scale\":{\"id\":\"12369\"},\"y_range\":{\"id\":\"12362\"},\"y_scale\":{\"id\":\"12371\"}},\"id\":\"12364\",\"subtype\":\"Figure\",\"type\":\"Plot\"},{\"attributes\":{},\"id\":\"12385\",\"type\":\"ResetTool\"},{\"attributes\":{\"children\":[{\"id\":\"12360\"},{\"id\":\"12364\"},{\"id\":\"12429\"}],\"margin\":[0,0,0,0],\"name\":\"Row24004\",\"tags\":[\"embedded\"]},\"id\":\"12359\",\"type\":\"Row\"},{\"attributes\":{\"line_alpha\":0.1,\"line_color\":\"#30a2da\",\"line_width\":2,\"x\":{\"field\":\"year\"},\"y\":{\"field\":\"sale_price_sqr_foot\"}},\"id\":\"12398\",\"type\":\"Line\"},{\"attributes\":{},\"id\":\"12403\",\"type\":\"AllLabels\"},{\"attributes\":{\"line_color\":\"#30a2da\",\"line_width\":2,\"x\":{\"field\":\"year\"},\"y\":{\"field\":\"sale_price_sqr_foot\"}},\"id\":\"12397\",\"type\":\"Line\"},{\"attributes\":{\"bottom_units\":\"screen\",\"fill_alpha\":0.5,\"fill_color\":\"lightgrey\",\"left_units\":\"screen\",\"level\":\"overlay\",\"line_alpha\":1.0,\"line_color\":\"black\",\"line_dash\":[4,4],\"line_width\":2,\"right_units\":\"screen\",\"syncable\":false,\"top_units\":\"screen\"},\"id\":\"12386\",\"type\":\"BoxAnnotation\"},{\"attributes\":{\"axis_label\":\"Price Per Sqft\",\"formatter\":{\"id\":\"12408\"},\"major_label_policy\":{\"id\":\"12406\"},\"ticker\":{\"id\":\"12378\"}},\"id\":\"12377\",\"type\":\"LinearAxis\"},{\"attributes\":{\"text\":\"Average Gross Rent by Year\",\"text_color\":\"black\",\"text_font_size\":\"12pt\"},\"id\":\"12365\",\"type\":\"Title\"},{\"attributes\":{\"axis\":{\"id\":\"12373\"},\"grid_line_color\":null,\"ticker\":null},\"id\":\"12376\",\"type\":\"Grid\"},{\"attributes\":{\"end\":2016.0,\"reset_end\":2016.0,\"reset_start\":2010.0,\"start\":2010.0,\"tags\":[[[\"year\",\"year\",null]]]},\"id\":\"12361\",\"type\":\"Range1d\"},{\"attributes\":{},\"id\":\"12406\",\"type\":\"AllLabels\"},{\"attributes\":{},\"id\":\"12382\",\"type\":\"PanTool\"},{\"attributes\":{\"data_source\":{\"id\":\"12394\"},\"glyph\":{\"id\":\"12397\"},\"hover_glyph\":null,\"muted_glyph\":{\"id\":\"12399\"},\"nonselection_glyph\":{\"id\":\"12398\"},\"selection_glyph\":{\"id\":\"12402\"},\"view\":{\"id\":\"12401\"}},\"id\":\"12400\",\"type\":\"GlyphRenderer\"},{\"attributes\":{},\"id\":\"12374\",\"type\":\"BasicTicker\"},{\"attributes\":{\"axis_label\":\"Year\",\"formatter\":{\"id\":\"12405\"},\"major_label_policy\":{\"id\":\"12403\"},\"ticker\":{\"id\":\"12374\"}},\"id\":\"12373\",\"type\":\"LinearAxis\"},{\"attributes\":{},\"id\":\"12369\",\"type\":\"LinearScale\"},{\"attributes\":{},\"id\":\"12417\",\"type\":\"UnionRenderers\"},{\"attributes\":{\"end\":733.2177371101802,\"reset_end\":733.2177371101802,\"reset_start\":306.3294011864627,\"start\":306.3294011864627,\"tags\":[[[\"sale_price_sqr_foot\",\"sale_price_sqr_foot\",null]]]},\"id\":\"12362\",\"type\":\"Range1d\"},{\"attributes\":{},\"id\":\"12405\",\"type\":\"BasicTickFormatter\"},{\"attributes\":{},\"id\":\"12381\",\"type\":\"SaveTool\"},{\"attributes\":{\"margin\":[5,5,5,5],\"name\":\"HSpacer24009\",\"sizing_mode\":\"stretch_width\"},\"id\":\"12429\",\"type\":\"Spacer\"},{\"attributes\":{\"callback\":null,\"renderers\":[{\"id\":\"12400\"}],\"tags\":[\"hv_created\"],\"tooltips\":[[\"year\",\"@{year}\"],[\"sale_price_sqr_foot\",\"@{sale_price_sqr_foot}\"]]},\"id\":\"12363\",\"type\":\"HoverTool\"},{\"attributes\":{\"margin\":[5,5,5,5],\"name\":\"HSpacer24008\",\"sizing_mode\":\"stretch_width\"},\"id\":\"12360\",\"type\":\"Spacer\"}],\"root_ids\":[\"12359\"]},\"title\":\"Bokeh Application\",\"version\":\"2.3.3\"}};\n",
       "    var render_items = [{\"docid\":\"50b3af5c-90ad-41b3-a535-c9f6e86e5771\",\"root_ids\":[\"12359\"],\"roots\":{\"12359\":\"4b543edb-297b-44b4-9690-4587c774e646\"}}];\n",
       "    root.Bokeh.embed.embed_items_notebook(docs_json, render_items);\n",
       "  }\n",
       "  if (root.Bokeh !== undefined && root.Bokeh.Panel !== undefined && ( root['Plotly'] !== undefined)) {\n",
       "    embed_document(root);\n",
       "  } else {\n",
       "    var attempts = 0;\n",
       "    var timer = setInterval(function(root) {\n",
       "      if (root.Bokeh !== undefined && root.Bokeh.Panel !== undefined && (root['Plotly'] !== undefined)) {\n",
       "        clearInterval(timer);\n",
       "        embed_document(root);\n",
       "      } else if (document.readyState == \"complete\") {\n",
       "        attempts++;\n",
       "        if (attempts > 200) {\n",
       "          clearInterval(timer);\n",
       "          console.log(\"Bokeh: ERROR: Unable to run BokehJS code because BokehJS library is missing\");\n",
       "        }\n",
       "      }\n",
       "    }, 25, root)\n",
       "  }\n",
       "})(window);</script>"
      ],
      "text/plain": [
       ":Curve   [year]   (sale_price_sqr_foot)"
      ]
     },
     "execution_count": 306,
     "metadata": {
      "application/vnd.holoviews_exec.v0+json": {
       "id": "12359"
      }
     },
     "output_type": "execute_result"
    }
   ],
   "source": [
    "# Line chart for average sale price per square foot\n",
    "plot_avg_sale_price_by_year = avg_cost_by_year['sale_price_sqr_foot'].hvplot.line(title='Average Gross Rent by Year', xlabel='Year', ylabel='Price Per Sqft')\n",
    "plot_avg_sale_price_by_year"
   ]
  },
  {
   "cell_type": "code",
   "execution_count": 307,
   "id": "a53453cd",
   "metadata": {},
   "outputs": [
    {
     "data": {},
     "metadata": {},
     "output_type": "display_data"
    },
    {
     "data": {
      "application/vnd.holoviews_exec.v0+json": "",
      "text/html": [
       "<div id='12481'>\n",
       "\n",
       "\n",
       "\n",
       "\n",
       "\n",
       "  <div class=\"bk-root\" id=\"f8bdedad-4b62-4686-a681-257bd3e6ee43\" data-root-id=\"12481\"></div>\n",
       "</div>\n",
       "<script type=\"application/javascript\">(function(root) {\n",
       "  function embed_document(root) {\n",
       "    var docs_json = {\"05dd60ba-a35c-422f-afbf-9c2159a57faf\":{\"defs\":[{\"extends\":null,\"module\":null,\"name\":\"ReactiveHTML1\",\"overrides\":[],\"properties\":[]},{\"extends\":null,\"module\":null,\"name\":\"FlexBox1\",\"overrides\":[],\"properties\":[{\"default\":\"flex-start\",\"kind\":null,\"name\":\"align_content\"},{\"default\":\"flex-start\",\"kind\":null,\"name\":\"align_items\"},{\"default\":\"row\",\"kind\":null,\"name\":\"flex_direction\"},{\"default\":\"wrap\",\"kind\":null,\"name\":\"flex_wrap\"},{\"default\":\"flex-start\",\"kind\":null,\"name\":\"justify_content\"}]},{\"extends\":null,\"module\":null,\"name\":\"TemplateActions1\",\"overrides\":[],\"properties\":[{\"default\":0,\"kind\":null,\"name\":\"open_modal\"},{\"default\":0,\"kind\":null,\"name\":\"close_modal\"}]},{\"extends\":null,\"module\":null,\"name\":\"MaterialTemplateActions1\",\"overrides\":[],\"properties\":[{\"default\":0,\"kind\":null,\"name\":\"open_modal\"},{\"default\":0,\"kind\":null,\"name\":\"close_modal\"}]}],\"roots\":{\"references\":[{\"attributes\":{\"text\":\"Average Gross Rent by Year\",\"text_color\":\"black\",\"text_font_size\":\"12pt\"},\"id\":\"12487\",\"type\":\"Title\"},{\"attributes\":{},\"id\":\"12491\",\"type\":\"LinearScale\"},{\"attributes\":{\"line_alpha\":0.2,\"line_color\":\"#30a2da\",\"line_width\":2,\"x\":{\"field\":\"year\"},\"y\":{\"field\":\"gross_rent\"}},\"id\":\"12521\",\"type\":\"Line\"},{\"attributes\":{\"axis\":{\"id\":\"12499\"},\"dimension\":1,\"grid_line_color\":null,\"ticker\":null},\"id\":\"12502\",\"type\":\"Grid\"},{\"attributes\":{\"line_color\":\"#30a2da\",\"line_width\":2,\"x\":{\"field\":\"year\"},\"y\":{\"field\":\"gross_rent\"}},\"id\":\"12519\",\"type\":\"Line\"},{\"attributes\":{},\"id\":\"12539\",\"type\":\"UnionRenderers\"},{\"attributes\":{},\"id\":\"12496\",\"type\":\"BasicTicker\"},{\"attributes\":{},\"id\":\"12517\",\"type\":\"Selection\"},{\"attributes\":{\"bottom_units\":\"screen\",\"fill_alpha\":0.5,\"fill_color\":\"lightgrey\",\"left_units\":\"screen\",\"level\":\"overlay\",\"line_alpha\":1.0,\"line_color\":\"black\",\"line_dash\":[4,4],\"line_width\":2,\"right_units\":\"screen\",\"syncable\":false,\"top_units\":\"screen\"},\"id\":\"12508\",\"type\":\"BoxAnnotation\"},{\"attributes\":{\"margin\":[5,5,5,5],\"name\":\"HSpacer24186\",\"sizing_mode\":\"stretch_width\"},\"id\":\"12551\",\"type\":\"Spacer\"},{\"attributes\":{\"line_alpha\":0.1,\"line_color\":\"#30a2da\",\"line_width\":2,\"x\":{\"field\":\"year\"},\"y\":{\"field\":\"gross_rent\"}},\"id\":\"12520\",\"type\":\"Line\"},{\"attributes\":{\"line_color\":\"#30a2da\",\"line_width\":2,\"x\":{\"field\":\"year\"},\"y\":{\"field\":\"gross_rent\"}},\"id\":\"12524\",\"type\":\"Line\"},{\"attributes\":{\"end\":2016.0,\"reset_end\":2016.0,\"reset_start\":2010.0,\"start\":2010.0,\"tags\":[[[\"year\",\"year\",null]]]},\"id\":\"12483\",\"type\":\"Range1d\"},{\"attributes\":{},\"id\":\"12505\",\"type\":\"WheelZoomTool\"},{\"attributes\":{\"end\":4705.1,\"reset_end\":4705.1,\"reset_start\":923.9,\"start\":923.9,\"tags\":[[[\"gross_rent\",\"gross_rent\",null]]]},\"id\":\"12484\",\"type\":\"Range1d\"},{\"attributes\":{},\"id\":\"12525\",\"type\":\"AllLabels\"},{\"attributes\":{\"active_multi\":null,\"tools\":[{\"id\":\"12485\"},{\"id\":\"12503\"},{\"id\":\"12504\"},{\"id\":\"12505\"},{\"id\":\"12506\"},{\"id\":\"12507\"}]},\"id\":\"12509\",\"type\":\"Toolbar\"},{\"attributes\":{},\"id\":\"12527\",\"type\":\"BasicTickFormatter\"},{\"attributes\":{\"axis_label\":\"Year\",\"formatter\":{\"id\":\"12527\"},\"major_label_policy\":{\"id\":\"12525\"},\"ticker\":{\"id\":\"12496\"}},\"id\":\"12495\",\"type\":\"LinearAxis\"},{\"attributes\":{},\"id\":\"12500\",\"type\":\"BasicTicker\"},{\"attributes\":{\"margin\":[5,5,5,5],\"name\":\"HSpacer24185\",\"sizing_mode\":\"stretch_width\"},\"id\":\"12482\",\"type\":\"Spacer\"},{\"attributes\":{\"axis_label\":\"Price Per Sqft\",\"formatter\":{\"id\":\"12530\"},\"major_label_policy\":{\"id\":\"12528\"},\"ticker\":{\"id\":\"12500\"}},\"id\":\"12499\",\"type\":\"LinearAxis\"},{\"attributes\":{},\"id\":\"12493\",\"type\":\"LinearScale\"},{\"attributes\":{},\"id\":\"12507\",\"type\":\"ResetTool\"},{\"attributes\":{},\"id\":\"12504\",\"type\":\"PanTool\"},{\"attributes\":{\"axis\":{\"id\":\"12495\"},\"grid_line_color\":null,\"ticker\":null},\"id\":\"12498\",\"type\":\"Grid\"},{\"attributes\":{\"overlay\":{\"id\":\"12508\"}},\"id\":\"12506\",\"type\":\"BoxZoomTool\"},{\"attributes\":{\"data\":{\"gross_rent\":[1239,1530,2324,2971,3528,3739,4390],\"year\":[2010,2011,2012,2013,2014,2015,2016]},\"selected\":{\"id\":\"12517\"},\"selection_policy\":{\"id\":\"12539\"}},\"id\":\"12516\",\"type\":\"ColumnDataSource\"},{\"attributes\":{\"source\":{\"id\":\"12516\"}},\"id\":\"12523\",\"type\":\"CDSView\"},{\"attributes\":{},\"id\":\"12503\",\"type\":\"SaveTool\"},{\"attributes\":{},\"id\":\"12530\",\"type\":\"BasicTickFormatter\"},{\"attributes\":{\"data_source\":{\"id\":\"12516\"},\"glyph\":{\"id\":\"12519\"},\"hover_glyph\":null,\"muted_glyph\":{\"id\":\"12521\"},\"nonselection_glyph\":{\"id\":\"12520\"},\"selection_glyph\":{\"id\":\"12524\"},\"view\":{\"id\":\"12523\"}},\"id\":\"12522\",\"type\":\"GlyphRenderer\"},{\"attributes\":{\"children\":[{\"id\":\"12482\"},{\"id\":\"12486\"},{\"id\":\"12551\"}],\"margin\":[0,0,0,0],\"name\":\"Row24181\",\"tags\":[\"embedded\"]},\"id\":\"12481\",\"type\":\"Row\"},{\"attributes\":{\"callback\":null,\"renderers\":[{\"id\":\"12522\"}],\"tags\":[\"hv_created\"],\"tooltips\":[[\"year\",\"@{year}\"],[\"gross_rent\",\"@{gross_rent}\"]]},\"id\":\"12485\",\"type\":\"HoverTool\"},{\"attributes\":{},\"id\":\"12528\",\"type\":\"AllLabels\"},{\"attributes\":{\"below\":[{\"id\":\"12495\"}],\"center\":[{\"id\":\"12498\"},{\"id\":\"12502\"}],\"height\":300,\"left\":[{\"id\":\"12499\"}],\"margin\":[5,5,5,5],\"min_border_bottom\":10,\"min_border_left\":10,\"min_border_right\":10,\"min_border_top\":10,\"renderers\":[{\"id\":\"12522\"}],\"sizing_mode\":\"fixed\",\"title\":{\"id\":\"12487\"},\"toolbar\":{\"id\":\"12509\"},\"width\":700,\"x_range\":{\"id\":\"12483\"},\"x_scale\":{\"id\":\"12491\"},\"y_range\":{\"id\":\"12484\"},\"y_scale\":{\"id\":\"12493\"}},\"id\":\"12486\",\"subtype\":\"Figure\",\"type\":\"Plot\"}],\"root_ids\":[\"12481\"]},\"title\":\"Bokeh Application\",\"version\":\"2.3.3\"}};\n",
       "    var render_items = [{\"docid\":\"05dd60ba-a35c-422f-afbf-9c2159a57faf\",\"root_ids\":[\"12481\"],\"roots\":{\"12481\":\"f8bdedad-4b62-4686-a681-257bd3e6ee43\"}}];\n",
       "    root.Bokeh.embed.embed_items_notebook(docs_json, render_items);\n",
       "  }\n",
       "  if (root.Bokeh !== undefined && root.Bokeh.Panel !== undefined && ( root['Plotly'] !== undefined)) {\n",
       "    embed_document(root);\n",
       "  } else {\n",
       "    var attempts = 0;\n",
       "    var timer = setInterval(function(root) {\n",
       "      if (root.Bokeh !== undefined && root.Bokeh.Panel !== undefined && (root['Plotly'] !== undefined)) {\n",
       "        clearInterval(timer);\n",
       "        embed_document(root);\n",
       "      } else if (document.readyState == \"complete\") {\n",
       "        attempts++;\n",
       "        if (attempts > 200) {\n",
       "          clearInterval(timer);\n",
       "          console.log(\"Bokeh: ERROR: Unable to run BokehJS code because BokehJS library is missing\");\n",
       "        }\n",
       "      }\n",
       "    }, 25, root)\n",
       "  }\n",
       "})(window);</script>"
      ],
      "text/plain": [
       ":Curve   [year]   (gross_rent)"
      ]
     },
     "execution_count": 307,
     "metadata": {
      "application/vnd.holoviews_exec.v0+json": {
       "id": "12481"
      }
     },
     "output_type": "execute_result"
    }
   ],
   "source": [
    "# Line chart for average montly rent\n",
    "plot_avg_gross_rent_by_year = avg_cost_by_year['gross_rent'].hvplot.line(title='Average Gross Rent by Year', xlabel='Year', ylabel='Price Per Sqft')\n",
    "plot_avg_gross_rent_by_year"
   ]
  },
  {
   "cell_type": "markdown",
   "id": "674e6240",
   "metadata": {},
   "source": [
    "## Average Prices by Neighborhood\n",
    "\n",
    "In this section, you will use hvplot to create two interactive visulizations of average prices with a dropdown selector for the neighborhood. The first visualization will be a line plot showing the trend of average price per square foot over time for each neighborhood.  The second will be a line plot showing the trend of average montly rent over time for each neighborhood.\n",
    "\n",
    "**Hint:** It will be easier to create a new DataFrame from grouping the data and calculating the mean prices for each year and neighborhood"
   ]
  },
  {
   "cell_type": "code",
   "execution_count": 308,
   "id": "dc9f537f",
   "metadata": {},
   "outputs": [
    {
     "data": {
      "text/html": [
       "<div>\n",
       "<style scoped>\n",
       "    .dataframe tbody tr th:only-of-type {\n",
       "        vertical-align: middle;\n",
       "    }\n",
       "\n",
       "    .dataframe tbody tr th {\n",
       "        vertical-align: top;\n",
       "    }\n",
       "\n",
       "    .dataframe thead th {\n",
       "        text-align: right;\n",
       "    }\n",
       "</style>\n",
       "<table border=\"1\" class=\"dataframe\">\n",
       "  <thead>\n",
       "    <tr style=\"text-align: right;\">\n",
       "      <th></th>\n",
       "      <th>year</th>\n",
       "      <th>neighborhood</th>\n",
       "      <th>sale_price_sqr_foot</th>\n",
       "      <th>housing_units</th>\n",
       "      <th>gross_rent</th>\n",
       "    </tr>\n",
       "  </thead>\n",
       "  <tbody>\n",
       "    <tr>\n",
       "      <th>0</th>\n",
       "      <td>2010</td>\n",
       "      <td>Alamo Square</td>\n",
       "      <td>291.182945</td>\n",
       "      <td>372560</td>\n",
       "      <td>1239</td>\n",
       "    </tr>\n",
       "    <tr>\n",
       "      <th>1</th>\n",
       "      <td>2010</td>\n",
       "      <td>Anza Vista</td>\n",
       "      <td>267.932583</td>\n",
       "      <td>372560</td>\n",
       "      <td>1239</td>\n",
       "    </tr>\n",
       "    <tr>\n",
       "      <th>2</th>\n",
       "      <td>2010</td>\n",
       "      <td>Bayview</td>\n",
       "      <td>170.098665</td>\n",
       "      <td>372560</td>\n",
       "      <td>1239</td>\n",
       "    </tr>\n",
       "    <tr>\n",
       "      <th>3</th>\n",
       "      <td>2010</td>\n",
       "      <td>Buena Vista Park</td>\n",
       "      <td>347.394919</td>\n",
       "      <td>372560</td>\n",
       "      <td>1239</td>\n",
       "    </tr>\n",
       "    <tr>\n",
       "      <th>4</th>\n",
       "      <td>2010</td>\n",
       "      <td>Central Richmond</td>\n",
       "      <td>319.027623</td>\n",
       "      <td>372560</td>\n",
       "      <td>1239</td>\n",
       "    </tr>\n",
       "  </tbody>\n",
       "</table>\n",
       "</div>"
      ],
      "text/plain": [
       "   year      neighborhood  sale_price_sqr_foot  housing_units  gross_rent\n",
       "0  2010      Alamo Square           291.182945         372560        1239\n",
       "1  2010        Anza Vista           267.932583         372560        1239\n",
       "2  2010           Bayview           170.098665         372560        1239\n",
       "3  2010  Buena Vista Park           347.394919         372560        1239\n",
       "4  2010  Central Richmond           319.027623         372560        1239"
      ]
     },
     "execution_count": 308,
     "metadata": {},
     "output_type": "execute_result"
    }
   ],
   "source": [
    "# Group by year and neighborhood and then create a new dataframe of the mean values\n",
    "avg_price_by_nbhd = sfo_data.groupby(['year','neighborhood']).mean().reset_index()\n",
    "avg_price_by_nbhd.head()"
   ]
  },
  {
   "cell_type": "code",
   "execution_count": 309,
   "id": "0fef1768",
   "metadata": {},
   "outputs": [
    {
     "data": {},
     "metadata": {},
     "output_type": "display_data"
    },
    {
     "data": {},
     "metadata": {},
     "output_type": "display_data"
    },
    {
     "data": {
      "application/vnd.holoviews_exec.v0+json": "",
      "text/html": [
       "<div id='12603'>\n",
       "\n",
       "\n",
       "\n",
       "\n",
       "\n",
       "  <div class=\"bk-root\" id=\"fa3abb1c-7961-480e-8ccc-c565dad7cd41\" data-root-id=\"12603\"></div>\n",
       "</div>\n",
       "<script type=\"application/javascript\">(function(root) {\n",
       "  function embed_document(root) {\n",
       "    var docs_json = {\"de10073d-42dc-4fb2-bd58-5a3aaf97538d\":{\"defs\":[{\"extends\":null,\"module\":null,\"name\":\"ReactiveHTML1\",\"overrides\":[],\"properties\":[]},{\"extends\":null,\"module\":null,\"name\":\"FlexBox1\",\"overrides\":[],\"properties\":[{\"default\":\"flex-start\",\"kind\":null,\"name\":\"align_content\"},{\"default\":\"flex-start\",\"kind\":null,\"name\":\"align_items\"},{\"default\":\"row\",\"kind\":null,\"name\":\"flex_direction\"},{\"default\":\"wrap\",\"kind\":null,\"name\":\"flex_wrap\"},{\"default\":\"flex-start\",\"kind\":null,\"name\":\"justify_content\"}]},{\"extends\":null,\"module\":null,\"name\":\"TemplateActions1\",\"overrides\":[],\"properties\":[{\"default\":0,\"kind\":null,\"name\":\"open_modal\"},{\"default\":0,\"kind\":null,\"name\":\"close_modal\"}]},{\"extends\":null,\"module\":null,\"name\":\"MaterialTemplateActions1\",\"overrides\":[],\"properties\":[{\"default\":0,\"kind\":null,\"name\":\"open_modal\"},{\"default\":0,\"kind\":null,\"name\":\"close_modal\"}]}],\"roots\":{\"references\":[{\"attributes\":{\"line_alpha\":0.2,\"line_color\":\"#30a2da\",\"line_width\":2,\"x\":{\"field\":\"year\"},\"y\":{\"field\":\"sale_price_sqr_foot\"}},\"id\":\"12645\",\"type\":\"Line\"},{\"attributes\":{\"data\":{\"sale_price_sqr_foot\":{\"__ndarray__\":\"Dkc7WO0yckCafszcbwhxQIGRs5ot42ZAJzog0LQ8eEAWMinKGEd+QI0V5FDt0IJAVCHcmLVPdUA=\",\"dtype\":\"float64\",\"order\":\"little\",\"shape\":[7]},\"year\":[2010,2011,2012,2013,2014,2015,2016]},\"selected\":{\"id\":\"12641\"},\"selection_policy\":{\"id\":\"12663\"}},\"id\":\"12640\",\"type\":\"ColumnDataSource\"},{\"attributes\":{\"children\":[{\"id\":\"12604\"},{\"id\":\"12606\"}],\"margin\":[0,0,0,0],\"name\":\"Column24285\"},\"id\":\"12603\",\"type\":\"Column\"},{\"attributes\":{},\"id\":\"12620\",\"type\":\"BasicTicker\"},{\"attributes\":{\"client_comm_id\":\"a898090ff771482ebbfc94066f995ea8\",\"comm_id\":\"5bebf29aaf1441b6ac5a7b0021bb98be\",\"plot_id\":\"12603\"},\"id\":\"12705\",\"type\":\"panel.models.comm_manager.CommManager\"},{\"attributes\":{\"source\":{\"id\":\"12640\"}},\"id\":\"12647\",\"type\":\"CDSView\"},{\"attributes\":{\"end\":644.0175329447045,\"reset_end\":644.0175329447045,\"reset_start\":141.1976609302527,\"start\":141.1976609302527,\"tags\":[[[\"sale_price_sqr_foot\",\"sale_price_sqr_foot\",null]]]},\"id\":\"12608\",\"type\":\"Range1d\"},{\"attributes\":{\"below\":[{\"id\":\"12619\"}],\"center\":[{\"id\":\"12622\"},{\"id\":\"12626\"}],\"height\":300,\"left\":[{\"id\":\"12623\"}],\"margin\":[5,5,5,5],\"min_border_bottom\":10,\"min_border_left\":10,\"min_border_right\":10,\"min_border_top\":10,\"renderers\":[{\"id\":\"12646\"}],\"sizing_mode\":\"fixed\",\"title\":{\"id\":\"12611\"},\"toolbar\":{\"id\":\"12633\"},\"width\":700,\"x_range\":{\"id\":\"12607\"},\"x_scale\":{\"id\":\"12615\"},\"y_range\":{\"id\":\"12608\"},\"y_scale\":{\"id\":\"12617\"}},\"id\":\"12610\",\"subtype\":\"Figure\",\"type\":\"Plot\"},{\"attributes\":{},\"id\":\"12631\",\"type\":\"ResetTool\"},{\"attributes\":{},\"id\":\"12651\",\"type\":\"BasicTickFormatter\"},{\"attributes\":{\"data_source\":{\"id\":\"12640\"},\"glyph\":{\"id\":\"12643\"},\"hover_glyph\":null,\"muted_glyph\":{\"id\":\"12645\"},\"nonselection_glyph\":{\"id\":\"12644\"},\"selection_glyph\":{\"id\":\"12648\"},\"view\":{\"id\":\"12647\"}},\"id\":\"12646\",\"type\":\"GlyphRenderer\"},{\"attributes\":{\"overlay\":{\"id\":\"12632\"}},\"id\":\"12630\",\"type\":\"BoxZoomTool\"},{\"attributes\":{},\"id\":\"12663\",\"type\":\"UnionRenderers\"},{\"attributes\":{\"axis_label\":\"Price Per Sqft\",\"formatter\":{\"id\":\"12654\"},\"major_label_policy\":{\"id\":\"12652\"},\"ticker\":{\"id\":\"12624\"}},\"id\":\"12623\",\"type\":\"LinearAxis\"},{\"attributes\":{\"line_color\":\"#30a2da\",\"line_width\":2,\"x\":{\"field\":\"year\"},\"y\":{\"field\":\"sale_price_sqr_foot\"}},\"id\":\"12648\",\"type\":\"Line\"},{\"attributes\":{\"callback\":null,\"renderers\":[{\"id\":\"12646\"}],\"tags\":[\"hv_created\"],\"tooltips\":[[\"year\",\"@{year}\"],[\"sale_price_sqr_foot\",\"@{sale_price_sqr_foot}\"]]},\"id\":\"12609\",\"type\":\"HoverTool\"},{\"attributes\":{\"children\":[{\"id\":\"12610\"}],\"margin\":[0,0,0,0],\"name\":\"Row24438\"},\"id\":\"12606\",\"type\":\"Row\"},{\"attributes\":{\"axis\":{\"id\":\"12623\"},\"dimension\":1,\"grid_line_color\":null,\"ticker\":null},\"id\":\"12626\",\"type\":\"Grid\"},{\"attributes\":{\"children\":[{\"id\":\"12605\"}],\"margin\":[0,0,0,0],\"name\":\"Column24439\"},\"id\":\"12604\",\"type\":\"Column\"},{\"attributes\":{},\"id\":\"12652\",\"type\":\"AllLabels\"},{\"attributes\":{\"active_multi\":null,\"tools\":[{\"id\":\"12609\"},{\"id\":\"12627\"},{\"id\":\"12628\"},{\"id\":\"12629\"},{\"id\":\"12630\"},{\"id\":\"12631\"}]},\"id\":\"12633\",\"type\":\"Toolbar\"},{\"attributes\":{\"end\":2016.0,\"reset_end\":2016.0,\"reset_start\":2010.0,\"start\":2010.0,\"tags\":[[[\"year\",\"year\",null]]]},\"id\":\"12607\",\"type\":\"Range1d\"},{\"attributes\":{\"bottom_units\":\"screen\",\"fill_alpha\":0.5,\"fill_color\":\"lightgrey\",\"left_units\":\"screen\",\"level\":\"overlay\",\"line_alpha\":1.0,\"line_color\":\"black\",\"line_dash\":[4,4],\"line_width\":2,\"right_units\":\"screen\",\"syncable\":false,\"top_units\":\"screen\"},\"id\":\"12632\",\"type\":\"BoxAnnotation\"},{\"attributes\":{\"margin\":[5,10,5,10],\"options\":[\"Alamo Square\",\"Anza Vista\",\"Bayview\",\"Bayview Heights\",\"Bernal Heights \",\"Buena Vista Park\",\"Central Richmond\",\"Central Sunset\",\"Clarendon Heights\",\"Corona Heights\",\"Cow Hollow\",\"Croker Amazon\",\"Diamond Heights\",\"Downtown \",\"Duboce Triangle\",\"Eureka Valley/Dolores Heights\",\"Excelsior\",\"Financial District North\",\"Financial District South\",\"Forest Knolls\",\"Glen Park\",\"Golden Gate Heights\",\"Haight Ashbury\",\"Hayes Valley\",\"Hunters Point\",\"Ingleside \",\"Ingleside Heights\",\"Inner Mission\",\"Inner Parkside\",\"Inner Richmond\",\"Inner Sunset\",\"Jordan Park/Laurel Heights\",\"Lake --The Presidio\",\"Lone Mountain\",\"Lower Pacific Heights\",\"Marina\",\"Merced Heights\",\"Midtown Terrace\",\"Miraloma Park\",\"Mission Bay\",\"Mission Dolores\",\"Mission Terrace\",\"Nob Hill\",\"Noe Valley\",\"North Beach\",\"North Waterfront\",\"Oceanview\",\"Outer Mission\",\"Outer Parkside\",\"Outer Richmond \",\"Outer Sunset\",\"Pacific Heights\",\"Park North\",\"Parkside\",\"Parnassus/Ashbury Heights\",\"Portola\",\"Potrero Hill\",\"Presidio Heights\",\"Russian Hill\",\"Silver Terrace\",\"South Beach\",\"South of Market\",\"Sunnyside\",\"Telegraph Hill\",\"Twin Peaks\",\"Union Square District\",\"Van Ness/ Civic Center\",\"Visitacion Valley\",\"West Portal\",\"Western Addition\",\"Westwood Highlands\",\"Westwood Park\",\"Yerba Buena\"],\"title\":\"neighborhood\",\"value\":\"Alamo Square\"},\"id\":\"12605\",\"type\":\"Select\"},{\"attributes\":{},\"id\":\"12617\",\"type\":\"LinearScale\"},{\"attributes\":{},\"id\":\"12641\",\"type\":\"Selection\"},{\"attributes\":{},\"id\":\"12628\",\"type\":\"PanTool\"},{\"attributes\":{},\"id\":\"12654\",\"type\":\"BasicTickFormatter\"},{\"attributes\":{},\"id\":\"12627\",\"type\":\"SaveTool\"},{\"attributes\":{},\"id\":\"12624\",\"type\":\"BasicTicker\"},{\"attributes\":{\"axis\":{\"id\":\"12619\"},\"grid_line_color\":null,\"ticker\":null},\"id\":\"12622\",\"type\":\"Grid\"},{\"attributes\":{\"line_color\":\"#30a2da\",\"line_width\":2,\"x\":{\"field\":\"year\"},\"y\":{\"field\":\"sale_price_sqr_foot\"}},\"id\":\"12643\",\"type\":\"Line\"},{\"attributes\":{\"axis_label\":\"Year\",\"formatter\":{\"id\":\"12651\"},\"major_label_policy\":{\"id\":\"12649\"},\"ticker\":{\"id\":\"12620\"}},\"id\":\"12619\",\"type\":\"LinearAxis\"},{\"attributes\":{},\"id\":\"12629\",\"type\":\"WheelZoomTool\"},{\"attributes\":{},\"id\":\"12615\",\"type\":\"LinearScale\"},{\"attributes\":{\"line_alpha\":0.1,\"line_color\":\"#30a2da\",\"line_width\":2,\"x\":{\"field\":\"year\"},\"y\":{\"field\":\"sale_price_sqr_foot\"}},\"id\":\"12644\",\"type\":\"Line\"},{\"attributes\":{},\"id\":\"12649\",\"type\":\"AllLabels\"},{\"attributes\":{\"text\":\"Average Sale Price per Square Feet in Alamo Square\",\"text_color\":\"black\",\"text_font_size\":\"12pt\"},\"id\":\"12611\",\"type\":\"Title\"}],\"root_ids\":[\"12603\",\"12705\"]},\"title\":\"Bokeh Application\",\"version\":\"2.3.3\"}};\n",
       "    var render_items = [{\"docid\":\"de10073d-42dc-4fb2-bd58-5a3aaf97538d\",\"root_ids\":[\"12603\"],\"roots\":{\"12603\":\"fa3abb1c-7961-480e-8ccc-c565dad7cd41\"}}];\n",
       "    root.Bokeh.embed.embed_items_notebook(docs_json, render_items);\n",
       "  }\n",
       "  if (root.Bokeh !== undefined && root.Bokeh.Panel !== undefined && ( root['Plotly'] !== undefined)) {\n",
       "    embed_document(root);\n",
       "  } else {\n",
       "    var attempts = 0;\n",
       "    var timer = setInterval(function(root) {\n",
       "      if (root.Bokeh !== undefined && root.Bokeh.Panel !== undefined && (root['Plotly'] !== undefined)) {\n",
       "        clearInterval(timer);\n",
       "        embed_document(root);\n",
       "      } else if (document.readyState == \"complete\") {\n",
       "        attempts++;\n",
       "        if (attempts > 200) {\n",
       "          clearInterval(timer);\n",
       "          console.log(\"Bokeh: ERROR: Unable to run BokehJS code because BokehJS library is missing\");\n",
       "        }\n",
       "      }\n",
       "    }, 25, root)\n",
       "  }\n",
       "})(window);</script>"
      ],
      "text/plain": [
       "Column\n",
       "    [0] Column\n",
       "        [0] Select(name='neighborhood', options=['Alamo Square', ...], value='Alamo Square')\n",
       "    [1] Row\n",
       "        [0] HoloViews(Curve, name='interactive24284')"
      ]
     },
     "execution_count": 309,
     "metadata": {
      "application/vnd.holoviews_exec.v0+json": {
       "id": "12603"
      }
     },
     "output_type": "execute_result"
    }
   ],
   "source": [
    "# Use hvplot to create an interactive line chart of the average price per sq ft.\n",
    "# The plot should have a dropdown selector for the neighborhood\n",
    "\n",
    "# Define function that creates line chart\n",
    "def create_nbhd_line_chart(neighborhood):\n",
    "    nbhd_label = neighborhood\n",
    "    df = avg_price_by_nbhd[avg_price_by_nbhd['neighborhood'] == neighborhood]\n",
    "    df.drop(labels=['neighborhood', 'housing_units', 'gross_rent'], axis=1, inplace=True)\n",
    "    df = df.set_index('year')\n",
    "    line_chart = df.hvplot.line()\n",
    "    line_chart = df.hvplot.line(title='Average Sale Price per Square Feet in ' + neighborhood, xlabel='Year', ylabel='Price Per Sqft')\n",
    "    \n",
    "    return line_chart\n",
    "\n",
    "# Push a sorted list of unique neighborhoods into the interact f(x) to create dropdown\n",
    "all_nbhds = avg_price_by_nbhd['neighborhood'].value_counts().index.sort_values()\n",
    "interact(create_nbhd_line_chart, neighborhood=all_nbhds)"
   ]
  },
  {
   "cell_type": "code",
   "execution_count": 310,
   "id": "3f55a802",
   "metadata": {},
   "outputs": [
    {
     "data": {},
     "metadata": {},
     "output_type": "display_data"
    },
    {
     "data": {},
     "metadata": {},
     "output_type": "display_data"
    },
    {
     "data": {
      "application/vnd.holoviews_exec.v0+json": "",
      "text/html": [
       "<div id='12756'>\n",
       "\n",
       "\n",
       "\n",
       "\n",
       "\n",
       "  <div class=\"bk-root\" id=\"de08e234-354d-49a6-8a29-d827c88e8e59\" data-root-id=\"12756\"></div>\n",
       "</div>\n",
       "<script type=\"application/javascript\">(function(root) {\n",
       "  function embed_document(root) {\n",
       "    var docs_json = {\"023a8543-e70b-4d04-a934-fd03fb6c5c6e\":{\"defs\":[{\"extends\":null,\"module\":null,\"name\":\"ReactiveHTML1\",\"overrides\":[],\"properties\":[]},{\"extends\":null,\"module\":null,\"name\":\"FlexBox1\",\"overrides\":[],\"properties\":[{\"default\":\"flex-start\",\"kind\":null,\"name\":\"align_content\"},{\"default\":\"flex-start\",\"kind\":null,\"name\":\"align_items\"},{\"default\":\"row\",\"kind\":null,\"name\":\"flex_direction\"},{\"default\":\"wrap\",\"kind\":null,\"name\":\"flex_wrap\"},{\"default\":\"flex-start\",\"kind\":null,\"name\":\"justify_content\"}]},{\"extends\":null,\"module\":null,\"name\":\"TemplateActions1\",\"overrides\":[],\"properties\":[{\"default\":0,\"kind\":null,\"name\":\"open_modal\"},{\"default\":0,\"kind\":null,\"name\":\"close_modal\"}]},{\"extends\":null,\"module\":null,\"name\":\"MaterialTemplateActions1\",\"overrides\":[],\"properties\":[{\"default\":0,\"kind\":null,\"name\":\"open_modal\"},{\"default\":0,\"kind\":null,\"name\":\"close_modal\"}]}],\"roots\":{\"references\":[{\"attributes\":{\"children\":[{\"id\":\"12763\"}],\"margin\":[0,0,0,0],\"name\":\"Row24692\"},\"id\":\"12759\",\"type\":\"Row\"},{\"attributes\":{},\"id\":\"12777\",\"type\":\"BasicTicker\"},{\"attributes\":{\"line_alpha\":0.2,\"line_color\":\"#30a2da\",\"line_width\":2,\"x\":{\"field\":\"year\"},\"y\":{\"field\":\"gross_rent\"}},\"id\":\"12798\",\"type\":\"Line\"},{\"attributes\":{},\"id\":\"12768\",\"type\":\"LinearScale\"},{\"attributes\":{},\"id\":\"12816\",\"type\":\"UnionRenderers\"},{\"attributes\":{\"below\":[{\"id\":\"12772\"}],\"center\":[{\"id\":\"12775\"},{\"id\":\"12779\"}],\"height\":300,\"left\":[{\"id\":\"12776\"}],\"margin\":[5,5,5,5],\"min_border_bottom\":10,\"min_border_left\":10,\"min_border_right\":10,\"min_border_top\":10,\"renderers\":[{\"id\":\"12799\"}],\"sizing_mode\":\"fixed\",\"title\":{\"id\":\"12764\"},\"toolbar\":{\"id\":\"12786\"},\"width\":700,\"x_range\":{\"id\":\"12760\"},\"x_scale\":{\"id\":\"12768\"},\"y_range\":{\"id\":\"12761\"},\"y_scale\":{\"id\":\"12770\"}},\"id\":\"12763\",\"subtype\":\"Figure\",\"type\":\"Plot\"},{\"attributes\":{},\"id\":\"12781\",\"type\":\"PanTool\"},{\"attributes\":{\"data\":{\"gross_rent\":[1239,1530,2324,2971,3528,3739,4390],\"year\":[2010,2011,2012,2013,2014,2015,2016]},\"selected\":{\"id\":\"12794\"},\"selection_policy\":{\"id\":\"12816\"}},\"id\":\"12793\",\"type\":\"ColumnDataSource\"},{\"attributes\":{},\"id\":\"12780\",\"type\":\"SaveTool\"},{\"attributes\":{\"bottom_units\":\"screen\",\"fill_alpha\":0.5,\"fill_color\":\"lightgrey\",\"left_units\":\"screen\",\"level\":\"overlay\",\"line_alpha\":1.0,\"line_color\":\"black\",\"line_dash\":[4,4],\"line_width\":2,\"right_units\":\"screen\",\"syncable\":false,\"top_units\":\"screen\"},\"id\":\"12785\",\"type\":\"BoxAnnotation\"},{\"attributes\":{\"line_color\":\"#30a2da\",\"line_width\":2,\"x\":{\"field\":\"year\"},\"y\":{\"field\":\"gross_rent\"}},\"id\":\"12796\",\"type\":\"Line\"},{\"attributes\":{\"callback\":null,\"renderers\":[{\"id\":\"12799\"}],\"tags\":[\"hv_created\"],\"tooltips\":[[\"year\",\"@{year}\"],[\"gross_rent\",\"@{gross_rent}\"]]},\"id\":\"12762\",\"type\":\"HoverTool\"},{\"attributes\":{},\"id\":\"12784\",\"type\":\"ResetTool\"},{\"attributes\":{\"active_multi\":null,\"tools\":[{\"id\":\"12762\"},{\"id\":\"12780\"},{\"id\":\"12781\"},{\"id\":\"12782\"},{\"id\":\"12783\"},{\"id\":\"12784\"}]},\"id\":\"12786\",\"type\":\"Toolbar\"},{\"attributes\":{},\"id\":\"12805\",\"type\":\"AllLabels\"},{\"attributes\":{},\"id\":\"12782\",\"type\":\"WheelZoomTool\"},{\"attributes\":{\"end\":2016.0,\"reset_end\":2016.0,\"reset_start\":2010.0,\"start\":2010.0,\"tags\":[[[\"year\",\"year\",null]]]},\"id\":\"12760\",\"type\":\"Range1d\"},{\"attributes\":{\"end\":4705.1,\"reset_end\":4705.1,\"reset_start\":923.9,\"start\":923.9,\"tags\":[[[\"gross_rent\",\"gross_rent\",null]]]},\"id\":\"12761\",\"type\":\"Range1d\"},{\"attributes\":{},\"id\":\"12802\",\"type\":\"AllLabels\"},{\"attributes\":{},\"id\":\"12773\",\"type\":\"BasicTicker\"},{\"attributes\":{},\"id\":\"12794\",\"type\":\"Selection\"},{\"attributes\":{},\"id\":\"12804\",\"type\":\"BasicTickFormatter\"},{\"attributes\":{\"source\":{\"id\":\"12793\"}},\"id\":\"12800\",\"type\":\"CDSView\"},{\"attributes\":{\"line_color\":\"#30a2da\",\"line_width\":2,\"x\":{\"field\":\"year\"},\"y\":{\"field\":\"gross_rent\"}},\"id\":\"12801\",\"type\":\"Line\"},{\"attributes\":{\"client_comm_id\":\"7c584fd8af404056ad9fea2efdb90aa9\",\"comm_id\":\"9fba1e60bb8a4db8ac2e065200bb49e2\",\"plot_id\":\"12756\"},\"id\":\"12858\",\"type\":\"panel.models.comm_manager.CommManager\"},{\"attributes\":{\"children\":[{\"id\":\"12758\"}],\"margin\":[0,0,0,0],\"name\":\"Column24693\"},\"id\":\"12757\",\"type\":\"Column\"},{\"attributes\":{\"data_source\":{\"id\":\"12793\"},\"glyph\":{\"id\":\"12796\"},\"hover_glyph\":null,\"muted_glyph\":{\"id\":\"12798\"},\"nonselection_glyph\":{\"id\":\"12797\"},\"selection_glyph\":{\"id\":\"12801\"},\"view\":{\"id\":\"12800\"}},\"id\":\"12799\",\"type\":\"GlyphRenderer\"},{\"attributes\":{\"axis_label\":\"Price Per Sqft\",\"formatter\":{\"id\":\"12807\"},\"major_label_policy\":{\"id\":\"12805\"},\"ticker\":{\"id\":\"12777\"}},\"id\":\"12776\",\"type\":\"LinearAxis\"},{\"attributes\":{\"margin\":[5,10,5,10],\"options\":[\"Alamo Square\",\"Anza Vista\",\"Bayview\",\"Bayview Heights\",\"Bernal Heights \",\"Buena Vista Park\",\"Central Richmond\",\"Central Sunset\",\"Clarendon Heights\",\"Corona Heights\",\"Cow Hollow\",\"Croker Amazon\",\"Diamond Heights\",\"Downtown \",\"Duboce Triangle\",\"Eureka Valley/Dolores Heights\",\"Excelsior\",\"Financial District North\",\"Financial District South\",\"Forest Knolls\",\"Glen Park\",\"Golden Gate Heights\",\"Haight Ashbury\",\"Hayes Valley\",\"Hunters Point\",\"Ingleside \",\"Ingleside Heights\",\"Inner Mission\",\"Inner Parkside\",\"Inner Richmond\",\"Inner Sunset\",\"Jordan Park/Laurel Heights\",\"Lake --The Presidio\",\"Lone Mountain\",\"Lower Pacific Heights\",\"Marina\",\"Merced Heights\",\"Midtown Terrace\",\"Miraloma Park\",\"Mission Bay\",\"Mission Dolores\",\"Mission Terrace\",\"Nob Hill\",\"Noe Valley\",\"North Beach\",\"North Waterfront\",\"Oceanview\",\"Outer Mission\",\"Outer Parkside\",\"Outer Richmond \",\"Outer Sunset\",\"Pacific Heights\",\"Park North\",\"Parkside\",\"Parnassus/Ashbury Heights\",\"Portola\",\"Potrero Hill\",\"Presidio Heights\",\"Russian Hill\",\"Silver Terrace\",\"South Beach\",\"South of Market\",\"Sunnyside\",\"Telegraph Hill\",\"Twin Peaks\",\"Union Square District\",\"Van Ness/ Civic Center\",\"Visitacion Valley\",\"West Portal\",\"Western Addition\",\"Westwood Highlands\",\"Westwood Park\",\"Yerba Buena\"],\"title\":\"neighborhood\",\"value\":\"Alamo Square\"},\"id\":\"12758\",\"type\":\"Select\"},{\"attributes\":{\"axis\":{\"id\":\"12772\"},\"grid_line_color\":null,\"ticker\":null},\"id\":\"12775\",\"type\":\"Grid\"},{\"attributes\":{\"line_alpha\":0.1,\"line_color\":\"#30a2da\",\"line_width\":2,\"x\":{\"field\":\"year\"},\"y\":{\"field\":\"gross_rent\"}},\"id\":\"12797\",\"type\":\"Line\"},{\"attributes\":{\"text\":\"Average Gross Rent Per Year in Alamo Square\",\"text_color\":\"black\",\"text_font_size\":\"12pt\"},\"id\":\"12764\",\"type\":\"Title\"},{\"attributes\":{},\"id\":\"12807\",\"type\":\"BasicTickFormatter\"},{\"attributes\":{\"axis_label\":\"Year\",\"formatter\":{\"id\":\"12804\"},\"major_label_policy\":{\"id\":\"12802\"},\"ticker\":{\"id\":\"12773\"}},\"id\":\"12772\",\"type\":\"LinearAxis\"},{\"attributes\":{\"axis\":{\"id\":\"12776\"},\"dimension\":1,\"grid_line_color\":null,\"ticker\":null},\"id\":\"12779\",\"type\":\"Grid\"},{\"attributes\":{\"overlay\":{\"id\":\"12785\"}},\"id\":\"12783\",\"type\":\"BoxZoomTool\"},{\"attributes\":{},\"id\":\"12770\",\"type\":\"LinearScale\"},{\"attributes\":{\"children\":[{\"id\":\"12757\"},{\"id\":\"12759\"}],\"margin\":[0,0,0,0],\"name\":\"Column24539\"},\"id\":\"12756\",\"type\":\"Column\"}],\"root_ids\":[\"12756\",\"12858\"]},\"title\":\"Bokeh Application\",\"version\":\"2.3.3\"}};\n",
       "    var render_items = [{\"docid\":\"023a8543-e70b-4d04-a934-fd03fb6c5c6e\",\"root_ids\":[\"12756\"],\"roots\":{\"12756\":\"de08e234-354d-49a6-8a29-d827c88e8e59\"}}];\n",
       "    root.Bokeh.embed.embed_items_notebook(docs_json, render_items);\n",
       "  }\n",
       "  if (root.Bokeh !== undefined && root.Bokeh.Panel !== undefined && ( root['Plotly'] !== undefined)) {\n",
       "    embed_document(root);\n",
       "  } else {\n",
       "    var attempts = 0;\n",
       "    var timer = setInterval(function(root) {\n",
       "      if (root.Bokeh !== undefined && root.Bokeh.Panel !== undefined && (root['Plotly'] !== undefined)) {\n",
       "        clearInterval(timer);\n",
       "        embed_document(root);\n",
       "      } else if (document.readyState == \"complete\") {\n",
       "        attempts++;\n",
       "        if (attempts > 200) {\n",
       "          clearInterval(timer);\n",
       "          console.log(\"Bokeh: ERROR: Unable to run BokehJS code because BokehJS library is missing\");\n",
       "        }\n",
       "      }\n",
       "    }, 25, root)\n",
       "  }\n",
       "})(window);</script>"
      ],
      "text/plain": [
       "Column\n",
       "    [0] Column\n",
       "        [0] Select(name='neighborhood', options=['Alamo Square', ...], value='Alamo Square')\n",
       "    [1] Row\n",
       "        [0] HoloViews(Curve, name='interactive24538')"
      ]
     },
     "execution_count": 310,
     "metadata": {
      "application/vnd.holoviews_exec.v0+json": {
       "id": "12756"
      }
     },
     "output_type": "execute_result"
    }
   ],
   "source": [
    "# Use hvplot to create an interactive line chart of the average monthly rent.\n",
    "# The plot should have a dropdown selector for the neighborhood\n",
    "\n",
    "# Define function that creates line chart\n",
    "def create_nbhd_line_chart(neighborhood):\n",
    "    df = avg_price_by_nbhd[avg_price_by_nbhd['neighborhood'] == neighborhood]\n",
    "    df.drop(labels=['neighborhood', 'housing_units', 'sale_price_sqr_foot'], axis=1, inplace=True)\n",
    "    df = df.set_index('year')\n",
    "    line_chart = df.hvplot.line()\n",
    "    line_chart = df.hvplot.line(title='Average Gross Rent Per Year in ' + neighborhood, xlabel='Year', ylabel='Price Per Sqft')\n",
    "    \n",
    "    return line_chart\n",
    "\n",
    "# Push a sorted list of unique neighborhoods into the interact f(x) to create dropdown\n",
    "all_nbhds = avg_price_by_nbhd['neighborhood'].value_counts().index.sort_values()\n",
    "interact(create_nbhd_line_chart, neighborhood=all_nbhds)"
   ]
  },
  {
   "cell_type": "markdown",
   "id": "b1851560",
   "metadata": {},
   "source": [
    "## The Top 10 Most Expensive Neighborhoods\n",
    "\n",
    "In this section, you will need to calculate the mean sale price per square foot for each neighborhood and then sort the values to obtain the top 10 most expensive neighborhoods on average. Plot the results as a bar chart."
   ]
  },
  {
   "cell_type": "code",
   "execution_count": 311,
   "id": "75663e2b",
   "metadata": {},
   "outputs": [
    {
     "data": {
      "text/html": [
       "<div>\n",
       "<style scoped>\n",
       "    .dataframe tbody tr th:only-of-type {\n",
       "        vertical-align: middle;\n",
       "    }\n",
       "\n",
       "    .dataframe tbody tr th {\n",
       "        vertical-align: top;\n",
       "    }\n",
       "\n",
       "    .dataframe thead th {\n",
       "        text-align: right;\n",
       "    }\n",
       "</style>\n",
       "<table border=\"1\" class=\"dataframe\">\n",
       "  <thead>\n",
       "    <tr style=\"text-align: right;\">\n",
       "      <th></th>\n",
       "      <th>sale_price_sqr_foot</th>\n",
       "    </tr>\n",
       "    <tr>\n",
       "      <th>neighborhood</th>\n",
       "      <th></th>\n",
       "    </tr>\n",
       "  </thead>\n",
       "  <tbody>\n",
       "    <tr>\n",
       "      <th>Union Square District</th>\n",
       "      <td>903.993258</td>\n",
       "    </tr>\n",
       "    <tr>\n",
       "      <th>Merced Heights</th>\n",
       "      <td>788.844818</td>\n",
       "    </tr>\n",
       "    <tr>\n",
       "      <th>Miraloma Park</th>\n",
       "      <td>779.810842</td>\n",
       "    </tr>\n",
       "    <tr>\n",
       "      <th>Pacific Heights</th>\n",
       "      <td>689.555817</td>\n",
       "    </tr>\n",
       "    <tr>\n",
       "      <th>Westwood Park</th>\n",
       "      <td>687.087575</td>\n",
       "    </tr>\n",
       "    <tr>\n",
       "      <th>Telegraph Hill</th>\n",
       "      <td>676.506578</td>\n",
       "    </tr>\n",
       "    <tr>\n",
       "      <th>Presidio Heights</th>\n",
       "      <td>675.350212</td>\n",
       "    </tr>\n",
       "    <tr>\n",
       "      <th>Cow Hollow</th>\n",
       "      <td>665.964042</td>\n",
       "    </tr>\n",
       "    <tr>\n",
       "      <th>Potrero Hill</th>\n",
       "      <td>662.013613</td>\n",
       "    </tr>\n",
       "    <tr>\n",
       "      <th>South Beach</th>\n",
       "      <td>650.124479</td>\n",
       "    </tr>\n",
       "  </tbody>\n",
       "</table>\n",
       "</div>"
      ],
      "text/plain": [
       "                       sale_price_sqr_foot\n",
       "neighborhood                              \n",
       "Union Square District           903.993258\n",
       "Merced Heights                  788.844818\n",
       "Miraloma Park                   779.810842\n",
       "Pacific Heights                 689.555817\n",
       "Westwood Park                   687.087575\n",
       "Telegraph Hill                  676.506578\n",
       "Presidio Heights                675.350212\n",
       "Cow Hollow                      665.964042\n",
       "Potrero Hill                    662.013613\n",
       "South Beach                     650.124479"
      ]
     },
     "execution_count": 311,
     "metadata": {},
     "output_type": "execute_result"
    }
   ],
   "source": [
    "# Getting the data from the top 10 expensive neighborhoods to own\n",
    "avg_sale_price_by_nbhd = sfo_data.groupby(['neighborhood']).mean().sort_values(by='sale_price_sqr_foot', axis=0, ascending=False)\n",
    "top_10 = avg_sale_price_by_nbhd.head(10).drop(['housing_units','gross_rent'], axis=1)\n",
    "top_10"
   ]
  },
  {
   "cell_type": "code",
   "execution_count": 312,
   "id": "ed5c96b9",
   "metadata": {},
   "outputs": [
    {
     "data": {},
     "metadata": {},
     "output_type": "display_data"
    },
    {
     "data": {
      "application/vnd.holoviews_exec.v0+json": "",
      "text/html": [
       "<div id='12909'>\n",
       "\n",
       "\n",
       "\n",
       "\n",
       "\n",
       "  <div class=\"bk-root\" id=\"7eade4e4-a24b-4ef7-8f72-2c9c527b956a\" data-root-id=\"12909\"></div>\n",
       "</div>\n",
       "<script type=\"application/javascript\">(function(root) {\n",
       "  function embed_document(root) {\n",
       "    var docs_json = {\"3f89f95c-67cb-40cf-88b2-58efb5184bbd\":{\"defs\":[{\"extends\":null,\"module\":null,\"name\":\"ReactiveHTML1\",\"overrides\":[],\"properties\":[]},{\"extends\":null,\"module\":null,\"name\":\"FlexBox1\",\"overrides\":[],\"properties\":[{\"default\":\"flex-start\",\"kind\":null,\"name\":\"align_content\"},{\"default\":\"flex-start\",\"kind\":null,\"name\":\"align_items\"},{\"default\":\"row\",\"kind\":null,\"name\":\"flex_direction\"},{\"default\":\"wrap\",\"kind\":null,\"name\":\"flex_wrap\"},{\"default\":\"flex-start\",\"kind\":null,\"name\":\"justify_content\"}]},{\"extends\":null,\"module\":null,\"name\":\"TemplateActions1\",\"overrides\":[],\"properties\":[{\"default\":0,\"kind\":null,\"name\":\"open_modal\"},{\"default\":0,\"kind\":null,\"name\":\"close_modal\"}]},{\"extends\":null,\"module\":null,\"name\":\"MaterialTemplateActions1\",\"overrides\":[],\"properties\":[{\"default\":0,\"kind\":null,\"name\":\"open_modal\"},{\"default\":0,\"kind\":null,\"name\":\"close_modal\"}]}],\"roots\":{\"references\":[{\"attributes\":{},\"id\":\"12955\",\"type\":\"AllLabels\"},{\"attributes\":{},\"id\":\"12957\",\"type\":\"BasicTickFormatter\"},{\"attributes\":{\"margin\":[5,5,5,5],\"name\":\"HSpacer24871\",\"sizing_mode\":\"stretch_width\"},\"id\":\"12978\",\"type\":\"Spacer\"},{\"attributes\":{},\"id\":\"12954\",\"type\":\"CategoricalTickFormatter\"},{\"attributes\":{},\"id\":\"12932\",\"type\":\"WheelZoomTool\"},{\"attributes\":{\"source\":{\"id\":\"12943\"}},\"id\":\"12950\",\"type\":\"CDSView\"},{\"attributes\":{\"axis_label\":\"Avg. Sale Price per Square Feet\",\"formatter\":{\"id\":\"12957\"},\"major_label_policy\":{\"id\":\"12955\"},\"ticker\":{\"id\":\"12927\"}},\"id\":\"12926\",\"type\":\"LinearAxis\"},{\"attributes\":{\"end\":929.3801355198136,\"reset_end\":929.3801355198136,\"reset_start\":0.0,\"tags\":[[[\"sale_price_sqr_foot\",\"sale_price_sqr_foot\",null]]]},\"id\":\"12912\",\"type\":\"Range1d\"},{\"attributes\":{\"fill_alpha\":{\"value\":0.2},\"fill_color\":{\"value\":\"#30a2da\"},\"line_alpha\":{\"value\":0.2},\"top\":{\"field\":\"sale_price_sqr_foot\"},\"width\":{\"value\":0.8},\"x\":{\"field\":\"neighborhood\"}},\"id\":\"12948\",\"type\":\"VBar\"},{\"attributes\":{\"overlay\":{\"id\":\"12935\"}},\"id\":\"12933\",\"type\":\"BoxZoomTool\"},{\"attributes\":{\"active_multi\":null,\"tools\":[{\"id\":\"12913\"},{\"id\":\"12930\"},{\"id\":\"12931\"},{\"id\":\"12932\"},{\"id\":\"12933\"},{\"id\":\"12934\"}]},\"id\":\"12936\",\"type\":\"Toolbar\"},{\"attributes\":{\"axis\":{\"id\":\"12923\"},\"grid_line_color\":null,\"ticker\":null},\"id\":\"12925\",\"type\":\"Grid\"},{\"attributes\":{\"axis\":{\"id\":\"12926\"},\"dimension\":1,\"grid_line_color\":null,\"ticker\":null},\"id\":\"12929\",\"type\":\"Grid\"},{\"attributes\":{\"data\":{\"neighborhood\":[\"Union Square District\",\"Merced Heights\",\"Miraloma Park\",\"Pacific Heights\",\"Westwood Park\",\"Telegraph Hill\",\"Presidio Heights\",\"Cow Hollow\",\"Potrero Hill\",\"South Beach\"],\"sale_price_sqr_foot\":{\"__ndarray__\":\"JRAUMfI/jEB9IrkvwqaIQFx/3pp8XohAFpsVUHKMhUBs0ERas3iFQL0KhXgNJIVAy835O80ahUANV25bts+EQJrMCuEbsIRAya3y7v5QhEA=\",\"dtype\":\"float64\",\"order\":\"little\",\"shape\":[10]}},\"selected\":{\"id\":\"12944\"},\"selection_policy\":{\"id\":\"12966\"}},\"id\":\"12943\",\"type\":\"ColumnDataSource\"},{\"attributes\":{},\"id\":\"12924\",\"type\":\"CategoricalTicker\"},{\"attributes\":{\"bottom_units\":\"screen\",\"fill_alpha\":0.5,\"fill_color\":\"lightgrey\",\"left_units\":\"screen\",\"level\":\"overlay\",\"line_alpha\":1.0,\"line_color\":\"black\",\"line_dash\":[4,4],\"line_width\":2,\"right_units\":\"screen\",\"syncable\":false,\"top_units\":\"screen\"},\"id\":\"12935\",\"type\":\"BoxAnnotation\"},{\"attributes\":{\"below\":[{\"id\":\"12923\"}],\"center\":[{\"id\":\"12925\"},{\"id\":\"12929\"}],\"height\":300,\"left\":[{\"id\":\"12926\"}],\"margin\":[5,5,5,5],\"min_border_bottom\":10,\"min_border_left\":10,\"min_border_right\":10,\"min_border_top\":10,\"renderers\":[{\"id\":\"12949\"}],\"sizing_mode\":\"fixed\",\"title\":{\"id\":\"12915\"},\"toolbar\":{\"id\":\"12936\"},\"width\":700,\"x_range\":{\"id\":\"12911\"},\"x_scale\":{\"id\":\"12919\"},\"y_range\":{\"id\":\"12912\"},\"y_scale\":{\"id\":\"12921\"}},\"id\":\"12914\",\"subtype\":\"Figure\",\"type\":\"Plot\"},{\"attributes\":{},\"id\":\"12930\",\"type\":\"SaveTool\"},{\"attributes\":{},\"id\":\"12919\",\"type\":\"CategoricalScale\"},{\"attributes\":{},\"id\":\"12931\",\"type\":\"PanTool\"},{\"attributes\":{},\"id\":\"12934\",\"type\":\"ResetTool\"},{\"attributes\":{},\"id\":\"12966\",\"type\":\"UnionRenderers\"},{\"attributes\":{\"fill_color\":{\"value\":\"#30a2da\"},\"top\":{\"field\":\"sale_price_sqr_foot\"},\"width\":{\"value\":0.8},\"x\":{\"field\":\"neighborhood\"}},\"id\":\"12946\",\"type\":\"VBar\"},{\"attributes\":{\"fill_alpha\":{\"value\":0.1},\"fill_color\":{\"value\":\"#30a2da\"},\"line_alpha\":{\"value\":0.1},\"top\":{\"field\":\"sale_price_sqr_foot\"},\"width\":{\"value\":0.8},\"x\":{\"field\":\"neighborhood\"}},\"id\":\"12947\",\"type\":\"VBar\"},{\"attributes\":{\"bottom\":{\"value\":0},\"fill_alpha\":{\"value\":1.0},\"fill_color\":{\"value\":\"#30a2da\"},\"hatch_alpha\":{\"value\":1.0},\"hatch_color\":{\"value\":\"black\"},\"hatch_scale\":{\"value\":12.0},\"hatch_weight\":{\"value\":1.0},\"line_alpha\":{\"value\":1.0},\"line_cap\":{\"value\":\"butt\"},\"line_color\":{\"value\":\"black\"},\"line_dash\":{\"value\":[]},\"line_dash_offset\":{\"value\":0},\"line_join\":{\"value\":\"bevel\"},\"line_width\":{\"value\":1},\"top\":{\"field\":\"sale_price_sqr_foot\"},\"width\":{\"value\":0.8},\"x\":{\"field\":\"neighborhood\"}},\"id\":\"12951\",\"type\":\"VBar\"},{\"attributes\":{},\"id\":\"12952\",\"type\":\"AllLabels\"},{\"attributes\":{\"margin\":[5,5,5,5],\"name\":\"HSpacer24870\",\"sizing_mode\":\"stretch_width\"},\"id\":\"12910\",\"type\":\"Spacer\"},{\"attributes\":{\"callback\":null,\"renderers\":[{\"id\":\"12949\"}],\"tags\":[\"hv_created\"],\"tooltips\":[[\"neighborhood\",\"@{neighborhood}\"],[\"sale_price_sqr_foot\",\"@{sale_price_sqr_foot}\"]]},\"id\":\"12913\",\"type\":\"HoverTool\"},{\"attributes\":{},\"id\":\"12927\",\"type\":\"BasicTicker\"},{\"attributes\":{\"text\":\"Top 10 Expensive Neighborhoods in SFO\",\"text_color\":\"black\",\"text_font_size\":\"12pt\"},\"id\":\"12915\",\"type\":\"Title\"},{\"attributes\":{\"children\":[{\"id\":\"12910\"},{\"id\":\"12914\"},{\"id\":\"12978\"}],\"margin\":[0,0,0,0],\"name\":\"Row24866\",\"tags\":[\"embedded\"]},\"id\":\"12909\",\"type\":\"Row\"},{\"attributes\":{\"factors\":[\"Union Square District\",\"Merced Heights\",\"Miraloma Park\",\"Pacific Heights\",\"Westwood Park\",\"Telegraph Hill\",\"Presidio Heights\",\"Cow Hollow\",\"Potrero Hill\",\"South Beach\"],\"tags\":[[[\"neighborhood\",\"neighborhood\",null]]]},\"id\":\"12911\",\"type\":\"FactorRange\"},{\"attributes\":{\"data_source\":{\"id\":\"12943\"},\"glyph\":{\"id\":\"12946\"},\"hover_glyph\":null,\"muted_glyph\":{\"id\":\"12948\"},\"nonselection_glyph\":{\"id\":\"12947\"},\"selection_glyph\":{\"id\":\"12951\"},\"view\":{\"id\":\"12950\"}},\"id\":\"12949\",\"type\":\"GlyphRenderer\"},{\"attributes\":{\"axis_label\":\"Neighborhood\",\"formatter\":{\"id\":\"12954\"},\"major_label_orientation\":1.5707963267948966,\"major_label_policy\":{\"id\":\"12952\"},\"ticker\":{\"id\":\"12924\"}},\"id\":\"12923\",\"type\":\"CategoricalAxis\"},{\"attributes\":{},\"id\":\"12944\",\"type\":\"Selection\"},{\"attributes\":{},\"id\":\"12921\",\"type\":\"LinearScale\"}],\"root_ids\":[\"12909\"]},\"title\":\"Bokeh Application\",\"version\":\"2.3.3\"}};\n",
       "    var render_items = [{\"docid\":\"3f89f95c-67cb-40cf-88b2-58efb5184bbd\",\"root_ids\":[\"12909\"],\"roots\":{\"12909\":\"7eade4e4-a24b-4ef7-8f72-2c9c527b956a\"}}];\n",
       "    root.Bokeh.embed.embed_items_notebook(docs_json, render_items);\n",
       "  }\n",
       "  if (root.Bokeh !== undefined && root.Bokeh.Panel !== undefined && ( root['Plotly'] !== undefined)) {\n",
       "    embed_document(root);\n",
       "  } else {\n",
       "    var attempts = 0;\n",
       "    var timer = setInterval(function(root) {\n",
       "      if (root.Bokeh !== undefined && root.Bokeh.Panel !== undefined && (root['Plotly'] !== undefined)) {\n",
       "        clearInterval(timer);\n",
       "        embed_document(root);\n",
       "      } else if (document.readyState == \"complete\") {\n",
       "        attempts++;\n",
       "        if (attempts > 200) {\n",
       "          clearInterval(timer);\n",
       "          console.log(\"Bokeh: ERROR: Unable to run BokehJS code because BokehJS library is missing\");\n",
       "        }\n",
       "      }\n",
       "    }, 25, root)\n",
       "  }\n",
       "})(window);</script>"
      ],
      "text/plain": [
       ":Bars   [neighborhood]   (sale_price_sqr_foot)"
      ]
     },
     "execution_count": 312,
     "metadata": {
      "application/vnd.holoviews_exec.v0+json": {
       "id": "12909"
      }
     },
     "output_type": "execute_result"
    }
   ],
   "source": [
    "# Plotting the data from the top 10 expensive neighborhoods\n",
    "top_10_bar_plot = top_10.hvplot.bar(title='Top 10 Expensive Neighborhoods in SFO', xlabel='Neighborhood', ylabel='Avg. Sale Price per Square Feet', rot=90)\n",
    "top_10_bar_plot"
   ]
  },
  {
   "cell_type": "markdown",
   "id": "81ee4dfe",
   "metadata": {},
   "source": [
    "## Comparing cost to purchase versus rental income\n",
    "\n",
    "In this section, you will use `hvplot` to create an interactive visualization with a dropdown selector for the neighborhood. This visualization will feature a side-by-side comparison of average price per square foot versus average montly rent by year.  \n",
    "\n",
    "**Hint:** Use the `hvplot` parameter, `groupby`, to create a dropdown selector for the neighborhood."
   ]
  },
  {
   "cell_type": "code",
   "execution_count": 313,
   "id": "8968c924",
   "metadata": {},
   "outputs": [
    {
     "data": {
      "text/html": [
       "<div>\n",
       "<style scoped>\n",
       "    .dataframe tbody tr th:only-of-type {\n",
       "        vertical-align: middle;\n",
       "    }\n",
       "\n",
       "    .dataframe tbody tr th {\n",
       "        vertical-align: top;\n",
       "    }\n",
       "\n",
       "    .dataframe thead th {\n",
       "        text-align: right;\n",
       "    }\n",
       "</style>\n",
       "<table border=\"1\" class=\"dataframe\">\n",
       "  <thead>\n",
       "    <tr style=\"text-align: right;\">\n",
       "      <th></th>\n",
       "      <th>year</th>\n",
       "      <th>neighborhood</th>\n",
       "      <th>sale_price_sqr_foot</th>\n",
       "      <th>housing_units</th>\n",
       "      <th>gross_rent</th>\n",
       "    </tr>\n",
       "  </thead>\n",
       "  <tbody>\n",
       "    <tr>\n",
       "      <th>0</th>\n",
       "      <td>2010</td>\n",
       "      <td>Alamo Square</td>\n",
       "      <td>291.182945</td>\n",
       "      <td>372560</td>\n",
       "      <td>1239</td>\n",
       "    </tr>\n",
       "    <tr>\n",
       "      <th>1</th>\n",
       "      <td>2010</td>\n",
       "      <td>Anza Vista</td>\n",
       "      <td>267.932583</td>\n",
       "      <td>372560</td>\n",
       "      <td>1239</td>\n",
       "    </tr>\n",
       "    <tr>\n",
       "      <th>2</th>\n",
       "      <td>2010</td>\n",
       "      <td>Bayview</td>\n",
       "      <td>170.098665</td>\n",
       "      <td>372560</td>\n",
       "      <td>1239</td>\n",
       "    </tr>\n",
       "    <tr>\n",
       "      <th>3</th>\n",
       "      <td>2010</td>\n",
       "      <td>Buena Vista Park</td>\n",
       "      <td>347.394919</td>\n",
       "      <td>372560</td>\n",
       "      <td>1239</td>\n",
       "    </tr>\n",
       "    <tr>\n",
       "      <th>4</th>\n",
       "      <td>2010</td>\n",
       "      <td>Central Richmond</td>\n",
       "      <td>319.027623</td>\n",
       "      <td>372560</td>\n",
       "      <td>1239</td>\n",
       "    </tr>\n",
       "  </tbody>\n",
       "</table>\n",
       "</div>"
      ],
      "text/plain": [
       "   year      neighborhood  sale_price_sqr_foot  housing_units  gross_rent\n",
       "0  2010      Alamo Square           291.182945         372560        1239\n",
       "1  2010        Anza Vista           267.932583         372560        1239\n",
       "2  2010           Bayview           170.098665         372560        1239\n",
       "3  2010  Buena Vista Park           347.394919         372560        1239\n",
       "4  2010  Central Richmond           319.027623         372560        1239"
      ]
     },
     "execution_count": 313,
     "metadata": {},
     "output_type": "execute_result"
    }
   ],
   "source": [
    "# Preview data from previous dataframe that grouped by year and neighborhood\n",
    "avg_price_by_nbhd.head()"
   ]
  },
  {
   "cell_type": "code",
   "execution_count": 314,
   "id": "3bb072bf",
   "metadata": {},
   "outputs": [
    {
     "data": {},
     "metadata": {},
     "output_type": "display_data"
    },
    {
     "data": {},
     "metadata": {},
     "output_type": "display_data"
    },
    {
     "data": {
      "application/vnd.holoviews_exec.v0+json": "",
      "text/html": [
       "<div id='13030'>\n",
       "\n",
       "\n",
       "\n",
       "\n",
       "\n",
       "  <div class=\"bk-root\" id=\"0cfa05ad-b98d-4084-b0dd-15f1ae7c78be\" data-root-id=\"13030\"></div>\n",
       "</div>\n",
       "<script type=\"application/javascript\">(function(root) {\n",
       "  function embed_document(root) {\n",
       "    var docs_json = {\"186d5415-e3ca-4600-b5a0-200fdf407967\":{\"defs\":[{\"extends\":null,\"module\":null,\"name\":\"ReactiveHTML1\",\"overrides\":[],\"properties\":[]},{\"extends\":null,\"module\":null,\"name\":\"FlexBox1\",\"overrides\":[],\"properties\":[{\"default\":\"flex-start\",\"kind\":null,\"name\":\"align_content\"},{\"default\":\"flex-start\",\"kind\":null,\"name\":\"align_items\"},{\"default\":\"row\",\"kind\":null,\"name\":\"flex_direction\"},{\"default\":\"wrap\",\"kind\":null,\"name\":\"flex_wrap\"},{\"default\":\"flex-start\",\"kind\":null,\"name\":\"justify_content\"}]},{\"extends\":null,\"module\":null,\"name\":\"TemplateActions1\",\"overrides\":[],\"properties\":[{\"default\":0,\"kind\":null,\"name\":\"open_modal\"},{\"default\":0,\"kind\":null,\"name\":\"close_modal\"}]},{\"extends\":null,\"module\":null,\"name\":\"MaterialTemplateActions1\",\"overrides\":[],\"properties\":[{\"default\":0,\"kind\":null,\"name\":\"open_modal\"},{\"default\":0,\"kind\":null,\"name\":\"close_modal\"}]}],\"roots\":{\"references\":[{\"attributes\":{\"children\":[{\"id\":\"13037\"}],\"margin\":[0,0,0,0],\"name\":\"Row25071\"},\"id\":\"13033\",\"type\":\"Row\"},{\"attributes\":{},\"id\":\"13042\",\"type\":\"CategoricalScale\"},{\"attributes\":{\"data\":{\"Variable\":[\"sale_price_sqr_foot\",\"sale_price_sqr_foot\",\"sale_price_sqr_foot\",\"sale_price_sqr_foot\",\"sale_price_sqr_foot\",\"sale_price_sqr_foot\",\"sale_price_sqr_foot\",\"gross_rent\",\"gross_rent\",\"gross_rent\",\"gross_rent\",\"gross_rent\",\"gross_rent\",\"gross_rent\"],\"value\":{\"__ndarray__\":\"Dkc7WO0yckCafszcbwhxQIGRs5ot42ZAJzog0LQ8eEAWMinKGEd+QI0V5FDt0IJAVCHcmLVPdUAAAAAAAFyTQAAAAAAA6JdAAAAAAAAookAAAAAAADanQAAAAAAAkKtAAAAAAAA2rUAAAAAAACaxQA==\",\"dtype\":\"float64\",\"order\":\"little\",\"shape\":[14]},\"xoffsets\":[[\"2010\",\"sale_price_sqr_foot\"],[\"2011\",\"sale_price_sqr_foot\"],[\"2012\",\"sale_price_sqr_foot\"],[\"2013\",\"sale_price_sqr_foot\"],[\"2014\",\"sale_price_sqr_foot\"],[\"2015\",\"sale_price_sqr_foot\"],[\"2016\",\"sale_price_sqr_foot\"],[\"2010\",\"gross_rent\"],[\"2011\",\"gross_rent\"],[\"2012\",\"gross_rent\"],[\"2013\",\"gross_rent\"],[\"2014\",\"gross_rent\"],[\"2015\",\"gross_rent\"],[\"2016\",\"gross_rent\"]],\"year\":[\"2010\",\"2011\",\"2012\",\"2013\",\"2014\",\"2015\",\"2016\",\"2010\",\"2011\",\"2012\",\"2013\",\"2014\",\"2015\",\"2016\"]},\"selected\":{\"id\":\"13068\"},\"selection_policy\":{\"id\":\"13090\"}},\"id\":\"13067\",\"type\":\"ColumnDataSource\"},{\"attributes\":{},\"id\":\"13054\",\"type\":\"PanTool\"},{\"attributes\":{},\"id\":\"13068\",\"type\":\"Selection\"},{\"attributes\":{\"factors\":[\"sale_price_sqr_foot\",\"gross_rent\"],\"palette\":[\"#30a2da\",\"#fc4f30\"]},\"id\":\"13066\",\"type\":\"CategoricalColorMapper\"},{\"attributes\":{\"axis\":{\"id\":\"13049\"},\"dimension\":1,\"grid_line_color\":null,\"ticker\":null},\"id\":\"13052\",\"type\":\"Grid\"},{\"attributes\":{},\"id\":\"13079\",\"type\":\"AllLabels\"},{\"attributes\":{},\"id\":\"13057\",\"type\":\"ResetTool\"},{\"attributes\":{\"margin\":[5,10,5,10],\"options\":[\"Alamo Square\",\"Anza Vista\",\"Bayview\",\"Bayview Heights\",\"Bernal Heights \",\"Buena Vista Park\",\"Central Richmond\",\"Central Sunset\",\"Clarendon Heights\",\"Corona Heights\",\"Cow Hollow\",\"Croker Amazon\",\"Diamond Heights\",\"Downtown \",\"Duboce Triangle\",\"Eureka Valley/Dolores Heights\",\"Excelsior\",\"Financial District North\",\"Financial District South\",\"Forest Knolls\",\"Glen Park\",\"Golden Gate Heights\",\"Haight Ashbury\",\"Hayes Valley\",\"Hunters Point\",\"Ingleside \",\"Ingleside Heights\",\"Inner Mission\",\"Inner Parkside\",\"Inner Richmond\",\"Inner Sunset\",\"Jordan Park/Laurel Heights\",\"Lake --The Presidio\",\"Lone Mountain\",\"Lower Pacific Heights\",\"Marina\",\"Merced Heights\",\"Midtown Terrace\",\"Miraloma Park\",\"Mission Bay\",\"Mission Dolores\",\"Mission Terrace\",\"Nob Hill\",\"Noe Valley\",\"North Beach\",\"North Waterfront\",\"Oceanview\",\"Outer Mission\",\"Outer Parkside\",\"Outer Richmond \",\"Outer Sunset\",\"Pacific Heights\",\"Park North\",\"Parkside\",\"Parnassus/Ashbury Heights\",\"Portola\",\"Potrero Hill\",\"Presidio Heights\",\"Russian Hill\",\"Silver Terrace\",\"South Beach\",\"South of Market\",\"Sunnyside\",\"Telegraph Hill\",\"Twin Peaks\",\"Union Square District\",\"Van Ness/ Civic Center\",\"Visitacion Valley\",\"West Portal\",\"Western Addition\",\"Westwood Highlands\",\"Westwood Park\",\"Yerba Buena\"],\"title\":\"neighborhood\",\"value\":\"Alamo Square\"},\"id\":\"13032\",\"type\":\"Select\"},{\"attributes\":{},\"id\":\"13076\",\"type\":\"AllLabels\"},{\"attributes\":{},\"id\":\"13053\",\"type\":\"SaveTool\"},{\"attributes\":{\"active_multi\":null,\"tools\":[{\"id\":\"13036\"},{\"id\":\"13053\"},{\"id\":\"13054\"},{\"id\":\"13055\"},{\"id\":\"13056\"},{\"id\":\"13057\"}]},\"id\":\"13059\",\"type\":\"Toolbar\"},{\"attributes\":{\"fill_color\":{\"field\":\"Variable\",\"transform\":{\"id\":\"13066\"}},\"top\":{\"field\":\"value\"},\"width\":{\"value\":0.8},\"x\":{\"field\":\"xoffsets\"}},\"id\":\"13070\",\"type\":\"VBar\"},{\"attributes\":{},\"id\":\"13050\",\"type\":\"BasicTicker\"},{\"attributes\":{},\"id\":\"13055\",\"type\":\"WheelZoomTool\"},{\"attributes\":{\"bottom\":{\"value\":0},\"fill_alpha\":{\"value\":1.0},\"fill_color\":{\"field\":\"Variable\",\"transform\":{\"id\":\"13066\"}},\"hatch_alpha\":{\"value\":1.0},\"hatch_color\":{\"value\":\"black\"},\"hatch_scale\":{\"value\":12.0},\"hatch_weight\":{\"value\":1.0},\"line_alpha\":{\"value\":1.0},\"line_cap\":{\"value\":\"butt\"},\"line_color\":{\"value\":\"black\"},\"line_dash\":{\"value\":[]},\"line_dash_offset\":{\"value\":0},\"line_join\":{\"value\":\"bevel\"},\"line_width\":{\"value\":1},\"top\":{\"field\":\"value\"},\"width\":{\"value\":0.8},\"x\":{\"field\":\"xoffsets\"}},\"id\":\"13075\",\"type\":\"VBar\"},{\"attributes\":{\"overlay\":{\"id\":\"13058\"}},\"id\":\"13056\",\"type\":\"BoxZoomTool\"},{\"attributes\":{\"children\":[{\"id\":\"13031\"},{\"id\":\"13033\"}],\"margin\":[0,0,0,0],\"name\":\"Column24942\"},\"id\":\"13030\",\"type\":\"Column\"},{\"attributes\":{\"axis\":{\"id\":\"13046\"},\"grid_line_color\":null,\"ticker\":null},\"id\":\"13048\",\"type\":\"Grid\"},{\"attributes\":{\"callback\":null,\"renderers\":[{\"id\":\"13073\"}],\"tags\":[\"hv_created\"],\"tooltips\":[[\"year\",\"@{year}\"],[\"Variable\",\"@{Variable}\"],[\"value\",\"@{value}\"]]},\"id\":\"13036\",\"type\":\"HoverTool\"},{\"attributes\":{\"end\":4810.690068306854,\"reset_end\":4810.690068306854,\"reset_start\":0.0,\"tags\":[[[\"value\",\"value\",null]]]},\"id\":\"13035\",\"type\":\"Range1d\"},{\"attributes\":{\"fill_alpha\":{\"value\":0.1},\"fill_color\":{\"field\":\"Variable\",\"transform\":{\"id\":\"13066\"}},\"line_alpha\":{\"value\":0.1},\"top\":{\"field\":\"value\"},\"width\":{\"value\":0.8},\"x\":{\"field\":\"xoffsets\"}},\"id\":\"13071\",\"type\":\"VBar\"},{\"attributes\":{},\"id\":\"13090\",\"type\":\"UnionRenderers\"},{\"attributes\":{\"client_comm_id\":\"ac20043a7dab44fe800d39d5a01d5ebd\",\"comm_id\":\"a973a921886f4bd1a221779961f0661c\",\"plot_id\":\"13030\"},\"id\":\"13132\",\"type\":\"panel.models.comm_manager.CommManager\"},{\"attributes\":{\"axis_label\":\"Yaer\",\"formatter\":{\"id\":\"13078\"},\"major_label_orientation\":1.5707963267948966,\"major_label_policy\":{\"id\":\"13076\"},\"ticker\":{\"id\":\"13047\"}},\"id\":\"13046\",\"type\":\"CategoricalAxis\"},{\"attributes\":{},\"id\":\"13044\",\"type\":\"LinearScale\"},{\"attributes\":{\"fill_alpha\":{\"value\":0.2},\"fill_color\":{\"field\":\"Variable\",\"transform\":{\"id\":\"13066\"}},\"line_alpha\":{\"value\":0.2},\"top\":{\"field\":\"value\"},\"width\":{\"value\":0.8},\"x\":{\"field\":\"xoffsets\"}},\"id\":\"13072\",\"type\":\"VBar\"},{\"attributes\":{\"source\":{\"id\":\"13067\"}},\"id\":\"13074\",\"type\":\"CDSView\"},{\"attributes\":{\"text\":\"Average Price Per Sqft vs. Average Monthly Rent in Alamo Square\",\"text_color\":\"black\",\"text_font_size\":\"12pt\"},\"id\":\"13038\",\"type\":\"Title\"},{\"attributes\":{\"factors\":[[\"2010\",\"gross_rent\"],[\"2010\",\"sale_price_sqr_foot\"],[\"2011\",\"gross_rent\"],[\"2011\",\"sale_price_sqr_foot\"],[\"2012\",\"gross_rent\"],[\"2012\",\"sale_price_sqr_foot\"],[\"2013\",\"gross_rent\"],[\"2013\",\"sale_price_sqr_foot\"],[\"2014\",\"gross_rent\"],[\"2014\",\"sale_price_sqr_foot\"],[\"2015\",\"gross_rent\"],[\"2015\",\"sale_price_sqr_foot\"],[\"2016\",\"gross_rent\"],[\"2016\",\"sale_price_sqr_foot\"]],\"tags\":[[[\"year\",\"year\",null],[\"Variable\",\"Variable\",null]]]},\"id\":\"13034\",\"type\":\"FactorRange\"},{\"attributes\":{},\"id\":\"13078\",\"type\":\"CategoricalTickFormatter\"},{\"attributes\":{},\"id\":\"13047\",\"type\":\"CategoricalTicker\"},{\"attributes\":{\"data_source\":{\"id\":\"13067\"},\"glyph\":{\"id\":\"13070\"},\"hover_glyph\":null,\"muted_glyph\":{\"id\":\"13072\"},\"nonselection_glyph\":{\"id\":\"13071\"},\"selection_glyph\":{\"id\":\"13075\"},\"view\":{\"id\":\"13074\"}},\"id\":\"13073\",\"type\":\"GlyphRenderer\"},{\"attributes\":{\"bottom_units\":\"screen\",\"fill_alpha\":0.5,\"fill_color\":\"lightgrey\",\"left_units\":\"screen\",\"level\":\"overlay\",\"line_alpha\":1.0,\"line_color\":\"black\",\"line_dash\":[4,4],\"line_width\":2,\"right_units\":\"screen\",\"syncable\":false,\"top_units\":\"screen\"},\"id\":\"13058\",\"type\":\"BoxAnnotation\"},{\"attributes\":{\"children\":[{\"id\":\"13032\"}],\"margin\":[0,0,0,0],\"name\":\"Column25072\"},\"id\":\"13031\",\"type\":\"Column\"},{\"attributes\":{},\"id\":\"13081\",\"type\":\"BasicTickFormatter\"},{\"attributes\":{\"below\":[{\"id\":\"13046\"}],\"center\":[{\"id\":\"13048\"},{\"id\":\"13052\"}],\"height\":500,\"left\":[{\"id\":\"13049\"}],\"margin\":[5,5,5,5],\"min_border_bottom\":10,\"min_border_left\":10,\"min_border_right\":10,\"min_border_top\":10,\"renderers\":[{\"id\":\"13073\"}],\"sizing_mode\":\"fixed\",\"title\":{\"id\":\"13038\"},\"toolbar\":{\"id\":\"13059\"},\"width\":700,\"x_range\":{\"id\":\"13034\"},\"x_scale\":{\"id\":\"13042\"},\"y_range\":{\"id\":\"13035\"},\"y_scale\":{\"id\":\"13044\"}},\"id\":\"13037\",\"subtype\":\"Figure\",\"type\":\"Plot\"},{\"attributes\":{\"axis_label\":\"US Dollars\",\"formatter\":{\"id\":\"13081\"},\"major_label_policy\":{\"id\":\"13079\"},\"ticker\":{\"id\":\"13050\"}},\"id\":\"13049\",\"type\":\"LinearAxis\"}],\"root_ids\":[\"13030\",\"13132\"]},\"title\":\"Bokeh Application\",\"version\":\"2.3.3\"}};\n",
       "    var render_items = [{\"docid\":\"186d5415-e3ca-4600-b5a0-200fdf407967\",\"root_ids\":[\"13030\"],\"roots\":{\"13030\":\"0cfa05ad-b98d-4084-b0dd-15f1ae7c78be\"}}];\n",
       "    root.Bokeh.embed.embed_items_notebook(docs_json, render_items);\n",
       "  }\n",
       "  if (root.Bokeh !== undefined && root.Bokeh.Panel !== undefined && ( root['Plotly'] !== undefined)) {\n",
       "    embed_document(root);\n",
       "  } else {\n",
       "    var attempts = 0;\n",
       "    var timer = setInterval(function(root) {\n",
       "      if (root.Bokeh !== undefined && root.Bokeh.Panel !== undefined && (root['Plotly'] !== undefined)) {\n",
       "        clearInterval(timer);\n",
       "        embed_document(root);\n",
       "      } else if (document.readyState == \"complete\") {\n",
       "        attempts++;\n",
       "        if (attempts > 200) {\n",
       "          clearInterval(timer);\n",
       "          console.log(\"Bokeh: ERROR: Unable to run BokehJS code because BokehJS library is missing\");\n",
       "        }\n",
       "      }\n",
       "    }, 25, root)\n",
       "  }\n",
       "})(window);</script>"
      ],
      "text/plain": [
       "Column\n",
       "    [0] Column\n",
       "        [0] Select(name='neighborhood', options=['Alamo Square', ...], value='Alamo Square')\n",
       "    [1] Row\n",
       "        [0] HoloViews(Bars, name='interactive24941')"
      ]
     },
     "execution_count": 314,
     "metadata": {
      "application/vnd.holoviews_exec.v0+json": {
       "id": "13030"
      }
     },
     "output_type": "execute_result"
    }
   ],
   "source": [
    "# \n",
    "def cost_vs_rent(neighborhood):\n",
    "    df = avg_price_by_nbhd[avg_price_by_nbhd['neighborhood'] == neighborhood]\n",
    "    df.drop(labels=['neighborhood', 'housing_units'], axis=1, inplace=True)\n",
    "    df = df.set_index('year')\n",
    "    bar_chart = df.hvplot.bar()\n",
    "    bar_chart = df.hvplot.bar(title='Average Price Per Sqft vs. Average Monthly Rent in ' + neighborhood, xlabel='Yaer', ylabel='US Dollars', rot=90, height=500)\n",
    "    \n",
    "    return bar_chart\n",
    "\n",
    "interact(cost_vs_rent, neighborhood=all_nbhds)"
   ]
  },
  {
   "cell_type": "markdown",
   "id": "0d80999d",
   "metadata": {},
   "source": [
    "## Neighborhood Map\n",
    "\n",
    "In this section, you will read in neighborhoods location data and build an interactive map with the average house value per neighborhood. Use a `scatter_mapbox` from Plotly express to create the visualization. Remember, you will need your Mapbox API key for this."
   ]
  },
  {
   "cell_type": "code",
   "execution_count": 315,
   "id": "94922872",
   "metadata": {},
   "outputs": [
    {
     "data": {
      "text/html": [
       "<div>\n",
       "<style scoped>\n",
       "    .dataframe tbody tr th:only-of-type {\n",
       "        vertical-align: middle;\n",
       "    }\n",
       "\n",
       "    .dataframe tbody tr th {\n",
       "        vertical-align: top;\n",
       "    }\n",
       "\n",
       "    .dataframe thead th {\n",
       "        text-align: right;\n",
       "    }\n",
       "</style>\n",
       "<table border=\"1\" class=\"dataframe\">\n",
       "  <thead>\n",
       "    <tr style=\"text-align: right;\">\n",
       "      <th></th>\n",
       "      <th>neighborhood</th>\n",
       "      <th>sale_price_sqr_foot</th>\n",
       "      <th>housing_units</th>\n",
       "      <th>gross_rent</th>\n",
       "      <th>Lat</th>\n",
       "      <th>Lon</th>\n",
       "    </tr>\n",
       "  </thead>\n",
       "  <tbody>\n",
       "    <tr>\n",
       "      <th>0</th>\n",
       "      <td>Alamo Square</td>\n",
       "      <td>366.020712</td>\n",
       "      <td>378401.0</td>\n",
       "      <td>2817.285714</td>\n",
       "      <td>37.791012</td>\n",
       "      <td>-122.402100</td>\n",
       "    </tr>\n",
       "    <tr>\n",
       "      <th>1</th>\n",
       "      <td>Anza Vista</td>\n",
       "      <td>373.382198</td>\n",
       "      <td>379050.0</td>\n",
       "      <td>3031.833333</td>\n",
       "      <td>37.779598</td>\n",
       "      <td>-122.443451</td>\n",
       "    </tr>\n",
       "    <tr>\n",
       "      <th>2</th>\n",
       "      <td>Bayview</td>\n",
       "      <td>204.588623</td>\n",
       "      <td>376454.0</td>\n",
       "      <td>2318.400000</td>\n",
       "      <td>37.734670</td>\n",
       "      <td>-122.401060</td>\n",
       "    </tr>\n",
       "    <tr>\n",
       "      <th>3</th>\n",
       "      <td>Bayview Heights</td>\n",
       "      <td>590.792839</td>\n",
       "      <td>382295.0</td>\n",
       "      <td>3739.000000</td>\n",
       "      <td>37.728740</td>\n",
       "      <td>-122.410980</td>\n",
       "    </tr>\n",
       "    <tr>\n",
       "      <th>4</th>\n",
       "      <td>Buena Vista Park</td>\n",
       "      <td>452.680591</td>\n",
       "      <td>378076.5</td>\n",
       "      <td>2698.833333</td>\n",
       "      <td>37.768160</td>\n",
       "      <td>-122.439330</td>\n",
       "    </tr>\n",
       "  </tbody>\n",
       "</table>\n",
       "</div>"
      ],
      "text/plain": [
       "       neighborhood  sale_price_sqr_foot  housing_units   gross_rent  \\\n",
       "0      Alamo Square           366.020712       378401.0  2817.285714   \n",
       "1        Anza Vista           373.382198       379050.0  3031.833333   \n",
       "2           Bayview           204.588623       376454.0  2318.400000   \n",
       "3   Bayview Heights           590.792839       382295.0  3739.000000   \n",
       "4  Buena Vista Park           452.680591       378076.5  2698.833333   \n",
       "\n",
       "         Lat         Lon  \n",
       "0  37.791012 -122.402100  \n",
       "1  37.779598 -122.443451  \n",
       "2  37.734670 -122.401060  \n",
       "3  37.728740 -122.410980  \n",
       "4  37.768160 -122.439330  "
      ]
     },
     "execution_count": 315,
     "metadata": {},
     "output_type": "execute_result"
    }
   ],
   "source": [
    "# Load neighborhoods coordinates data\n",
    "coor_path = Path(\"../Data/neighborhoods_coordinates.csv\")\n",
    "coor_data = pd.read_csv(coor_path)\n",
    "\n",
    "# Rename neighborhood column to match both dfs\n",
    "coor_data.rename(columns={'Neighborhood': 'neighborhood'}, inplace=True)\n",
    "\n",
    "# Merge dfs and drop year, then groupby neighborhood and get avg vals\n",
    "combined_df = pd.merge(avg_price_by_nbhd, coor_data, on='neighborhood')\n",
    "combined_df.drop(labels=['year'], axis=1, inplace=True)\n",
    "combined_df = combined_df.groupby(['neighborhood']).mean().reset_index()\n",
    "combined_df.head()"
   ]
  },
  {
   "cell_type": "code",
   "execution_count": 351,
   "id": "5451306c",
   "metadata": {},
   "outputs": [
    {
     "data": {
      "application/vnd.plotly.v1+json": {
       "config": {
        "plotlyServerURL": "https://plot.ly"
       },
       "data": [
        {
         "hovertemplate": "sale_price_sqr_foot=%{marker.size}<br>Lat=%{lat}<br>Lon=%{lon}<br>gross_rent=%{marker.color}<extra></extra>",
         "lat": [
          37.791012,
          37.779598,
          37.73467,
          37.72874,
          37.768159999999995,
          37.777890000000006,
          37.74961,
          37.75331,
          37.78553,
          37.79298,
          37.7228,
          37.728629999999995,
          37.76964,
          37.75554,
          37.72874000000001,
          37.79100999999999,
          37.79101,
          37.757059999999996,
          37.72863,
          37.757912,
          37.76525,
          37.76525,
          37.72551,
          37.72116,
          37.754160000000006,
          37.74961,
          37.769112,
          37.74961,
          37.78553,
          37.801520000000004,
          37.7789,
          37.79298,
          37.79972,
          37.71993,
          37.75331,
          37.73415,
          37.783229999999996,
          37.75184000000001,
          37.728629999999995,
          37.79298,
          37.75331,
          37.80055,
          37.80055,
          37.71993,
          37.7228,
          37.75169999999999,
          37.74961,
          37.79298,
          37.72838000000001,
          37.74961,
          37.76355,
          37.73467,
          37.73196000000001,
          37.78553,
          37.79298,
          37.73467,
          37.783229999999996,
          37.79100999999999,
          37.73415,
          37.800549999999994,
          37.753311,
          37.79101,
          37.779509999999995,
          37.72874,
          37.74026,
          37.79298,
          37.7347,
          37.73415,
          37.79298
         ],
         "legendgroup": "",
         "lon": [
          -122.4021,
          -122.443451,
          -122.40106,
          -122.41098000000001,
          -122.43933,
          -122.44516999999998,
          -122.48999,
          -122.44703,
          -122.45599999999999,
          -122.43579,
          -122.43869,
          -122.44305,
          -122.42611000000001,
          -122.43778999999998,
          -122.41098000000001,
          -122.4021,
          -122.40209999999999,
          -122.45508999999998,
          -122.44304999999999,
          -122.46401999999998,
          -122.43596000000001,
          -122.43596000000001,
          -122.37178,
          -122.48706999999999,
          -122.41947000000002,
          -122.48998999999999,
          -122.483566,
          -122.48996999999999,
          -122.456,
          -122.45456999999999,
          -122.45496000000001,
          -122.43579,
          -122.46689,
          -122.46595,
          -122.44703,
          -122.45700000000001,
          -122.40065,
          -122.42521999999998,
          -122.44305,
          -122.43579,
          -122.44703000000001,
          -122.40433,
          -122.40433,
          -122.46595,
          -122.43869,
          -122.44600000000001,
          -122.48999,
          -122.43579,
          -122.47851000000001,
          -122.48998999999999,
          -122.45765000000003,
          -122.40106,
          -122.38323999999999,
          -122.456,
          -122.43579,
          -122.40106000000002,
          -122.40065,
          -122.4021,
          -122.45700000000001,
          -122.40432999999999,
          -122.44702900000001,
          -122.4021,
          -122.42021999999999,
          -122.41098000000001,
          -122.46388,
          -122.43579,
          -122.456854,
          -122.45700000000001,
          -122.39636
         ],
         "marker": {
          "color": [
           2817.285714285714,
           3031.8333333333335,
           2318.4,
           3739,
           2698.8333333333335,
           2817.285714285714,
           2817.285714285714,
           2250.5,
           2472,
           2817.285714285714,
           2698.8333333333335,
           2016,
           2780.25,
           2817.285714285714,
           3031.8333333333335,
           2817.285714285714,
           2472,
           1781.5,
           2899.5,
           2601.4,
           2817.285714285714,
           2817.285714285714,
           2489,
           2960,
           2817.285714285714,
           3224,
           2817.285714285714,
           2817.285714285714,
           2817.285714285714,
           2555.1666666666665,
           2555.1666666666665,
           2817.285714285714,
           2817.285714285714,
           3414,
           2647.5,
           2155.25,
           2663.6666666666665,
           2555.1666666666665,
           3173.4,
           2817.285714285714,
           2817.285714285714,
           2990.8,
           2818.4,
           2434,
           2995.75,
           2817.285714285714,
           2817.285714285714,
           2817.285714285714,
           2817.285714285714,
           2555.1666666666665,
           2817.285714285714,
           2318.4,
           2817.285714285714,
           2817.285714285714,
           2817.285714285714,
           3528,
           2099,
           2817.285714285714,
           2899.5,
           2817.285714285714,
           2817.285714285714,
           2555.1666666666665,
           2817.285714285714,
           3657,
           2515.5,
           2555.1666666666665,
           2250.5,
           3959,
           2555.1666666666665
          ],
          "coloraxis": "coloraxis",
          "size": [
           366.02071153227644,
           373.38219782647707,
           204.58862288246596,
           590.7928388746802,
           452.6805909308442,
           394.4223987800589,
           423.6879277015824,
           487.2448860262575,
           587.5390673661739,
           665.964041578323,
           303.00418440849427,
           434.99173944522124,
           502.59915555623616,
           642.2486706357391,
           388.76592700230754,
           391.36253308010487,
           455.83621223779153,
           321.84083657398736,
           623.826177537435,
           639.3935574881156,
           449.5447622856192,
           355.9328279480578,
           170.62491987132685,
           384.7979281346048,
           397.67371473613446,
           519.3856038526768,
           378.59431396136455,
           413.66751546215943,
           529.3841850673389,
           409.95435219297514,
           478.2285530213679,
           539.2379688783261,
           583.7492694814549,
           788.8448175872469,
           550.5103482917151,
           779.810842264425,
           566.1922135483312,
           418.9156225067234,
           523.4662013248023,
           458.2040944846015,
           542.4429128151736,
           411.646875881678,
           498.26975500787677,
           330.0973846552545,
           242.37095202049667,
           485.0270126111035,
           394.21903228550775,
           689.5558168113664,
           373.732856371763,
           336.172661037069,
           632.740453508577,
           327.11392534647274,
           662.0136128276529,
           675.3502120510033,
           608.9832172374425,
           170.2925485152069,
           650.1244791945729,
           570.2714266991686,
           528.3183317138463,
           676.5065775293257,
           469.39862649935156,
           903.9932576720645,
           404.1501801622257,
           301.46617997450267,
           498.4884848295011,
           307.56220097996066,
           533.7039354359513,
           687.0875745178323,
           576.709848378276
          ],
          "sizemode": "area",
          "sizeref": 2.259983144180161
         },
         "mode": "markers",
         "name": "",
         "showlegend": false,
         "subplot": "mapbox",
         "type": "scattermapbox"
        }
       ],
       "layout": {
        "coloraxis": {
         "colorbar": {
          "title": {
           "text": "gross_rent"
          }
         },
         "colorscale": [
          [
           0,
           "#0d0887"
          ],
          [
           0.1111111111111111,
           "#46039f"
          ],
          [
           0.2222222222222222,
           "#7201a8"
          ],
          [
           0.3333333333333333,
           "#9c179e"
          ],
          [
           0.4444444444444444,
           "#bd3786"
          ],
          [
           0.5555555555555556,
           "#d8576b"
          ],
          [
           0.6666666666666666,
           "#ed7953"
          ],
          [
           0.7777777777777778,
           "#fb9f3a"
          ],
          [
           0.8888888888888888,
           "#fdca26"
          ],
          [
           1,
           "#f0f921"
          ]
         ]
        },
        "height": 500,
        "legend": {
         "itemsizing": "constant",
         "tracegroupgap": 0
        },
        "mapbox": {
         "accesstoken": "pk.eyJ1IjoiYW1hY2s1NiIsImEiOiJja3RldzZmcnAwMmd5Mm5wZngyejR2cm5iIn0.JohlA6vRxmH-iugH7u_xXA",
         "bearing": 0,
         "center": {
          "lat": 38.037397969103836,
          "lon": -125.24707771806584
         },
         "domain": {
          "x": [
           0,
           1
          ],
          "y": [
           0,
           1
          ]
         },
         "pitch": 0,
         "zoom": 4.354801622533873
        },
        "template": {
         "data": {
          "bar": [
           {
            "error_x": {
             "color": "#2a3f5f"
            },
            "error_y": {
             "color": "#2a3f5f"
            },
            "marker": {
             "line": {
              "color": "#E5ECF6",
              "width": 0.5
             },
             "pattern": {
              "fillmode": "overlay",
              "size": 10,
              "solidity": 0.2
             }
            },
            "type": "bar"
           }
          ],
          "barpolar": [
           {
            "marker": {
             "line": {
              "color": "#E5ECF6",
              "width": 0.5
             },
             "pattern": {
              "fillmode": "overlay",
              "size": 10,
              "solidity": 0.2
             }
            },
            "type": "barpolar"
           }
          ],
          "carpet": [
           {
            "aaxis": {
             "endlinecolor": "#2a3f5f",
             "gridcolor": "white",
             "linecolor": "white",
             "minorgridcolor": "white",
             "startlinecolor": "#2a3f5f"
            },
            "baxis": {
             "endlinecolor": "#2a3f5f",
             "gridcolor": "white",
             "linecolor": "white",
             "minorgridcolor": "white",
             "startlinecolor": "#2a3f5f"
            },
            "type": "carpet"
           }
          ],
          "choropleth": [
           {
            "colorbar": {
             "outlinewidth": 0,
             "ticks": ""
            },
            "type": "choropleth"
           }
          ],
          "contour": [
           {
            "colorbar": {
             "outlinewidth": 0,
             "ticks": ""
            },
            "colorscale": [
             [
              0,
              "#0d0887"
             ],
             [
              0.1111111111111111,
              "#46039f"
             ],
             [
              0.2222222222222222,
              "#7201a8"
             ],
             [
              0.3333333333333333,
              "#9c179e"
             ],
             [
              0.4444444444444444,
              "#bd3786"
             ],
             [
              0.5555555555555556,
              "#d8576b"
             ],
             [
              0.6666666666666666,
              "#ed7953"
             ],
             [
              0.7777777777777778,
              "#fb9f3a"
             ],
             [
              0.8888888888888888,
              "#fdca26"
             ],
             [
              1,
              "#f0f921"
             ]
            ],
            "type": "contour"
           }
          ],
          "contourcarpet": [
           {
            "colorbar": {
             "outlinewidth": 0,
             "ticks": ""
            },
            "type": "contourcarpet"
           }
          ],
          "heatmap": [
           {
            "colorbar": {
             "outlinewidth": 0,
             "ticks": ""
            },
            "colorscale": [
             [
              0,
              "#0d0887"
             ],
             [
              0.1111111111111111,
              "#46039f"
             ],
             [
              0.2222222222222222,
              "#7201a8"
             ],
             [
              0.3333333333333333,
              "#9c179e"
             ],
             [
              0.4444444444444444,
              "#bd3786"
             ],
             [
              0.5555555555555556,
              "#d8576b"
             ],
             [
              0.6666666666666666,
              "#ed7953"
             ],
             [
              0.7777777777777778,
              "#fb9f3a"
             ],
             [
              0.8888888888888888,
              "#fdca26"
             ],
             [
              1,
              "#f0f921"
             ]
            ],
            "type": "heatmap"
           }
          ],
          "heatmapgl": [
           {
            "colorbar": {
             "outlinewidth": 0,
             "ticks": ""
            },
            "colorscale": [
             [
              0,
              "#0d0887"
             ],
             [
              0.1111111111111111,
              "#46039f"
             ],
             [
              0.2222222222222222,
              "#7201a8"
             ],
             [
              0.3333333333333333,
              "#9c179e"
             ],
             [
              0.4444444444444444,
              "#bd3786"
             ],
             [
              0.5555555555555556,
              "#d8576b"
             ],
             [
              0.6666666666666666,
              "#ed7953"
             ],
             [
              0.7777777777777778,
              "#fb9f3a"
             ],
             [
              0.8888888888888888,
              "#fdca26"
             ],
             [
              1,
              "#f0f921"
             ]
            ],
            "type": "heatmapgl"
           }
          ],
          "histogram": [
           {
            "marker": {
             "pattern": {
              "fillmode": "overlay",
              "size": 10,
              "solidity": 0.2
             }
            },
            "type": "histogram"
           }
          ],
          "histogram2d": [
           {
            "colorbar": {
             "outlinewidth": 0,
             "ticks": ""
            },
            "colorscale": [
             [
              0,
              "#0d0887"
             ],
             [
              0.1111111111111111,
              "#46039f"
             ],
             [
              0.2222222222222222,
              "#7201a8"
             ],
             [
              0.3333333333333333,
              "#9c179e"
             ],
             [
              0.4444444444444444,
              "#bd3786"
             ],
             [
              0.5555555555555556,
              "#d8576b"
             ],
             [
              0.6666666666666666,
              "#ed7953"
             ],
             [
              0.7777777777777778,
              "#fb9f3a"
             ],
             [
              0.8888888888888888,
              "#fdca26"
             ],
             [
              1,
              "#f0f921"
             ]
            ],
            "type": "histogram2d"
           }
          ],
          "histogram2dcontour": [
           {
            "colorbar": {
             "outlinewidth": 0,
             "ticks": ""
            },
            "colorscale": [
             [
              0,
              "#0d0887"
             ],
             [
              0.1111111111111111,
              "#46039f"
             ],
             [
              0.2222222222222222,
              "#7201a8"
             ],
             [
              0.3333333333333333,
              "#9c179e"
             ],
             [
              0.4444444444444444,
              "#bd3786"
             ],
             [
              0.5555555555555556,
              "#d8576b"
             ],
             [
              0.6666666666666666,
              "#ed7953"
             ],
             [
              0.7777777777777778,
              "#fb9f3a"
             ],
             [
              0.8888888888888888,
              "#fdca26"
             ],
             [
              1,
              "#f0f921"
             ]
            ],
            "type": "histogram2dcontour"
           }
          ],
          "mesh3d": [
           {
            "colorbar": {
             "outlinewidth": 0,
             "ticks": ""
            },
            "type": "mesh3d"
           }
          ],
          "parcoords": [
           {
            "line": {
             "colorbar": {
              "outlinewidth": 0,
              "ticks": ""
             }
            },
            "type": "parcoords"
           }
          ],
          "pie": [
           {
            "automargin": true,
            "type": "pie"
           }
          ],
          "scatter": [
           {
            "marker": {
             "colorbar": {
              "outlinewidth": 0,
              "ticks": ""
             }
            },
            "type": "scatter"
           }
          ],
          "scatter3d": [
           {
            "line": {
             "colorbar": {
              "outlinewidth": 0,
              "ticks": ""
             }
            },
            "marker": {
             "colorbar": {
              "outlinewidth": 0,
              "ticks": ""
             }
            },
            "type": "scatter3d"
           }
          ],
          "scattercarpet": [
           {
            "marker": {
             "colorbar": {
              "outlinewidth": 0,
              "ticks": ""
             }
            },
            "type": "scattercarpet"
           }
          ],
          "scattergeo": [
           {
            "marker": {
             "colorbar": {
              "outlinewidth": 0,
              "ticks": ""
             }
            },
            "type": "scattergeo"
           }
          ],
          "scattergl": [
           {
            "marker": {
             "colorbar": {
              "outlinewidth": 0,
              "ticks": ""
             }
            },
            "type": "scattergl"
           }
          ],
          "scattermapbox": [
           {
            "marker": {
             "colorbar": {
              "outlinewidth": 0,
              "ticks": ""
             }
            },
            "type": "scattermapbox"
           }
          ],
          "scatterpolar": [
           {
            "marker": {
             "colorbar": {
              "outlinewidth": 0,
              "ticks": ""
             }
            },
            "type": "scatterpolar"
           }
          ],
          "scatterpolargl": [
           {
            "marker": {
             "colorbar": {
              "outlinewidth": 0,
              "ticks": ""
             }
            },
            "type": "scatterpolargl"
           }
          ],
          "scatterternary": [
           {
            "marker": {
             "colorbar": {
              "outlinewidth": 0,
              "ticks": ""
             }
            },
            "type": "scatterternary"
           }
          ],
          "surface": [
           {
            "colorbar": {
             "outlinewidth": 0,
             "ticks": ""
            },
            "colorscale": [
             [
              0,
              "#0d0887"
             ],
             [
              0.1111111111111111,
              "#46039f"
             ],
             [
              0.2222222222222222,
              "#7201a8"
             ],
             [
              0.3333333333333333,
              "#9c179e"
             ],
             [
              0.4444444444444444,
              "#bd3786"
             ],
             [
              0.5555555555555556,
              "#d8576b"
             ],
             [
              0.6666666666666666,
              "#ed7953"
             ],
             [
              0.7777777777777778,
              "#fb9f3a"
             ],
             [
              0.8888888888888888,
              "#fdca26"
             ],
             [
              1,
              "#f0f921"
             ]
            ],
            "type": "surface"
           }
          ],
          "table": [
           {
            "cells": {
             "fill": {
              "color": "#EBF0F8"
             },
             "line": {
              "color": "white"
             }
            },
            "header": {
             "fill": {
              "color": "#C8D4E3"
             },
             "line": {
              "color": "white"
             }
            },
            "type": "table"
           }
          ]
         },
         "layout": {
          "annotationdefaults": {
           "arrowcolor": "#2a3f5f",
           "arrowhead": 0,
           "arrowwidth": 1
          },
          "autotypenumbers": "strict",
          "coloraxis": {
           "colorbar": {
            "outlinewidth": 0,
            "ticks": ""
           }
          },
          "colorscale": {
           "diverging": [
            [
             0,
             "#8e0152"
            ],
            [
             0.1,
             "#c51b7d"
            ],
            [
             0.2,
             "#de77ae"
            ],
            [
             0.3,
             "#f1b6da"
            ],
            [
             0.4,
             "#fde0ef"
            ],
            [
             0.5,
             "#f7f7f7"
            ],
            [
             0.6,
             "#e6f5d0"
            ],
            [
             0.7,
             "#b8e186"
            ],
            [
             0.8,
             "#7fbc41"
            ],
            [
             0.9,
             "#4d9221"
            ],
            [
             1,
             "#276419"
            ]
           ],
           "sequential": [
            [
             0,
             "#0d0887"
            ],
            [
             0.1111111111111111,
             "#46039f"
            ],
            [
             0.2222222222222222,
             "#7201a8"
            ],
            [
             0.3333333333333333,
             "#9c179e"
            ],
            [
             0.4444444444444444,
             "#bd3786"
            ],
            [
             0.5555555555555556,
             "#d8576b"
            ],
            [
             0.6666666666666666,
             "#ed7953"
            ],
            [
             0.7777777777777778,
             "#fb9f3a"
            ],
            [
             0.8888888888888888,
             "#fdca26"
            ],
            [
             1,
             "#f0f921"
            ]
           ],
           "sequentialminus": [
            [
             0,
             "#0d0887"
            ],
            [
             0.1111111111111111,
             "#46039f"
            ],
            [
             0.2222222222222222,
             "#7201a8"
            ],
            [
             0.3333333333333333,
             "#9c179e"
            ],
            [
             0.4444444444444444,
             "#bd3786"
            ],
            [
             0.5555555555555556,
             "#d8576b"
            ],
            [
             0.6666666666666666,
             "#ed7953"
            ],
            [
             0.7777777777777778,
             "#fb9f3a"
            ],
            [
             0.8888888888888888,
             "#fdca26"
            ],
            [
             1,
             "#f0f921"
            ]
           ]
          },
          "colorway": [
           "#636efa",
           "#EF553B",
           "#00cc96",
           "#ab63fa",
           "#FFA15A",
           "#19d3f3",
           "#FF6692",
           "#B6E880",
           "#FF97FF",
           "#FECB52"
          ],
          "font": {
           "color": "#2a3f5f"
          },
          "geo": {
           "bgcolor": "white",
           "lakecolor": "white",
           "landcolor": "#E5ECF6",
           "showlakes": true,
           "showland": true,
           "subunitcolor": "white"
          },
          "hoverlabel": {
           "align": "left"
          },
          "hovermode": "closest",
          "mapbox": {
           "style": "light"
          },
          "paper_bgcolor": "white",
          "plot_bgcolor": "#E5ECF6",
          "polar": {
           "angularaxis": {
            "gridcolor": "white",
            "linecolor": "white",
            "ticks": ""
           },
           "bgcolor": "#E5ECF6",
           "radialaxis": {
            "gridcolor": "white",
            "linecolor": "white",
            "ticks": ""
           }
          },
          "scene": {
           "xaxis": {
            "backgroundcolor": "#E5ECF6",
            "gridcolor": "white",
            "gridwidth": 2,
            "linecolor": "white",
            "showbackground": true,
            "ticks": "",
            "zerolinecolor": "white"
           },
           "yaxis": {
            "backgroundcolor": "#E5ECF6",
            "gridcolor": "white",
            "gridwidth": 2,
            "linecolor": "white",
            "showbackground": true,
            "ticks": "",
            "zerolinecolor": "white"
           },
           "zaxis": {
            "backgroundcolor": "#E5ECF6",
            "gridcolor": "white",
            "gridwidth": 2,
            "linecolor": "white",
            "showbackground": true,
            "ticks": "",
            "zerolinecolor": "white"
           }
          },
          "shapedefaults": {
           "line": {
            "color": "#2a3f5f"
           }
          },
          "ternary": {
           "aaxis": {
            "gridcolor": "white",
            "linecolor": "white",
            "ticks": ""
           },
           "baxis": {
            "gridcolor": "white",
            "linecolor": "white",
            "ticks": ""
           },
           "bgcolor": "#E5ECF6",
           "caxis": {
            "gridcolor": "white",
            "linecolor": "white",
            "ticks": ""
           }
          },
          "title": {
           "x": 0.05
          },
          "xaxis": {
           "automargin": true,
           "gridcolor": "white",
           "linecolor": "white",
           "ticks": "",
           "title": {
            "standoff": 15
           },
           "zerolinecolor": "white",
           "zerolinewidth": 2
          },
          "yaxis": {
           "automargin": true,
           "gridcolor": "white",
           "linecolor": "white",
           "ticks": "",
           "title": {
            "standoff": 15
           },
           "zerolinecolor": "white",
           "zerolinewidth": 2
          }
         }
        },
        "title": {
         "text": "Average Sale Price Per Square Foot and Gross Rent in San Francisco"
        },
        "width": 600
       }
      },
      "image/png": "[encoded data removed]",
      "text/html": [
       "<div>                            <div id=\"7140977b-8233-4c76-b715-db29dc41810b\" class=\"plotly-graph-div\" style=\"height:500px; width:600px;\"></div>            <script type=\"text/javascript\">                require([\"plotly\"], function(Plotly) {                    window.PLOTLYENV=window.PLOTLYENV || {};                                    if (document.getElementById(\"7140977b-8233-4c76-b715-db29dc41810b\")) {                    Plotly.newPlot(                        \"7140977b-8233-4c76-b715-db29dc41810b\",                        [{\"hovertemplate\":\"sale_price_sqr_foot=%{marker.size}<br>Lat=%{lat}<br>Lon=%{lon}<br>gross_rent=%{marker.color}<extra></extra>\",\"lat\":[37.791012,37.779598,37.73467,37.72874,37.768159999999995,37.777890000000006,37.74961,37.75331,37.78553,37.79298,37.7228,37.728629999999995,37.76964,37.75554,37.72874000000001,37.79100999999999,37.79101,37.757059999999996,37.72863,37.757912,37.76525,37.76525,37.72551,37.72116,37.754160000000006,37.74961,37.769112,37.74961,37.78553,37.801520000000004,37.7789,37.79298,37.79972,37.71993,37.75331,37.73415,37.783229999999996,37.75184000000001,37.728629999999995,37.79298,37.75331,37.80055,37.80055,37.71993,37.7228,37.75169999999999,37.74961,37.79298,37.72838000000001,37.74961,37.76355,37.73467,37.73196000000001,37.78553,37.79298,37.73467,37.783229999999996,37.79100999999999,37.73415,37.800549999999994,37.753311,37.79101,37.779509999999995,37.72874,37.74026,37.79298,37.7347,37.73415,37.79298],\"legendgroup\":\"\",\"lon\":[-122.4021,-122.443451,-122.40106,-122.41098000000001,-122.43933,-122.44516999999998,-122.48999,-122.44703,-122.45599999999999,-122.43579,-122.43869,-122.44305,-122.42611000000001,-122.43778999999998,-122.41098000000001,-122.4021,-122.40209999999999,-122.45508999999998,-122.44304999999999,-122.46401999999998,-122.43596000000001,-122.43596000000001,-122.37178,-122.48706999999999,-122.41947000000002,-122.48998999999999,-122.483566,-122.48996999999999,-122.456,-122.45456999999999,-122.45496000000001,-122.43579,-122.46689,-122.46595,-122.44703,-122.45700000000001,-122.40065,-122.42521999999998,-122.44305,-122.43579,-122.44703000000001,-122.40433,-122.40433,-122.46595,-122.43869,-122.44600000000001,-122.48999,-122.43579,-122.47851000000001,-122.48998999999999,-122.45765000000003,-122.40106,-122.38323999999999,-122.456,-122.43579,-122.40106000000002,-122.40065,-122.4021,-122.45700000000001,-122.40432999999999,-122.44702900000001,-122.4021,-122.42021999999999,-122.41098000000001,-122.46388,-122.43579,-122.456854,-122.45700000000001,-122.39636],\"marker\":{\"color\":[2817.285714285714,3031.8333333333335,2318.4,3739.0,2698.8333333333335,2817.285714285714,2817.285714285714,2250.5,2472.0,2817.285714285714,2698.8333333333335,2016.0,2780.25,2817.285714285714,3031.8333333333335,2817.285714285714,2472.0,1781.5,2899.5,2601.4,2817.285714285714,2817.285714285714,2489.0,2960.0,2817.285714285714,3224.0,2817.285714285714,2817.285714285714,2817.285714285714,2555.1666666666665,2555.1666666666665,2817.285714285714,2817.285714285714,3414.0,2647.5,2155.25,2663.6666666666665,2555.1666666666665,3173.4,2817.285714285714,2817.285714285714,2990.8,2818.4,2434.0,2995.75,2817.285714285714,2817.285714285714,2817.285714285714,2817.285714285714,2555.1666666666665,2817.285714285714,2318.4,2817.285714285714,2817.285714285714,2817.285714285714,3528.0,2099.0,2817.285714285714,2899.5,2817.285714285714,2817.285714285714,2555.1666666666665,2817.285714285714,3657.0,2515.5,2555.1666666666665,2250.5,3959.0,2555.1666666666665],\"coloraxis\":\"coloraxis\",\"size\":[366.02071153227644,373.38219782647707,204.58862288246596,590.7928388746802,452.6805909308442,394.4223987800589,423.6879277015824,487.2448860262575,587.5390673661739,665.964041578323,303.00418440849427,434.99173944522124,502.59915555623616,642.2486706357391,388.76592700230754,391.36253308010487,455.83621223779153,321.84083657398736,623.826177537435,639.3935574881156,449.5447622856192,355.9328279480578,170.62491987132685,384.7979281346048,397.67371473613446,519.3856038526768,378.59431396136455,413.66751546215943,529.3841850673389,409.95435219297514,478.2285530213679,539.2379688783261,583.7492694814549,788.8448175872469,550.5103482917151,779.810842264425,566.1922135483312,418.9156225067234,523.4662013248023,458.2040944846015,542.4429128151736,411.646875881678,498.26975500787677,330.0973846552545,242.37095202049667,485.0270126111035,394.21903228550775,689.5558168113664,373.732856371763,336.172661037069,632.740453508577,327.11392534647274,662.0136128276529,675.3502120510033,608.9832172374425,170.2925485152069,650.1244791945729,570.2714266991686,528.3183317138463,676.5065775293257,469.39862649935156,903.9932576720645,404.1501801622257,301.46617997450267,498.4884848295011,307.56220097996066,533.7039354359513,687.0875745178323,576.709848378276],\"sizemode\":\"area\",\"sizeref\":2.259983144180161},\"mode\":\"markers\",\"name\":\"\",\"showlegend\":false,\"subplot\":\"mapbox\",\"type\":\"scattermapbox\"}],                        {\"coloraxis\":{\"colorbar\":{\"title\":{\"text\":\"gross_rent\"}},\"colorscale\":[[0.0,\"#0d0887\"],[0.1111111111111111,\"#46039f\"],[0.2222222222222222,\"#7201a8\"],[0.3333333333333333,\"#9c179e\"],[0.4444444444444444,\"#bd3786\"],[0.5555555555555556,\"#d8576b\"],[0.6666666666666666,\"#ed7953\"],[0.7777777777777778,\"#fb9f3a\"],[0.8888888888888888,\"#fdca26\"],[1.0,\"#f0f921\"]]},\"height\":500,\"legend\":{\"itemsizing\":\"constant\",\"tracegroupgap\":0},\"mapbox\":{\"accesstoken\":\"pk.eyJ1IjoiYW1hY2s1NiIsImEiOiJja3RldzZmcnAwMmd5Mm5wZngyejR2cm5iIn0.JohlA6vRxmH-iugH7u_xXA\",\"center\":{\"lat\":37.76064079710145,\"lon\":-122.43826449275363},\"domain\":{\"x\":[0.0,1.0],\"y\":[0.0,1.0]},\"zoom\":10},\"template\":{\"data\":{\"bar\":[{\"error_x\":{\"color\":\"#2a3f5f\"},\"error_y\":{\"color\":\"#2a3f5f\"},\"marker\":{\"line\":{\"color\":\"#E5ECF6\",\"width\":0.5},\"pattern\":{\"fillmode\":\"overlay\",\"size\":10,\"solidity\":0.2}},\"type\":\"bar\"}],\"barpolar\":[{\"marker\":{\"line\":{\"color\":\"#E5ECF6\",\"width\":0.5},\"pattern\":{\"fillmode\":\"overlay\",\"size\":10,\"solidity\":0.2}},\"type\":\"barpolar\"}],\"carpet\":[{\"aaxis\":{\"endlinecolor\":\"#2a3f5f\",\"gridcolor\":\"white\",\"linecolor\":\"white\",\"minorgridcolor\":\"white\",\"startlinecolor\":\"#2a3f5f\"},\"baxis\":{\"endlinecolor\":\"#2a3f5f\",\"gridcolor\":\"white\",\"linecolor\":\"white\",\"minorgridcolor\":\"white\",\"startlinecolor\":\"#2a3f5f\"},\"type\":\"carpet\"}],\"choropleth\":[{\"colorbar\":{\"outlinewidth\":0,\"ticks\":\"\"},\"type\":\"choropleth\"}],\"contour\":[{\"colorbar\":{\"outlinewidth\":0,\"ticks\":\"\"},\"colorscale\":[[0.0,\"#0d0887\"],[0.1111111111111111,\"#46039f\"],[0.2222222222222222,\"#7201a8\"],[0.3333333333333333,\"#9c179e\"],[0.4444444444444444,\"#bd3786\"],[0.5555555555555556,\"#d8576b\"],[0.6666666666666666,\"#ed7953\"],[0.7777777777777778,\"#fb9f3a\"],[0.8888888888888888,\"#fdca26\"],[1.0,\"#f0f921\"]],\"type\":\"contour\"}],\"contourcarpet\":[{\"colorbar\":{\"outlinewidth\":0,\"ticks\":\"\"},\"type\":\"contourcarpet\"}],\"heatmap\":[{\"colorbar\":{\"outlinewidth\":0,\"ticks\":\"\"},\"colorscale\":[[0.0,\"#0d0887\"],[0.1111111111111111,\"#46039f\"],[0.2222222222222222,\"#7201a8\"],[0.3333333333333333,\"#9c179e\"],[0.4444444444444444,\"#bd3786\"],[0.5555555555555556,\"#d8576b\"],[0.6666666666666666,\"#ed7953\"],[0.7777777777777778,\"#fb9f3a\"],[0.8888888888888888,\"#fdca26\"],[1.0,\"#f0f921\"]],\"type\":\"heatmap\"}],\"heatmapgl\":[{\"colorbar\":{\"outlinewidth\":0,\"ticks\":\"\"},\"colorscale\":[[0.0,\"#0d0887\"],[0.1111111111111111,\"#46039f\"],[0.2222222222222222,\"#7201a8\"],[0.3333333333333333,\"#9c179e\"],[0.4444444444444444,\"#bd3786\"],[0.5555555555555556,\"#d8576b\"],[0.6666666666666666,\"#ed7953\"],[0.7777777777777778,\"#fb9f3a\"],[0.8888888888888888,\"#fdca26\"],[1.0,\"#f0f921\"]],\"type\":\"heatmapgl\"}],\"histogram\":[{\"marker\":{\"pattern\":{\"fillmode\":\"overlay\",\"size\":10,\"solidity\":0.2}},\"type\":\"histogram\"}],\"histogram2d\":[{\"colorbar\":{\"outlinewidth\":0,\"ticks\":\"\"},\"colorscale\":[[0.0,\"#0d0887\"],[0.1111111111111111,\"#46039f\"],[0.2222222222222222,\"#7201a8\"],[0.3333333333333333,\"#9c179e\"],[0.4444444444444444,\"#bd3786\"],[0.5555555555555556,\"#d8576b\"],[0.6666666666666666,\"#ed7953\"],[0.7777777777777778,\"#fb9f3a\"],[0.8888888888888888,\"#fdca26\"],[1.0,\"#f0f921\"]],\"type\":\"histogram2d\"}],\"histogram2dcontour\":[{\"colorbar\":{\"outlinewidth\":0,\"ticks\":\"\"},\"colorscale\":[[0.0,\"#0d0887\"],[0.1111111111111111,\"#46039f\"],[0.2222222222222222,\"#7201a8\"],[0.3333333333333333,\"#9c179e\"],[0.4444444444444444,\"#bd3786\"],[0.5555555555555556,\"#d8576b\"],[0.6666666666666666,\"#ed7953\"],[0.7777777777777778,\"#fb9f3a\"],[0.8888888888888888,\"#fdca26\"],[1.0,\"#f0f921\"]],\"type\":\"histogram2dcontour\"}],\"mesh3d\":[{\"colorbar\":{\"outlinewidth\":0,\"ticks\":\"\"},\"type\":\"mesh3d\"}],\"parcoords\":[{\"line\":{\"colorbar\":{\"outlinewidth\":0,\"ticks\":\"\"}},\"type\":\"parcoords\"}],\"pie\":[{\"automargin\":true,\"type\":\"pie\"}],\"scatter\":[{\"marker\":{\"colorbar\":{\"outlinewidth\":0,\"ticks\":\"\"}},\"type\":\"scatter\"}],\"scatter3d\":[{\"line\":{\"colorbar\":{\"outlinewidth\":0,\"ticks\":\"\"}},\"marker\":{\"colorbar\":{\"outlinewidth\":0,\"ticks\":\"\"}},\"type\":\"scatter3d\"}],\"scattercarpet\":[{\"marker\":{\"colorbar\":{\"outlinewidth\":0,\"ticks\":\"\"}},\"type\":\"scattercarpet\"}],\"scattergeo\":[{\"marker\":{\"colorbar\":{\"outlinewidth\":0,\"ticks\":\"\"}},\"type\":\"scattergeo\"}],\"scattergl\":[{\"marker\":{\"colorbar\":{\"outlinewidth\":0,\"ticks\":\"\"}},\"type\":\"scattergl\"}],\"scattermapbox\":[{\"marker\":{\"colorbar\":{\"outlinewidth\":0,\"ticks\":\"\"}},\"type\":\"scattermapbox\"}],\"scatterpolar\":[{\"marker\":{\"colorbar\":{\"outlinewidth\":0,\"ticks\":\"\"}},\"type\":\"scatterpolar\"}],\"scatterpolargl\":[{\"marker\":{\"colorbar\":{\"outlinewidth\":0,\"ticks\":\"\"}},\"type\":\"scatterpolargl\"}],\"scatterternary\":[{\"marker\":{\"colorbar\":{\"outlinewidth\":0,\"ticks\":\"\"}},\"type\":\"scatterternary\"}],\"surface\":[{\"colorbar\":{\"outlinewidth\":0,\"ticks\":\"\"},\"colorscale\":[[0.0,\"#0d0887\"],[0.1111111111111111,\"#46039f\"],[0.2222222222222222,\"#7201a8\"],[0.3333333333333333,\"#9c179e\"],[0.4444444444444444,\"#bd3786\"],[0.5555555555555556,\"#d8576b\"],[0.6666666666666666,\"#ed7953\"],[0.7777777777777778,\"#fb9f3a\"],[0.8888888888888888,\"#fdca26\"],[1.0,\"#f0f921\"]],\"type\":\"surface\"}],\"table\":[{\"cells\":{\"fill\":{\"color\":\"#EBF0F8\"},\"line\":{\"color\":\"white\"}},\"header\":{\"fill\":{\"color\":\"#C8D4E3\"},\"line\":{\"color\":\"white\"}},\"type\":\"table\"}]},\"layout\":{\"annotationdefaults\":{\"arrowcolor\":\"#2a3f5f\",\"arrowhead\":0,\"arrowwidth\":1},\"autotypenumbers\":\"strict\",\"coloraxis\":{\"colorbar\":{\"outlinewidth\":0,\"ticks\":\"\"}},\"colorscale\":{\"diverging\":[[0,\"#8e0152\"],[0.1,\"#c51b7d\"],[0.2,\"#de77ae\"],[0.3,\"#f1b6da\"],[0.4,\"#fde0ef\"],[0.5,\"#f7f7f7\"],[0.6,\"#e6f5d0\"],[0.7,\"#b8e186\"],[0.8,\"#7fbc41\"],[0.9,\"#4d9221\"],[1,\"#276419\"]],\"sequential\":[[0.0,\"#0d0887\"],[0.1111111111111111,\"#46039f\"],[0.2222222222222222,\"#7201a8\"],[0.3333333333333333,\"#9c179e\"],[0.4444444444444444,\"#bd3786\"],[0.5555555555555556,\"#d8576b\"],[0.6666666666666666,\"#ed7953\"],[0.7777777777777778,\"#fb9f3a\"],[0.8888888888888888,\"#fdca26\"],[1.0,\"#f0f921\"]],\"sequentialminus\":[[0.0,\"#0d0887\"],[0.1111111111111111,\"#46039f\"],[0.2222222222222222,\"#7201a8\"],[0.3333333333333333,\"#9c179e\"],[0.4444444444444444,\"#bd3786\"],[0.5555555555555556,\"#d8576b\"],[0.6666666666666666,\"#ed7953\"],[0.7777777777777778,\"#fb9f3a\"],[0.8888888888888888,\"#fdca26\"],[1.0,\"#f0f921\"]]},\"colorway\":[\"#636efa\",\"#EF553B\",\"#00cc96\",\"#ab63fa\",\"#FFA15A\",\"#19d3f3\",\"#FF6692\",\"#B6E880\",\"#FF97FF\",\"#FECB52\"],\"font\":{\"color\":\"#2a3f5f\"},\"geo\":{\"bgcolor\":\"white\",\"lakecolor\":\"white\",\"landcolor\":\"#E5ECF6\",\"showlakes\":true,\"showland\":true,\"subunitcolor\":\"white\"},\"hoverlabel\":{\"align\":\"left\"},\"hovermode\":\"closest\",\"mapbox\":{\"style\":\"light\"},\"paper_bgcolor\":\"white\",\"plot_bgcolor\":\"#E5ECF6\",\"polar\":{\"angularaxis\":{\"gridcolor\":\"white\",\"linecolor\":\"white\",\"ticks\":\"\"},\"bgcolor\":\"#E5ECF6\",\"radialaxis\":{\"gridcolor\":\"white\",\"linecolor\":\"white\",\"ticks\":\"\"}},\"scene\":{\"xaxis\":{\"backgroundcolor\":\"#E5ECF6\",\"gridcolor\":\"white\",\"gridwidth\":2,\"linecolor\":\"white\",\"showbackground\":true,\"ticks\":\"\",\"zerolinecolor\":\"white\"},\"yaxis\":{\"backgroundcolor\":\"#E5ECF6\",\"gridcolor\":\"white\",\"gridwidth\":2,\"linecolor\":\"white\",\"showbackground\":true,\"ticks\":\"\",\"zerolinecolor\":\"white\"},\"zaxis\":{\"backgroundcolor\":\"#E5ECF6\",\"gridcolor\":\"white\",\"gridwidth\":2,\"linecolor\":\"white\",\"showbackground\":true,\"ticks\":\"\",\"zerolinecolor\":\"white\"}},\"shapedefaults\":{\"line\":{\"color\":\"#2a3f5f\"}},\"ternary\":{\"aaxis\":{\"gridcolor\":\"white\",\"linecolor\":\"white\",\"ticks\":\"\"},\"baxis\":{\"gridcolor\":\"white\",\"linecolor\":\"white\",\"ticks\":\"\"},\"bgcolor\":\"#E5ECF6\",\"caxis\":{\"gridcolor\":\"white\",\"linecolor\":\"white\",\"ticks\":\"\"}},\"title\":{\"x\":0.05},\"xaxis\":{\"automargin\":true,\"gridcolor\":\"white\",\"linecolor\":\"white\",\"ticks\":\"\",\"title\":{\"standoff\":15},\"zerolinecolor\":\"white\",\"zerolinewidth\":2},\"yaxis\":{\"automargin\":true,\"gridcolor\":\"white\",\"linecolor\":\"white\",\"ticks\":\"\",\"title\":{\"standoff\":15},\"zerolinecolor\":\"white\",\"zerolinewidth\":2}}},\"title\":{\"text\":\"Average Sale Price Per Square Foot and Gross Rent in San Francisco\"},\"width\":600},                        {\"responsive\": true}                    ).then(function(){\n",
       "                            \n",
       "var gd = document.getElementById('7140977b-8233-4c76-b715-db29dc41810b');\n",
       "var x = new MutationObserver(function (mutations, observer) {{\n",
       "        var display = window.getComputedStyle(gd).display;\n",
       "        if (!display || display === 'none') {{\n",
       "            console.log([gd, 'removed!']);\n",
       "            Plotly.purge(gd);\n",
       "            observer.disconnect();\n",
       "        }}\n",
       "}});\n",
       "\n",
       "// Listen for the removal of the full notebook cells\n",
       "var notebookContainer = gd.closest('#notebook-container');\n",
       "if (notebookContainer) {{\n",
       "    x.observe(notebookContainer, {childList: true});\n",
       "}}\n",
       "\n",
       "// Listen for the clearing of the current output cell\n",
       "var outputEl = gd.closest('.output');\n",
       "if (outputEl) {{\n",
       "    x.observe(outputEl, {childList: true});\n",
       "}}\n",
       "\n",
       "                        })                };                });            </script>        </div>"
      ]
     },
     "metadata": {},
     "output_type": "display_data"
    }
   ],
   "source": [
    "# Create a scatter mapbox to analyze neighborhood info\n",
    "plot1 = px.scatter_mapbox(\n",
    "    combined_df,\n",
    "    lat='Lat',\n",
    "    lon='Lon',\n",
    "    size='sale_price_sqr_foot',\n",
    "    color='gross_rent',\n",
    "    zoom=10,\n",
    "    height=500,\n",
    "    width=600,\n",
    "    title='Average Sale Price Per Square Foot and Gross Rent in San Francisco'\n",
    ")\n",
    "\n",
    "plot1.show()"
   ]
  },
  {
   "cell_type": "markdown",
   "id": "7348e71d",
   "metadata": {},
   "source": [
    "## Cost Analysis - Optional Challenge\n",
    "\n",
    "In this section, you will use Plotly express to create visualizations that investors can use to interactively filter and explore various factors related to the house value of the San Francisco's neighborhoods. \n",
    "\n",
    "### Create a DataFrame showing the most expensive neighborhoods in San Francisco by year"
   ]
  },
  {
   "cell_type": "code",
   "execution_count": 353,
   "id": "d1d38ba2",
   "metadata": {},
   "outputs": [
    {
     "data": {
      "application/vnd.plotly.v1+json": {
       "config": {
        "plotlyServerURL": "https://plot.ly"
       },
       "data": [
        {
         "dimensions": [
          {
           "label": "neighborhood",
           "values": [
            "Union Square District",
            "Merced Heights",
            "Miraloma Park",
            "Pacific Heights",
            "Westwood Park",
            "Telegraph Hill",
            "Presidio Heights",
            "Cow Hollow",
            "Potrero Hill",
            "South Beach"
           ]
          },
          {
           "label": "sale_price_sqr_foot",
           "values": [
            904,
            788.8,
            779.8,
            689.6,
            687.1,
            676.5,
            675.4,
            666,
            662,
            650.1
           ]
          },
          {
           "label": "housing_units",
           "values": [
            377427.5,
            380348,
            375967.25,
            378401,
            382295,
            378401,
            378401,
            378401,
            378401,
            375805
           ]
          },
          {
           "label": "gross_rent",
           "values": [
            2555.1666666666665,
            3414,
            2155.25,
            2817.285714285714,
            3959,
            2817.285714285714,
            2817.285714285714,
            2817.285714285714,
            2817.285714285714,
            2099
           ]
          }
         ],
         "domain": {
          "x": [
           0,
           1
          ],
          "y": [
           0,
           1
          ]
         },
         "line": {
          "color": [
           2555.1666666666665,
           3414,
           2155.25,
           2817.285714285714,
           3959,
           2817.285714285714,
           2817.285714285714,
           2817.285714285714,
           2817.285714285714,
           2099
          ],
          "coloraxis": "coloraxis"
         },
         "name": "",
         "type": "parcats"
        }
       ],
       "layout": {
        "autosize": true,
        "coloraxis": {
         "colorbar": {
          "title": {
           "text": "gross_rent"
          }
         },
         "colorscale": [
          [
           0,
           "#0d0887"
          ],
          [
           0.1111111111111111,
           "#46039f"
          ],
          [
           0.2222222222222222,
           "#7201a8"
          ],
          [
           0.3333333333333333,
           "#9c179e"
          ],
          [
           0.4444444444444444,
           "#bd3786"
          ],
          [
           0.5555555555555556,
           "#d8576b"
          ],
          [
           0.6666666666666666,
           "#ed7953"
          ],
          [
           0.7777777777777778,
           "#fb9f3a"
          ],
          [
           0.8888888888888888,
           "#fdca26"
          ],
          [
           1,
           "#f0f921"
          ]
         ]
        },
        "legend": {
         "tracegroupgap": 0
        },
        "template": {
         "data": {
          "bar": [
           {
            "error_x": {
             "color": "#2a3f5f"
            },
            "error_y": {
             "color": "#2a3f5f"
            },
            "marker": {
             "line": {
              "color": "#E5ECF6",
              "width": 0.5
             },
             "pattern": {
              "fillmode": "overlay",
              "size": 10,
              "solidity": 0.2
             }
            },
            "type": "bar"
           }
          ],
          "barpolar": [
           {
            "marker": {
             "line": {
              "color": "#E5ECF6",
              "width": 0.5
             },
             "pattern": {
              "fillmode": "overlay",
              "size": 10,
              "solidity": 0.2
             }
            },
            "type": "barpolar"
           }
          ],
          "carpet": [
           {
            "aaxis": {
             "endlinecolor": "#2a3f5f",
             "gridcolor": "white",
             "linecolor": "white",
             "minorgridcolor": "white",
             "startlinecolor": "#2a3f5f"
            },
            "baxis": {
             "endlinecolor": "#2a3f5f",
             "gridcolor": "white",
             "linecolor": "white",
             "minorgridcolor": "white",
             "startlinecolor": "#2a3f5f"
            },
            "type": "carpet"
           }
          ],
          "choropleth": [
           {
            "colorbar": {
             "outlinewidth": 0,
             "ticks": ""
            },
            "type": "choropleth"
           }
          ],
          "contour": [
           {
            "colorbar": {
             "outlinewidth": 0,
             "ticks": ""
            },
            "colorscale": [
             [
              0,
              "#0d0887"
             ],
             [
              0.1111111111111111,
              "#46039f"
             ],
             [
              0.2222222222222222,
              "#7201a8"
             ],
             [
              0.3333333333333333,
              "#9c179e"
             ],
             [
              0.4444444444444444,
              "#bd3786"
             ],
             [
              0.5555555555555556,
              "#d8576b"
             ],
             [
              0.6666666666666666,
              "#ed7953"
             ],
             [
              0.7777777777777778,
              "#fb9f3a"
             ],
             [
              0.8888888888888888,
              "#fdca26"
             ],
             [
              1,
              "#f0f921"
             ]
            ],
            "type": "contour"
           }
          ],
          "contourcarpet": [
           {
            "colorbar": {
             "outlinewidth": 0,
             "ticks": ""
            },
            "type": "contourcarpet"
           }
          ],
          "heatmap": [
           {
            "colorbar": {
             "outlinewidth": 0,
             "ticks": ""
            },
            "colorscale": [
             [
              0,
              "#0d0887"
             ],
             [
              0.1111111111111111,
              "#46039f"
             ],
             [
              0.2222222222222222,
              "#7201a8"
             ],
             [
              0.3333333333333333,
              "#9c179e"
             ],
             [
              0.4444444444444444,
              "#bd3786"
             ],
             [
              0.5555555555555556,
              "#d8576b"
             ],
             [
              0.6666666666666666,
              "#ed7953"
             ],
             [
              0.7777777777777778,
              "#fb9f3a"
             ],
             [
              0.8888888888888888,
              "#fdca26"
             ],
             [
              1,
              "#f0f921"
             ]
            ],
            "type": "heatmap"
           }
          ],
          "heatmapgl": [
           {
            "colorbar": {
             "outlinewidth": 0,
             "ticks": ""
            },
            "colorscale": [
             [
              0,
              "#0d0887"
             ],
             [
              0.1111111111111111,
              "#46039f"
             ],
             [
              0.2222222222222222,
              "#7201a8"
             ],
             [
              0.3333333333333333,
              "#9c179e"
             ],
             [
              0.4444444444444444,
              "#bd3786"
             ],
             [
              0.5555555555555556,
              "#d8576b"
             ],
             [
              0.6666666666666666,
              "#ed7953"
             ],
             [
              0.7777777777777778,
              "#fb9f3a"
             ],
             [
              0.8888888888888888,
              "#fdca26"
             ],
             [
              1,
              "#f0f921"
             ]
            ],
            "type": "heatmapgl"
           }
          ],
          "histogram": [
           {
            "marker": {
             "pattern": {
              "fillmode": "overlay",
              "size": 10,
              "solidity": 0.2
             }
            },
            "type": "histogram"
           }
          ],
          "histogram2d": [
           {
            "colorbar": {
             "outlinewidth": 0,
             "ticks": ""
            },
            "colorscale": [
             [
              0,
              "#0d0887"
             ],
             [
              0.1111111111111111,
              "#46039f"
             ],
             [
              0.2222222222222222,
              "#7201a8"
             ],
             [
              0.3333333333333333,
              "#9c179e"
             ],
             [
              0.4444444444444444,
              "#bd3786"
             ],
             [
              0.5555555555555556,
              "#d8576b"
             ],
             [
              0.6666666666666666,
              "#ed7953"
             ],
             [
              0.7777777777777778,
              "#fb9f3a"
             ],
             [
              0.8888888888888888,
              "#fdca26"
             ],
             [
              1,
              "#f0f921"
             ]
            ],
            "type": "histogram2d"
           }
          ],
          "histogram2dcontour": [
           {
            "colorbar": {
             "outlinewidth": 0,
             "ticks": ""
            },
            "colorscale": [
             [
              0,
              "#0d0887"
             ],
             [
              0.1111111111111111,
              "#46039f"
             ],
             [
              0.2222222222222222,
              "#7201a8"
             ],
             [
              0.3333333333333333,
              "#9c179e"
             ],
             [
              0.4444444444444444,
              "#bd3786"
             ],
             [
              0.5555555555555556,
              "#d8576b"
             ],
             [
              0.6666666666666666,
              "#ed7953"
             ],
             [
              0.7777777777777778,
              "#fb9f3a"
             ],
             [
              0.8888888888888888,
              "#fdca26"
             ],
             [
              1,
              "#f0f921"
             ]
            ],
            "type": "histogram2dcontour"
           }
          ],
          "mesh3d": [
           {
            "colorbar": {
             "outlinewidth": 0,
             "ticks": ""
            },
            "type": "mesh3d"
           }
          ],
          "parcoords": [
           {
            "line": {
             "colorbar": {
              "outlinewidth": 0,
              "ticks": ""
             }
            },
            "type": "parcoords"
           }
          ],
          "pie": [
           {
            "automargin": true,
            "type": "pie"
           }
          ],
          "scatter": [
           {
            "marker": {
             "colorbar": {
              "outlinewidth": 0,
              "ticks": ""
             }
            },
            "type": "scatter"
           }
          ],
          "scatter3d": [
           {
            "line": {
             "colorbar": {
              "outlinewidth": 0,
              "ticks": ""
             }
            },
            "marker": {
             "colorbar": {
              "outlinewidth": 0,
              "ticks": ""
             }
            },
            "type": "scatter3d"
           }
          ],
          "scattercarpet": [
           {
            "marker": {
             "colorbar": {
              "outlinewidth": 0,
              "ticks": ""
             }
            },
            "type": "scattercarpet"
           }
          ],
          "scattergeo": [
           {
            "marker": {
             "colorbar": {
              "outlinewidth": 0,
              "ticks": ""
             }
            },
            "type": "scattergeo"
           }
          ],
          "scattergl": [
           {
            "marker": {
             "colorbar": {
              "outlinewidth": 0,
              "ticks": ""
             }
            },
            "type": "scattergl"
           }
          ],
          "scattermapbox": [
           {
            "marker": {
             "colorbar": {
              "outlinewidth": 0,
              "ticks": ""
             }
            },
            "type": "scattermapbox"
           }
          ],
          "scatterpolar": [
           {
            "marker": {
             "colorbar": {
              "outlinewidth": 0,
              "ticks": ""
             }
            },
            "type": "scatterpolar"
           }
          ],
          "scatterpolargl": [
           {
            "marker": {
             "colorbar": {
              "outlinewidth": 0,
              "ticks": ""
             }
            },
            "type": "scatterpolargl"
           }
          ],
          "scatterternary": [
           {
            "marker": {
             "colorbar": {
              "outlinewidth": 0,
              "ticks": ""
             }
            },
            "type": "scatterternary"
           }
          ],
          "surface": [
           {
            "colorbar": {
             "outlinewidth": 0,
             "ticks": ""
            },
            "colorscale": [
             [
              0,
              "#0d0887"
             ],
             [
              0.1111111111111111,
              "#46039f"
             ],
             [
              0.2222222222222222,
              "#7201a8"
             ],
             [
              0.3333333333333333,
              "#9c179e"
             ],
             [
              0.4444444444444444,
              "#bd3786"
             ],
             [
              0.5555555555555556,
              "#d8576b"
             ],
             [
              0.6666666666666666,
              "#ed7953"
             ],
             [
              0.7777777777777778,
              "#fb9f3a"
             ],
             [
              0.8888888888888888,
              "#fdca26"
             ],
             [
              1,
              "#f0f921"
             ]
            ],
            "type": "surface"
           }
          ],
          "table": [
           {
            "cells": {
             "fill": {
              "color": "#EBF0F8"
             },
             "line": {
              "color": "white"
             }
            },
            "header": {
             "fill": {
              "color": "#C8D4E3"
             },
             "line": {
              "color": "white"
             }
            },
            "type": "table"
           }
          ]
         },
         "layout": {
          "annotationdefaults": {
           "arrowcolor": "#2a3f5f",
           "arrowhead": 0,
           "arrowwidth": 1
          },
          "autotypenumbers": "strict",
          "coloraxis": {
           "colorbar": {
            "outlinewidth": 0,
            "ticks": ""
           }
          },
          "colorscale": {
           "diverging": [
            [
             0,
             "#8e0152"
            ],
            [
             0.1,
             "#c51b7d"
            ],
            [
             0.2,
             "#de77ae"
            ],
            [
             0.3,
             "#f1b6da"
            ],
            [
             0.4,
             "#fde0ef"
            ],
            [
             0.5,
             "#f7f7f7"
            ],
            [
             0.6,
             "#e6f5d0"
            ],
            [
             0.7,
             "#b8e186"
            ],
            [
             0.8,
             "#7fbc41"
            ],
            [
             0.9,
             "#4d9221"
            ],
            [
             1,
             "#276419"
            ]
           ],
           "sequential": [
            [
             0,
             "#0d0887"
            ],
            [
             0.1111111111111111,
             "#46039f"
            ],
            [
             0.2222222222222222,
             "#7201a8"
            ],
            [
             0.3333333333333333,
             "#9c179e"
            ],
            [
             0.4444444444444444,
             "#bd3786"
            ],
            [
             0.5555555555555556,
             "#d8576b"
            ],
            [
             0.6666666666666666,
             "#ed7953"
            ],
            [
             0.7777777777777778,
             "#fb9f3a"
            ],
            [
             0.8888888888888888,
             "#fdca26"
            ],
            [
             1,
             "#f0f921"
            ]
           ],
           "sequentialminus": [
            [
             0,
             "#0d0887"
            ],
            [
             0.1111111111111111,
             "#46039f"
            ],
            [
             0.2222222222222222,
             "#7201a8"
            ],
            [
             0.3333333333333333,
             "#9c179e"
            ],
            [
             0.4444444444444444,
             "#bd3786"
            ],
            [
             0.5555555555555556,
             "#d8576b"
            ],
            [
             0.6666666666666666,
             "#ed7953"
            ],
            [
             0.7777777777777778,
             "#fb9f3a"
            ],
            [
             0.8888888888888888,
             "#fdca26"
            ],
            [
             1,
             "#f0f921"
            ]
           ]
          },
          "colorway": [
           "#636efa",
           "#EF553B",
           "#00cc96",
           "#ab63fa",
           "#FFA15A",
           "#19d3f3",
           "#FF6692",
           "#B6E880",
           "#FF97FF",
           "#FECB52"
          ],
          "font": {
           "color": "#2a3f5f"
          },
          "geo": {
           "bgcolor": "white",
           "lakecolor": "white",
           "landcolor": "#E5ECF6",
           "showlakes": true,
           "showland": true,
           "subunitcolor": "white"
          },
          "hoverlabel": {
           "align": "left"
          },
          "hovermode": "closest",
          "mapbox": {
           "style": "light"
          },
          "paper_bgcolor": "white",
          "plot_bgcolor": "#E5ECF6",
          "polar": {
           "angularaxis": {
            "gridcolor": "white",
            "linecolor": "white",
            "ticks": ""
           },
           "bgcolor": "#E5ECF6",
           "radialaxis": {
            "gridcolor": "white",
            "linecolor": "white",
            "ticks": ""
           }
          },
          "scene": {
           "xaxis": {
            "backgroundcolor": "#E5ECF6",
            "gridcolor": "white",
            "gridwidth": 2,
            "linecolor": "white",
            "showbackground": true,
            "ticks": "",
            "zerolinecolor": "white"
           },
           "yaxis": {
            "backgroundcolor": "#E5ECF6",
            "gridcolor": "white",
            "gridwidth": 2,
            "linecolor": "white",
            "showbackground": true,
            "ticks": "",
            "zerolinecolor": "white"
           },
           "zaxis": {
            "backgroundcolor": "#E5ECF6",
            "gridcolor": "white",
            "gridwidth": 2,
            "linecolor": "white",
            "showbackground": true,
            "ticks": "",
            "zerolinecolor": "white"
           }
          },
          "shapedefaults": {
           "line": {
            "color": "#2a3f5f"
           }
          },
          "ternary": {
           "aaxis": {
            "gridcolor": "white",
            "linecolor": "white",
            "ticks": ""
           },
           "baxis": {
            "gridcolor": "white",
            "linecolor": "white",
            "ticks": ""
           },
           "bgcolor": "#E5ECF6",
           "caxis": {
            "gridcolor": "white",
            "linecolor": "white",
            "ticks": ""
           }
          },
          "title": {
           "x": 0.05
          },
          "xaxis": {
           "automargin": true,
           "gridcolor": "white",
           "linecolor": "white",
           "ticks": "",
           "title": {
            "standoff": 15
           },
           "zerolinecolor": "white",
           "zerolinewidth": 2
          },
          "yaxis": {
           "automargin": true,
           "gridcolor": "white",
           "linecolor": "white",
           "ticks": "",
           "title": {
            "standoff": 15
           },
           "zerolinecolor": "white",
           "zerolinewidth": 2
          }
         }
        },
        "title": {
         "text": "Parallel Categories Analysis of Most Expensive San Francisco Neighborhoods"
        }
       }
      },
      "image/png": "[encoded data removed]",
      "text/html": [
       "<div>                            <div id=\"2424723f-d640-44b4-b3ea-876aa944b29f\" class=\"plotly-graph-div\" style=\"height:525px; width:100%;\"></div>            <script type=\"text/javascript\">                require([\"plotly\"], function(Plotly) {                    window.PLOTLYENV=window.PLOTLYENV || {};                                    if (document.getElementById(\"2424723f-d640-44b4-b3ea-876aa944b29f\")) {                    Plotly.newPlot(                        \"2424723f-d640-44b4-b3ea-876aa944b29f\",                        [{\"dimensions\":[{\"label\":\"neighborhood\",\"values\":[\"Union Square District\",\"Merced Heights\",\"Miraloma Park\",\"Pacific Heights\",\"Westwood Park\",\"Telegraph Hill\",\"Presidio Heights\",\"Cow Hollow\",\"Potrero Hill\",\"South Beach\"]},{\"label\":\"sale_price_sqr_foot\",\"values\":[904.0,788.8,779.8,689.6,687.1,676.5,675.4,666.0,662.0,650.1]},{\"label\":\"housing_units\",\"values\":[377427.5,380348.0,375967.25,378401.0,382295.0,378401.0,378401.0,378401.0,378401.0,375805.0]},{\"label\":\"gross_rent\",\"values\":[2555.1666666666665,3414.0,2155.25,2817.285714285714,3959.0,2817.285714285714,2817.285714285714,2817.285714285714,2817.285714285714,2099.0]}],\"domain\":{\"x\":[0.0,1.0],\"y\":[0.0,1.0]},\"line\":{\"color\":[2555.1666666666665,3414.0,2155.25,2817.285714285714,3959.0,2817.285714285714,2817.285714285714,2817.285714285714,2817.285714285714,2099.0],\"coloraxis\":\"coloraxis\"},\"name\":\"\",\"type\":\"parcats\"}],                        {\"coloraxis\":{\"colorbar\":{\"title\":{\"text\":\"gross_rent\"}},\"colorscale\":[[0.0,\"#0d0887\"],[0.1111111111111111,\"#46039f\"],[0.2222222222222222,\"#7201a8\"],[0.3333333333333333,\"#9c179e\"],[0.4444444444444444,\"#bd3786\"],[0.5555555555555556,\"#d8576b\"],[0.6666666666666666,\"#ed7953\"],[0.7777777777777778,\"#fb9f3a\"],[0.8888888888888888,\"#fdca26\"],[1.0,\"#f0f921\"]]},\"legend\":{\"tracegroupgap\":0},\"template\":{\"data\":{\"bar\":[{\"error_x\":{\"color\":\"#2a3f5f\"},\"error_y\":{\"color\":\"#2a3f5f\"},\"marker\":{\"line\":{\"color\":\"#E5ECF6\",\"width\":0.5},\"pattern\":{\"fillmode\":\"overlay\",\"size\":10,\"solidity\":0.2}},\"type\":\"bar\"}],\"barpolar\":[{\"marker\":{\"line\":{\"color\":\"#E5ECF6\",\"width\":0.5},\"pattern\":{\"fillmode\":\"overlay\",\"size\":10,\"solidity\":0.2}},\"type\":\"barpolar\"}],\"carpet\":[{\"aaxis\":{\"endlinecolor\":\"#2a3f5f\",\"gridcolor\":\"white\",\"linecolor\":\"white\",\"minorgridcolor\":\"white\",\"startlinecolor\":\"#2a3f5f\"},\"baxis\":{\"endlinecolor\":\"#2a3f5f\",\"gridcolor\":\"white\",\"linecolor\":\"white\",\"minorgridcolor\":\"white\",\"startlinecolor\":\"#2a3f5f\"},\"type\":\"carpet\"}],\"choropleth\":[{\"colorbar\":{\"outlinewidth\":0,\"ticks\":\"\"},\"type\":\"choropleth\"}],\"contour\":[{\"colorbar\":{\"outlinewidth\":0,\"ticks\":\"\"},\"colorscale\":[[0.0,\"#0d0887\"],[0.1111111111111111,\"#46039f\"],[0.2222222222222222,\"#7201a8\"],[0.3333333333333333,\"#9c179e\"],[0.4444444444444444,\"#bd3786\"],[0.5555555555555556,\"#d8576b\"],[0.6666666666666666,\"#ed7953\"],[0.7777777777777778,\"#fb9f3a\"],[0.8888888888888888,\"#fdca26\"],[1.0,\"#f0f921\"]],\"type\":\"contour\"}],\"contourcarpet\":[{\"colorbar\":{\"outlinewidth\":0,\"ticks\":\"\"},\"type\":\"contourcarpet\"}],\"heatmap\":[{\"colorbar\":{\"outlinewidth\":0,\"ticks\":\"\"},\"colorscale\":[[0.0,\"#0d0887\"],[0.1111111111111111,\"#46039f\"],[0.2222222222222222,\"#7201a8\"],[0.3333333333333333,\"#9c179e\"],[0.4444444444444444,\"#bd3786\"],[0.5555555555555556,\"#d8576b\"],[0.6666666666666666,\"#ed7953\"],[0.7777777777777778,\"#fb9f3a\"],[0.8888888888888888,\"#fdca26\"],[1.0,\"#f0f921\"]],\"type\":\"heatmap\"}],\"heatmapgl\":[{\"colorbar\":{\"outlinewidth\":0,\"ticks\":\"\"},\"colorscale\":[[0.0,\"#0d0887\"],[0.1111111111111111,\"#46039f\"],[0.2222222222222222,\"#7201a8\"],[0.3333333333333333,\"#9c179e\"],[0.4444444444444444,\"#bd3786\"],[0.5555555555555556,\"#d8576b\"],[0.6666666666666666,\"#ed7953\"],[0.7777777777777778,\"#fb9f3a\"],[0.8888888888888888,\"#fdca26\"],[1.0,\"#f0f921\"]],\"type\":\"heatmapgl\"}],\"histogram\":[{\"marker\":{\"pattern\":{\"fillmode\":\"overlay\",\"size\":10,\"solidity\":0.2}},\"type\":\"histogram\"}],\"histogram2d\":[{\"colorbar\":{\"outlinewidth\":0,\"ticks\":\"\"},\"colorscale\":[[0.0,\"#0d0887\"],[0.1111111111111111,\"#46039f\"],[0.2222222222222222,\"#7201a8\"],[0.3333333333333333,\"#9c179e\"],[0.4444444444444444,\"#bd3786\"],[0.5555555555555556,\"#d8576b\"],[0.6666666666666666,\"#ed7953\"],[0.7777777777777778,\"#fb9f3a\"],[0.8888888888888888,\"#fdca26\"],[1.0,\"#f0f921\"]],\"type\":\"histogram2d\"}],\"histogram2dcontour\":[{\"colorbar\":{\"outlinewidth\":0,\"ticks\":\"\"},\"colorscale\":[[0.0,\"#0d0887\"],[0.1111111111111111,\"#46039f\"],[0.2222222222222222,\"#7201a8\"],[0.3333333333333333,\"#9c179e\"],[0.4444444444444444,\"#bd3786\"],[0.5555555555555556,\"#d8576b\"],[0.6666666666666666,\"#ed7953\"],[0.7777777777777778,\"#fb9f3a\"],[0.8888888888888888,\"#fdca26\"],[1.0,\"#f0f921\"]],\"type\":\"histogram2dcontour\"}],\"mesh3d\":[{\"colorbar\":{\"outlinewidth\":0,\"ticks\":\"\"},\"type\":\"mesh3d\"}],\"parcoords\":[{\"line\":{\"colorbar\":{\"outlinewidth\":0,\"ticks\":\"\"}},\"type\":\"parcoords\"}],\"pie\":[{\"automargin\":true,\"type\":\"pie\"}],\"scatter\":[{\"marker\":{\"colorbar\":{\"outlinewidth\":0,\"ticks\":\"\"}},\"type\":\"scatter\"}],\"scatter3d\":[{\"line\":{\"colorbar\":{\"outlinewidth\":0,\"ticks\":\"\"}},\"marker\":{\"colorbar\":{\"outlinewidth\":0,\"ticks\":\"\"}},\"type\":\"scatter3d\"}],\"scattercarpet\":[{\"marker\":{\"colorbar\":{\"outlinewidth\":0,\"ticks\":\"\"}},\"type\":\"scattercarpet\"}],\"scattergeo\":[{\"marker\":{\"colorbar\":{\"outlinewidth\":0,\"ticks\":\"\"}},\"type\":\"scattergeo\"}],\"scattergl\":[{\"marker\":{\"colorbar\":{\"outlinewidth\":0,\"ticks\":\"\"}},\"type\":\"scattergl\"}],\"scattermapbox\":[{\"marker\":{\"colorbar\":{\"outlinewidth\":0,\"ticks\":\"\"}},\"type\":\"scattermapbox\"}],\"scatterpolar\":[{\"marker\":{\"colorbar\":{\"outlinewidth\":0,\"ticks\":\"\"}},\"type\":\"scatterpolar\"}],\"scatterpolargl\":[{\"marker\":{\"colorbar\":{\"outlinewidth\":0,\"ticks\":\"\"}},\"type\":\"scatterpolargl\"}],\"scatterternary\":[{\"marker\":{\"colorbar\":{\"outlinewidth\":0,\"ticks\":\"\"}},\"type\":\"scatterternary\"}],\"surface\":[{\"colorbar\":{\"outlinewidth\":0,\"ticks\":\"\"},\"colorscale\":[[0.0,\"#0d0887\"],[0.1111111111111111,\"#46039f\"],[0.2222222222222222,\"#7201a8\"],[0.3333333333333333,\"#9c179e\"],[0.4444444444444444,\"#bd3786\"],[0.5555555555555556,\"#d8576b\"],[0.6666666666666666,\"#ed7953\"],[0.7777777777777778,\"#fb9f3a\"],[0.8888888888888888,\"#fdca26\"],[1.0,\"#f0f921\"]],\"type\":\"surface\"}],\"table\":[{\"cells\":{\"fill\":{\"color\":\"#EBF0F8\"},\"line\":{\"color\":\"white\"}},\"header\":{\"fill\":{\"color\":\"#C8D4E3\"},\"line\":{\"color\":\"white\"}},\"type\":\"table\"}]},\"layout\":{\"annotationdefaults\":{\"arrowcolor\":\"#2a3f5f\",\"arrowhead\":0,\"arrowwidth\":1},\"autotypenumbers\":\"strict\",\"coloraxis\":{\"colorbar\":{\"outlinewidth\":0,\"ticks\":\"\"}},\"colorscale\":{\"diverging\":[[0,\"#8e0152\"],[0.1,\"#c51b7d\"],[0.2,\"#de77ae\"],[0.3,\"#f1b6da\"],[0.4,\"#fde0ef\"],[0.5,\"#f7f7f7\"],[0.6,\"#e6f5d0\"],[0.7,\"#b8e186\"],[0.8,\"#7fbc41\"],[0.9,\"#4d9221\"],[1,\"#276419\"]],\"sequential\":[[0.0,\"#0d0887\"],[0.1111111111111111,\"#46039f\"],[0.2222222222222222,\"#7201a8\"],[0.3333333333333333,\"#9c179e\"],[0.4444444444444444,\"#bd3786\"],[0.5555555555555556,\"#d8576b\"],[0.6666666666666666,\"#ed7953\"],[0.7777777777777778,\"#fb9f3a\"],[0.8888888888888888,\"#fdca26\"],[1.0,\"#f0f921\"]],\"sequentialminus\":[[0.0,\"#0d0887\"],[0.1111111111111111,\"#46039f\"],[0.2222222222222222,\"#7201a8\"],[0.3333333333333333,\"#9c179e\"],[0.4444444444444444,\"#bd3786\"],[0.5555555555555556,\"#d8576b\"],[0.6666666666666666,\"#ed7953\"],[0.7777777777777778,\"#fb9f3a\"],[0.8888888888888888,\"#fdca26\"],[1.0,\"#f0f921\"]]},\"colorway\":[\"#636efa\",\"#EF553B\",\"#00cc96\",\"#ab63fa\",\"#FFA15A\",\"#19d3f3\",\"#FF6692\",\"#B6E880\",\"#FF97FF\",\"#FECB52\"],\"font\":{\"color\":\"#2a3f5f\"},\"geo\":{\"bgcolor\":\"white\",\"lakecolor\":\"white\",\"landcolor\":\"#E5ECF6\",\"showlakes\":true,\"showland\":true,\"subunitcolor\":\"white\"},\"hoverlabel\":{\"align\":\"left\"},\"hovermode\":\"closest\",\"mapbox\":{\"style\":\"light\"},\"paper_bgcolor\":\"white\",\"plot_bgcolor\":\"#E5ECF6\",\"polar\":{\"angularaxis\":{\"gridcolor\":\"white\",\"linecolor\":\"white\",\"ticks\":\"\"},\"bgcolor\":\"#E5ECF6\",\"radialaxis\":{\"gridcolor\":\"white\",\"linecolor\":\"white\",\"ticks\":\"\"}},\"scene\":{\"xaxis\":{\"backgroundcolor\":\"#E5ECF6\",\"gridcolor\":\"white\",\"gridwidth\":2,\"linecolor\":\"white\",\"showbackground\":true,\"ticks\":\"\",\"zerolinecolor\":\"white\"},\"yaxis\":{\"backgroundcolor\":\"#E5ECF6\",\"gridcolor\":\"white\",\"gridwidth\":2,\"linecolor\":\"white\",\"showbackground\":true,\"ticks\":\"\",\"zerolinecolor\":\"white\"},\"zaxis\":{\"backgroundcolor\":\"#E5ECF6\",\"gridcolor\":\"white\",\"gridwidth\":2,\"linecolor\":\"white\",\"showbackground\":true,\"ticks\":\"\",\"zerolinecolor\":\"white\"}},\"shapedefaults\":{\"line\":{\"color\":\"#2a3f5f\"}},\"ternary\":{\"aaxis\":{\"gridcolor\":\"white\",\"linecolor\":\"white\",\"ticks\":\"\"},\"baxis\":{\"gridcolor\":\"white\",\"linecolor\":\"white\",\"ticks\":\"\"},\"bgcolor\":\"#E5ECF6\",\"caxis\":{\"gridcolor\":\"white\",\"linecolor\":\"white\",\"ticks\":\"\"}},\"title\":{\"x\":0.05},\"xaxis\":{\"automargin\":true,\"gridcolor\":\"white\",\"linecolor\":\"white\",\"ticks\":\"\",\"title\":{\"standoff\":15},\"zerolinecolor\":\"white\",\"zerolinewidth\":2},\"yaxis\":{\"automargin\":true,\"gridcolor\":\"white\",\"linecolor\":\"white\",\"ticks\":\"\",\"title\":{\"standoff\":15},\"zerolinecolor\":\"white\",\"zerolinewidth\":2}}},\"title\":{\"text\":\"Parallel Categories Analysis of Most Expensive San Francisco Neighborhoods\"}},                        {\"responsive\": true}                    ).then(function(){\n",
       "                            \n",
       "var gd = document.getElementById('2424723f-d640-44b4-b3ea-876aa944b29f');\n",
       "var x = new MutationObserver(function (mutations, observer) {{\n",
       "        var display = window.getComputedStyle(gd).display;\n",
       "        if (!display || display === 'none') {{\n",
       "            console.log([gd, 'removed!']);\n",
       "            Plotly.purge(gd);\n",
       "            observer.disconnect();\n",
       "        }}\n",
       "}});\n",
       "\n",
       "// Listen for the removal of the full notebook cells\n",
       "var notebookContainer = gd.closest('#notebook-container');\n",
       "if (notebookContainer) {{\n",
       "    x.observe(notebookContainer, {childList: true});\n",
       "}}\n",
       "\n",
       "// Listen for the clearing of the current output cell\n",
       "var outputEl = gd.closest('.output');\n",
       "if (outputEl) {{\n",
       "    x.observe(outputEl, {childList: true});\n",
       "}}\n",
       "\n",
       "                        })                };                });            </script>        </div>"
      ]
     },
     "metadata": {},
     "output_type": "display_data"
    }
   ],
   "source": [
    "# Fetch the data from all expensive neighborhoods per year.\n",
    "most_exp = sfo_data.groupby(['neighborhood']).mean().sort_values(by='sale_price_sqr_foot', axis=0, ascending=False)\n",
    "most_exp = most_exp.reset_index().head(10)\n",
    "most_exp['sale_price_sqr_foot'] = most_exp['sale_price_sqr_foot'].round(1)\n",
    "\n",
    "#Parallel Categories Plot\n",
    "par_plot = px.parallel_categories(most_exp,\n",
    "    color='gross_rent',\n",
    "    title='Parallel Categories Analysis of Most Expensive San Francisco Neighborhoods'\n",
    "                                 )\n",
    "\n",
    "par_plot.show()"
   ]
  },
  {
   "cell_type": "code",
   "execution_count": 355,
   "id": "7fa34d5a",
   "metadata": {},
   "outputs": [
    {
     "data": {
      "application/vnd.plotly.v1+json": {
       "config": {
        "plotlyServerURL": "https://plot.ly"
       },
       "data": [
        {
         "dimensions": [
          {
           "label": "sale_price_sqr_foot",
           "values": [
            904,
            788.8,
            779.8,
            689.6,
            687.1,
            676.5,
            675.4,
            666,
            662,
            650.1
           ]
          },
          {
           "label": "housing_units",
           "values": [
            377427.5,
            380348,
            375967.25,
            378401,
            382295,
            378401,
            378401,
            378401,
            378401,
            375805
           ]
          },
          {
           "label": "gross_rent",
           "values": [
            2555.1666666666665,
            3414,
            2155.25,
            2817.285714285714,
            3959,
            2817.285714285714,
            2817.285714285714,
            2817.285714285714,
            2817.285714285714,
            2099
           ]
          }
         ],
         "domain": {
          "x": [
           0,
           1
          ],
          "y": [
           0,
           1
          ]
         },
         "line": {
          "color": [
           904,
           788.8,
           779.8,
           689.6,
           687.1,
           676.5,
           675.4,
           666,
           662,
           650.1
          ],
          "coloraxis": "coloraxis"
         },
         "name": "",
         "type": "parcoords"
        }
       ],
       "layout": {
        "autosize": true,
        "coloraxis": {
         "colorbar": {
          "title": {
           "text": "sale_price_sqr_foot"
          }
         },
         "colorscale": [
          [
           0,
           "#0d0887"
          ],
          [
           0.1111111111111111,
           "#46039f"
          ],
          [
           0.2222222222222222,
           "#7201a8"
          ],
          [
           0.3333333333333333,
           "#9c179e"
          ],
          [
           0.4444444444444444,
           "#bd3786"
          ],
          [
           0.5555555555555556,
           "#d8576b"
          ],
          [
           0.6666666666666666,
           "#ed7953"
          ],
          [
           0.7777777777777778,
           "#fb9f3a"
          ],
          [
           0.8888888888888888,
           "#fdca26"
          ],
          [
           1,
           "#f0f921"
          ]
         ]
        },
        "legend": {
         "tracegroupgap": 0
        },
        "template": {
         "data": {
          "bar": [
           {
            "error_x": {
             "color": "#2a3f5f"
            },
            "error_y": {
             "color": "#2a3f5f"
            },
            "marker": {
             "line": {
              "color": "#E5ECF6",
              "width": 0.5
             },
             "pattern": {
              "fillmode": "overlay",
              "size": 10,
              "solidity": 0.2
             }
            },
            "type": "bar"
           }
          ],
          "barpolar": [
           {
            "marker": {
             "line": {
              "color": "#E5ECF6",
              "width": 0.5
             },
             "pattern": {
              "fillmode": "overlay",
              "size": 10,
              "solidity": 0.2
             }
            },
            "type": "barpolar"
           }
          ],
          "carpet": [
           {
            "aaxis": {
             "endlinecolor": "#2a3f5f",
             "gridcolor": "white",
             "linecolor": "white",
             "minorgridcolor": "white",
             "startlinecolor": "#2a3f5f"
            },
            "baxis": {
             "endlinecolor": "#2a3f5f",
             "gridcolor": "white",
             "linecolor": "white",
             "minorgridcolor": "white",
             "startlinecolor": "#2a3f5f"
            },
            "type": "carpet"
           }
          ],
          "choropleth": [
           {
            "colorbar": {
             "outlinewidth": 0,
             "ticks": ""
            },
            "type": "choropleth"
           }
          ],
          "contour": [
           {
            "colorbar": {
             "outlinewidth": 0,
             "ticks": ""
            },
            "colorscale": [
             [
              0,
              "#0d0887"
             ],
             [
              0.1111111111111111,
              "#46039f"
             ],
             [
              0.2222222222222222,
              "#7201a8"
             ],
             [
              0.3333333333333333,
              "#9c179e"
             ],
             [
              0.4444444444444444,
              "#bd3786"
             ],
             [
              0.5555555555555556,
              "#d8576b"
             ],
             [
              0.6666666666666666,
              "#ed7953"
             ],
             [
              0.7777777777777778,
              "#fb9f3a"
             ],
             [
              0.8888888888888888,
              "#fdca26"
             ],
             [
              1,
              "#f0f921"
             ]
            ],
            "type": "contour"
           }
          ],
          "contourcarpet": [
           {
            "colorbar": {
             "outlinewidth": 0,
             "ticks": ""
            },
            "type": "contourcarpet"
           }
          ],
          "heatmap": [
           {
            "colorbar": {
             "outlinewidth": 0,
             "ticks": ""
            },
            "colorscale": [
             [
              0,
              "#0d0887"
             ],
             [
              0.1111111111111111,
              "#46039f"
             ],
             [
              0.2222222222222222,
              "#7201a8"
             ],
             [
              0.3333333333333333,
              "#9c179e"
             ],
             [
              0.4444444444444444,
              "#bd3786"
             ],
             [
              0.5555555555555556,
              "#d8576b"
             ],
             [
              0.6666666666666666,
              "#ed7953"
             ],
             [
              0.7777777777777778,
              "#fb9f3a"
             ],
             [
              0.8888888888888888,
              "#fdca26"
             ],
             [
              1,
              "#f0f921"
             ]
            ],
            "type": "heatmap"
           }
          ],
          "heatmapgl": [
           {
            "colorbar": {
             "outlinewidth": 0,
             "ticks": ""
            },
            "colorscale": [
             [
              0,
              "#0d0887"
             ],
             [
              0.1111111111111111,
              "#46039f"
             ],
             [
              0.2222222222222222,
              "#7201a8"
             ],
             [
              0.3333333333333333,
              "#9c179e"
             ],
             [
              0.4444444444444444,
              "#bd3786"
             ],
             [
              0.5555555555555556,
              "#d8576b"
             ],
             [
              0.6666666666666666,
              "#ed7953"
             ],
             [
              0.7777777777777778,
              "#fb9f3a"
             ],
             [
              0.8888888888888888,
              "#fdca26"
             ],
             [
              1,
              "#f0f921"
             ]
            ],
            "type": "heatmapgl"
           }
          ],
          "histogram": [
           {
            "marker": {
             "pattern": {
              "fillmode": "overlay",
              "size": 10,
              "solidity": 0.2
             }
            },
            "type": "histogram"
           }
          ],
          "histogram2d": [
           {
            "colorbar": {
             "outlinewidth": 0,
             "ticks": ""
            },
            "colorscale": [
             [
              0,
              "#0d0887"
             ],
             [
              0.1111111111111111,
              "#46039f"
             ],
             [
              0.2222222222222222,
              "#7201a8"
             ],
             [
              0.3333333333333333,
              "#9c179e"
             ],
             [
              0.4444444444444444,
              "#bd3786"
             ],
             [
              0.5555555555555556,
              "#d8576b"
             ],
             [
              0.6666666666666666,
              "#ed7953"
             ],
             [
              0.7777777777777778,
              "#fb9f3a"
             ],
             [
              0.8888888888888888,
              "#fdca26"
             ],
             [
              1,
              "#f0f921"
             ]
            ],
            "type": "histogram2d"
           }
          ],
          "histogram2dcontour": [
           {
            "colorbar": {
             "outlinewidth": 0,
             "ticks": ""
            },
            "colorscale": [
             [
              0,
              "#0d0887"
             ],
             [
              0.1111111111111111,
              "#46039f"
             ],
             [
              0.2222222222222222,
              "#7201a8"
             ],
             [
              0.3333333333333333,
              "#9c179e"
             ],
             [
              0.4444444444444444,
              "#bd3786"
             ],
             [
              0.5555555555555556,
              "#d8576b"
             ],
             [
              0.6666666666666666,
              "#ed7953"
             ],
             [
              0.7777777777777778,
              "#fb9f3a"
             ],
             [
              0.8888888888888888,
              "#fdca26"
             ],
             [
              1,
              "#f0f921"
             ]
            ],
            "type": "histogram2dcontour"
           }
          ],
          "mesh3d": [
           {
            "colorbar": {
             "outlinewidth": 0,
             "ticks": ""
            },
            "type": "mesh3d"
           }
          ],
          "parcoords": [
           {
            "line": {
             "colorbar": {
              "outlinewidth": 0,
              "ticks": ""
             }
            },
            "type": "parcoords"
           }
          ],
          "pie": [
           {
            "automargin": true,
            "type": "pie"
           }
          ],
          "scatter": [
           {
            "marker": {
             "colorbar": {
              "outlinewidth": 0,
              "ticks": ""
             }
            },
            "type": "scatter"
           }
          ],
          "scatter3d": [
           {
            "line": {
             "colorbar": {
              "outlinewidth": 0,
              "ticks": ""
             }
            },
            "marker": {
             "colorbar": {
              "outlinewidth": 0,
              "ticks": ""
             }
            },
            "type": "scatter3d"
           }
          ],
          "scattercarpet": [
           {
            "marker": {
             "colorbar": {
              "outlinewidth": 0,
              "ticks": ""
             }
            },
            "type": "scattercarpet"
           }
          ],
          "scattergeo": [
           {
            "marker": {
             "colorbar": {
              "outlinewidth": 0,
              "ticks": ""
             }
            },
            "type": "scattergeo"
           }
          ],
          "scattergl": [
           {
            "marker": {
             "colorbar": {
              "outlinewidth": 0,
              "ticks": ""
             }
            },
            "type": "scattergl"
           }
          ],
          "scattermapbox": [
           {
            "marker": {
             "colorbar": {
              "outlinewidth": 0,
              "ticks": ""
             }
            },
            "type": "scattermapbox"
           }
          ],
          "scatterpolar": [
           {
            "marker": {
             "colorbar": {
              "outlinewidth": 0,
              "ticks": ""
             }
            },
            "type": "scatterpolar"
           }
          ],
          "scatterpolargl": [
           {
            "marker": {
             "colorbar": {
              "outlinewidth": 0,
              "ticks": ""
             }
            },
            "type": "scatterpolargl"
           }
          ],
          "scatterternary": [
           {
            "marker": {
             "colorbar": {
              "outlinewidth": 0,
              "ticks": ""
             }
            },
            "type": "scatterternary"
           }
          ],
          "surface": [
           {
            "colorbar": {
             "outlinewidth": 0,
             "ticks": ""
            },
            "colorscale": [
             [
              0,
              "#0d0887"
             ],
             [
              0.1111111111111111,
              "#46039f"
             ],
             [
              0.2222222222222222,
              "#7201a8"
             ],
             [
              0.3333333333333333,
              "#9c179e"
             ],
             [
              0.4444444444444444,
              "#bd3786"
             ],
             [
              0.5555555555555556,
              "#d8576b"
             ],
             [
              0.6666666666666666,
              "#ed7953"
             ],
             [
              0.7777777777777778,
              "#fb9f3a"
             ],
             [
              0.8888888888888888,
              "#fdca26"
             ],
             [
              1,
              "#f0f921"
             ]
            ],
            "type": "surface"
           }
          ],
          "table": [
           {
            "cells": {
             "fill": {
              "color": "#EBF0F8"
             },
             "line": {
              "color": "white"
             }
            },
            "header": {
             "fill": {
              "color": "#C8D4E3"
             },
             "line": {
              "color": "white"
             }
            },
            "type": "table"
           }
          ]
         },
         "layout": {
          "annotationdefaults": {
           "arrowcolor": "#2a3f5f",
           "arrowhead": 0,
           "arrowwidth": 1
          },
          "autotypenumbers": "strict",
          "coloraxis": {
           "colorbar": {
            "outlinewidth": 0,
            "ticks": ""
           }
          },
          "colorscale": {
           "diverging": [
            [
             0,
             "#8e0152"
            ],
            [
             0.1,
             "#c51b7d"
            ],
            [
             0.2,
             "#de77ae"
            ],
            [
             0.3,
             "#f1b6da"
            ],
            [
             0.4,
             "#fde0ef"
            ],
            [
             0.5,
             "#f7f7f7"
            ],
            [
             0.6,
             "#e6f5d0"
            ],
            [
             0.7,
             "#b8e186"
            ],
            [
             0.8,
             "#7fbc41"
            ],
            [
             0.9,
             "#4d9221"
            ],
            [
             1,
             "#276419"
            ]
           ],
           "sequential": [
            [
             0,
             "#0d0887"
            ],
            [
             0.1111111111111111,
             "#46039f"
            ],
            [
             0.2222222222222222,
             "#7201a8"
            ],
            [
             0.3333333333333333,
             "#9c179e"
            ],
            [
             0.4444444444444444,
             "#bd3786"
            ],
            [
             0.5555555555555556,
             "#d8576b"
            ],
            [
             0.6666666666666666,
             "#ed7953"
            ],
            [
             0.7777777777777778,
             "#fb9f3a"
            ],
            [
             0.8888888888888888,
             "#fdca26"
            ],
            [
             1,
             "#f0f921"
            ]
           ],
           "sequentialminus": [
            [
             0,
             "#0d0887"
            ],
            [
             0.1111111111111111,
             "#46039f"
            ],
            [
             0.2222222222222222,
             "#7201a8"
            ],
            [
             0.3333333333333333,
             "#9c179e"
            ],
            [
             0.4444444444444444,
             "#bd3786"
            ],
            [
             0.5555555555555556,
             "#d8576b"
            ],
            [
             0.6666666666666666,
             "#ed7953"
            ],
            [
             0.7777777777777778,
             "#fb9f3a"
            ],
            [
             0.8888888888888888,
             "#fdca26"
            ],
            [
             1,
             "#f0f921"
            ]
           ]
          },
          "colorway": [
           "#636efa",
           "#EF553B",
           "#00cc96",
           "#ab63fa",
           "#FFA15A",
           "#19d3f3",
           "#FF6692",
           "#B6E880",
           "#FF97FF",
           "#FECB52"
          ],
          "font": {
           "color": "#2a3f5f"
          },
          "geo": {
           "bgcolor": "white",
           "lakecolor": "white",
           "landcolor": "#E5ECF6",
           "showlakes": true,
           "showland": true,
           "subunitcolor": "white"
          },
          "hoverlabel": {
           "align": "left"
          },
          "hovermode": "closest",
          "mapbox": {
           "style": "light"
          },
          "paper_bgcolor": "white",
          "plot_bgcolor": "#E5ECF6",
          "polar": {
           "angularaxis": {
            "gridcolor": "white",
            "linecolor": "white",
            "ticks": ""
           },
           "bgcolor": "#E5ECF6",
           "radialaxis": {
            "gridcolor": "white",
            "linecolor": "white",
            "ticks": ""
           }
          },
          "scene": {
           "xaxis": {
            "backgroundcolor": "#E5ECF6",
            "gridcolor": "white",
            "gridwidth": 2,
            "linecolor": "white",
            "showbackground": true,
            "ticks": "",
            "zerolinecolor": "white"
           },
           "yaxis": {
            "backgroundcolor": "#E5ECF6",
            "gridcolor": "white",
            "gridwidth": 2,
            "linecolor": "white",
            "showbackground": true,
            "ticks": "",
            "zerolinecolor": "white"
           },
           "zaxis": {
            "backgroundcolor": "#E5ECF6",
            "gridcolor": "white",
            "gridwidth": 2,
            "linecolor": "white",
            "showbackground": true,
            "ticks": "",
            "zerolinecolor": "white"
           }
          },
          "shapedefaults": {
           "line": {
            "color": "#2a3f5f"
           }
          },
          "ternary": {
           "aaxis": {
            "gridcolor": "white",
            "linecolor": "white",
            "ticks": ""
           },
           "baxis": {
            "gridcolor": "white",
            "linecolor": "white",
            "ticks": ""
           },
           "bgcolor": "#E5ECF6",
           "caxis": {
            "gridcolor": "white",
            "linecolor": "white",
            "ticks": ""
           }
          },
          "title": {
           "x": 0.05
          },
          "xaxis": {
           "automargin": true,
           "gridcolor": "white",
           "linecolor": "white",
           "ticks": "",
           "title": {
            "standoff": 15
           },
           "zerolinecolor": "white",
           "zerolinewidth": 2
          },
          "yaxis": {
           "automargin": true,
           "gridcolor": "white",
           "linecolor": "white",
           "ticks": "",
           "title": {
            "standoff": 15
           },
           "zerolinecolor": "white",
           "zerolinewidth": 2
          }
         }
        },
        "title": {
         "text": "Parallel Coordinates Analysis of Most Expensive San Francisco Neighborhoods"
        }
       }
      },
      "image/png": "[encoded data removed]",
      "text/html": [
       "<div>                            <div id=\"7c0f5be9-1626-461c-8041-5b23d18304f2\" class=\"plotly-graph-div\" style=\"height:525px; width:100%;\"></div>            <script type=\"text/javascript\">                require([\"plotly\"], function(Plotly) {                    window.PLOTLYENV=window.PLOTLYENV || {};                                    if (document.getElementById(\"7c0f5be9-1626-461c-8041-5b23d18304f2\")) {                    Plotly.newPlot(                        \"7c0f5be9-1626-461c-8041-5b23d18304f2\",                        [{\"dimensions\":[{\"label\":\"sale_price_sqr_foot\",\"values\":[904.0,788.8,779.8,689.6,687.1,676.5,675.4,666.0,662.0,650.1]},{\"label\":\"housing_units\",\"values\":[377427.5,380348.0,375967.25,378401.0,382295.0,378401.0,378401.0,378401.0,378401.0,375805.0]},{\"label\":\"gross_rent\",\"values\":[2555.1666666666665,3414.0,2155.25,2817.285714285714,3959.0,2817.285714285714,2817.285714285714,2817.285714285714,2817.285714285714,2099.0]}],\"domain\":{\"x\":[0.0,1.0],\"y\":[0.0,1.0]},\"line\":{\"color\":[904.0,788.8,779.8,689.6,687.1,676.5,675.4,666.0,662.0,650.1],\"coloraxis\":\"coloraxis\"},\"name\":\"\",\"type\":\"parcoords\"}],                        {\"coloraxis\":{\"colorbar\":{\"title\":{\"text\":\"sale_price_sqr_foot\"}},\"colorscale\":[[0.0,\"#0d0887\"],[0.1111111111111111,\"#46039f\"],[0.2222222222222222,\"#7201a8\"],[0.3333333333333333,\"#9c179e\"],[0.4444444444444444,\"#bd3786\"],[0.5555555555555556,\"#d8576b\"],[0.6666666666666666,\"#ed7953\"],[0.7777777777777778,\"#fb9f3a\"],[0.8888888888888888,\"#fdca26\"],[1.0,\"#f0f921\"]]},\"legend\":{\"tracegroupgap\":0},\"template\":{\"data\":{\"bar\":[{\"error_x\":{\"color\":\"#2a3f5f\"},\"error_y\":{\"color\":\"#2a3f5f\"},\"marker\":{\"line\":{\"color\":\"#E5ECF6\",\"width\":0.5},\"pattern\":{\"fillmode\":\"overlay\",\"size\":10,\"solidity\":0.2}},\"type\":\"bar\"}],\"barpolar\":[{\"marker\":{\"line\":{\"color\":\"#E5ECF6\",\"width\":0.5},\"pattern\":{\"fillmode\":\"overlay\",\"size\":10,\"solidity\":0.2}},\"type\":\"barpolar\"}],\"carpet\":[{\"aaxis\":{\"endlinecolor\":\"#2a3f5f\",\"gridcolor\":\"white\",\"linecolor\":\"white\",\"minorgridcolor\":\"white\",\"startlinecolor\":\"#2a3f5f\"},\"baxis\":{\"endlinecolor\":\"#2a3f5f\",\"gridcolor\":\"white\",\"linecolor\":\"white\",\"minorgridcolor\":\"white\",\"startlinecolor\":\"#2a3f5f\"},\"type\":\"carpet\"}],\"choropleth\":[{\"colorbar\":{\"outlinewidth\":0,\"ticks\":\"\"},\"type\":\"choropleth\"}],\"contour\":[{\"colorbar\":{\"outlinewidth\":0,\"ticks\":\"\"},\"colorscale\":[[0.0,\"#0d0887\"],[0.1111111111111111,\"#46039f\"],[0.2222222222222222,\"#7201a8\"],[0.3333333333333333,\"#9c179e\"],[0.4444444444444444,\"#bd3786\"],[0.5555555555555556,\"#d8576b\"],[0.6666666666666666,\"#ed7953\"],[0.7777777777777778,\"#fb9f3a\"],[0.8888888888888888,\"#fdca26\"],[1.0,\"#f0f921\"]],\"type\":\"contour\"}],\"contourcarpet\":[{\"colorbar\":{\"outlinewidth\":0,\"ticks\":\"\"},\"type\":\"contourcarpet\"}],\"heatmap\":[{\"colorbar\":{\"outlinewidth\":0,\"ticks\":\"\"},\"colorscale\":[[0.0,\"#0d0887\"],[0.1111111111111111,\"#46039f\"],[0.2222222222222222,\"#7201a8\"],[0.3333333333333333,\"#9c179e\"],[0.4444444444444444,\"#bd3786\"],[0.5555555555555556,\"#d8576b\"],[0.6666666666666666,\"#ed7953\"],[0.7777777777777778,\"#fb9f3a\"],[0.8888888888888888,\"#fdca26\"],[1.0,\"#f0f921\"]],\"type\":\"heatmap\"}],\"heatmapgl\":[{\"colorbar\":{\"outlinewidth\":0,\"ticks\":\"\"},\"colorscale\":[[0.0,\"#0d0887\"],[0.1111111111111111,\"#46039f\"],[0.2222222222222222,\"#7201a8\"],[0.3333333333333333,\"#9c179e\"],[0.4444444444444444,\"#bd3786\"],[0.5555555555555556,\"#d8576b\"],[0.6666666666666666,\"#ed7953\"],[0.7777777777777778,\"#fb9f3a\"],[0.8888888888888888,\"#fdca26\"],[1.0,\"#f0f921\"]],\"type\":\"heatmapgl\"}],\"histogram\":[{\"marker\":{\"pattern\":{\"fillmode\":\"overlay\",\"size\":10,\"solidity\":0.2}},\"type\":\"histogram\"}],\"histogram2d\":[{\"colorbar\":{\"outlinewidth\":0,\"ticks\":\"\"},\"colorscale\":[[0.0,\"#0d0887\"],[0.1111111111111111,\"#46039f\"],[0.2222222222222222,\"#7201a8\"],[0.3333333333333333,\"#9c179e\"],[0.4444444444444444,\"#bd3786\"],[0.5555555555555556,\"#d8576b\"],[0.6666666666666666,\"#ed7953\"],[0.7777777777777778,\"#fb9f3a\"],[0.8888888888888888,\"#fdca26\"],[1.0,\"#f0f921\"]],\"type\":\"histogram2d\"}],\"histogram2dcontour\":[{\"colorbar\":{\"outlinewidth\":0,\"ticks\":\"\"},\"colorscale\":[[0.0,\"#0d0887\"],[0.1111111111111111,\"#46039f\"],[0.2222222222222222,\"#7201a8\"],[0.3333333333333333,\"#9c179e\"],[0.4444444444444444,\"#bd3786\"],[0.5555555555555556,\"#d8576b\"],[0.6666666666666666,\"#ed7953\"],[0.7777777777777778,\"#fb9f3a\"],[0.8888888888888888,\"#fdca26\"],[1.0,\"#f0f921\"]],\"type\":\"histogram2dcontour\"}],\"mesh3d\":[{\"colorbar\":{\"outlinewidth\":0,\"ticks\":\"\"},\"type\":\"mesh3d\"}],\"parcoords\":[{\"line\":{\"colorbar\":{\"outlinewidth\":0,\"ticks\":\"\"}},\"type\":\"parcoords\"}],\"pie\":[{\"automargin\":true,\"type\":\"pie\"}],\"scatter\":[{\"marker\":{\"colorbar\":{\"outlinewidth\":0,\"ticks\":\"\"}},\"type\":\"scatter\"}],\"scatter3d\":[{\"line\":{\"colorbar\":{\"outlinewidth\":0,\"ticks\":\"\"}},\"marker\":{\"colorbar\":{\"outlinewidth\":0,\"ticks\":\"\"}},\"type\":\"scatter3d\"}],\"scattercarpet\":[{\"marker\":{\"colorbar\":{\"outlinewidth\":0,\"ticks\":\"\"}},\"type\":\"scattercarpet\"}],\"scattergeo\":[{\"marker\":{\"colorbar\":{\"outlinewidth\":0,\"ticks\":\"\"}},\"type\":\"scattergeo\"}],\"scattergl\":[{\"marker\":{\"colorbar\":{\"outlinewidth\":0,\"ticks\":\"\"}},\"type\":\"scattergl\"}],\"scattermapbox\":[{\"marker\":{\"colorbar\":{\"outlinewidth\":0,\"ticks\":\"\"}},\"type\":\"scattermapbox\"}],\"scatterpolar\":[{\"marker\":{\"colorbar\":{\"outlinewidth\":0,\"ticks\":\"\"}},\"type\":\"scatterpolar\"}],\"scatterpolargl\":[{\"marker\":{\"colorbar\":{\"outlinewidth\":0,\"ticks\":\"\"}},\"type\":\"scatterpolargl\"}],\"scatterternary\":[{\"marker\":{\"colorbar\":{\"outlinewidth\":0,\"ticks\":\"\"}},\"type\":\"scatterternary\"}],\"surface\":[{\"colorbar\":{\"outlinewidth\":0,\"ticks\":\"\"},\"colorscale\":[[0.0,\"#0d0887\"],[0.1111111111111111,\"#46039f\"],[0.2222222222222222,\"#7201a8\"],[0.3333333333333333,\"#9c179e\"],[0.4444444444444444,\"#bd3786\"],[0.5555555555555556,\"#d8576b\"],[0.6666666666666666,\"#ed7953\"],[0.7777777777777778,\"#fb9f3a\"],[0.8888888888888888,\"#fdca26\"],[1.0,\"#f0f921\"]],\"type\":\"surface\"}],\"table\":[{\"cells\":{\"fill\":{\"color\":\"#EBF0F8\"},\"line\":{\"color\":\"white\"}},\"header\":{\"fill\":{\"color\":\"#C8D4E3\"},\"line\":{\"color\":\"white\"}},\"type\":\"table\"}]},\"layout\":{\"annotationdefaults\":{\"arrowcolor\":\"#2a3f5f\",\"arrowhead\":0,\"arrowwidth\":1},\"autotypenumbers\":\"strict\",\"coloraxis\":{\"colorbar\":{\"outlinewidth\":0,\"ticks\":\"\"}},\"colorscale\":{\"diverging\":[[0,\"#8e0152\"],[0.1,\"#c51b7d\"],[0.2,\"#de77ae\"],[0.3,\"#f1b6da\"],[0.4,\"#fde0ef\"],[0.5,\"#f7f7f7\"],[0.6,\"#e6f5d0\"],[0.7,\"#b8e186\"],[0.8,\"#7fbc41\"],[0.9,\"#4d9221\"],[1,\"#276419\"]],\"sequential\":[[0.0,\"#0d0887\"],[0.1111111111111111,\"#46039f\"],[0.2222222222222222,\"#7201a8\"],[0.3333333333333333,\"#9c179e\"],[0.4444444444444444,\"#bd3786\"],[0.5555555555555556,\"#d8576b\"],[0.6666666666666666,\"#ed7953\"],[0.7777777777777778,\"#fb9f3a\"],[0.8888888888888888,\"#fdca26\"],[1.0,\"#f0f921\"]],\"sequentialminus\":[[0.0,\"#0d0887\"],[0.1111111111111111,\"#46039f\"],[0.2222222222222222,\"#7201a8\"],[0.3333333333333333,\"#9c179e\"],[0.4444444444444444,\"#bd3786\"],[0.5555555555555556,\"#d8576b\"],[0.6666666666666666,\"#ed7953\"],[0.7777777777777778,\"#fb9f3a\"],[0.8888888888888888,\"#fdca26\"],[1.0,\"#f0f921\"]]},\"colorway\":[\"#636efa\",\"#EF553B\",\"#00cc96\",\"#ab63fa\",\"#FFA15A\",\"#19d3f3\",\"#FF6692\",\"#B6E880\",\"#FF97FF\",\"#FECB52\"],\"font\":{\"color\":\"#2a3f5f\"},\"geo\":{\"bgcolor\":\"white\",\"lakecolor\":\"white\",\"landcolor\":\"#E5ECF6\",\"showlakes\":true,\"showland\":true,\"subunitcolor\":\"white\"},\"hoverlabel\":{\"align\":\"left\"},\"hovermode\":\"closest\",\"mapbox\":{\"style\":\"light\"},\"paper_bgcolor\":\"white\",\"plot_bgcolor\":\"#E5ECF6\",\"polar\":{\"angularaxis\":{\"gridcolor\":\"white\",\"linecolor\":\"white\",\"ticks\":\"\"},\"bgcolor\":\"#E5ECF6\",\"radialaxis\":{\"gridcolor\":\"white\",\"linecolor\":\"white\",\"ticks\":\"\"}},\"scene\":{\"xaxis\":{\"backgroundcolor\":\"#E5ECF6\",\"gridcolor\":\"white\",\"gridwidth\":2,\"linecolor\":\"white\",\"showbackground\":true,\"ticks\":\"\",\"zerolinecolor\":\"white\"},\"yaxis\":{\"backgroundcolor\":\"#E5ECF6\",\"gridcolor\":\"white\",\"gridwidth\":2,\"linecolor\":\"white\",\"showbackground\":true,\"ticks\":\"\",\"zerolinecolor\":\"white\"},\"zaxis\":{\"backgroundcolor\":\"#E5ECF6\",\"gridcolor\":\"white\",\"gridwidth\":2,\"linecolor\":\"white\",\"showbackground\":true,\"ticks\":\"\",\"zerolinecolor\":\"white\"}},\"shapedefaults\":{\"line\":{\"color\":\"#2a3f5f\"}},\"ternary\":{\"aaxis\":{\"gridcolor\":\"white\",\"linecolor\":\"white\",\"ticks\":\"\"},\"baxis\":{\"gridcolor\":\"white\",\"linecolor\":\"white\",\"ticks\":\"\"},\"bgcolor\":\"#E5ECF6\",\"caxis\":{\"gridcolor\":\"white\",\"linecolor\":\"white\",\"ticks\":\"\"}},\"title\":{\"x\":0.05},\"xaxis\":{\"automargin\":true,\"gridcolor\":\"white\",\"linecolor\":\"white\",\"ticks\":\"\",\"title\":{\"standoff\":15},\"zerolinecolor\":\"white\",\"zerolinewidth\":2},\"yaxis\":{\"automargin\":true,\"gridcolor\":\"white\",\"linecolor\":\"white\",\"ticks\":\"\",\"title\":{\"standoff\":15},\"zerolinecolor\":\"white\",\"zerolinewidth\":2}}},\"title\":{\"text\":\"Parallel Coordinates Analysis of Most Expensive San Francisco Neighborhoods\"}},                        {\"responsive\": true}                    ).then(function(){\n",
       "                            \n",
       "var gd = document.getElementById('7c0f5be9-1626-461c-8041-5b23d18304f2');\n",
       "var x = new MutationObserver(function (mutations, observer) {{\n",
       "        var display = window.getComputedStyle(gd).display;\n",
       "        if (!display || display === 'none') {{\n",
       "            console.log([gd, 'removed!']);\n",
       "            Plotly.purge(gd);\n",
       "            observer.disconnect();\n",
       "        }}\n",
       "}});\n",
       "\n",
       "// Listen for the removal of the full notebook cells\n",
       "var notebookContainer = gd.closest('#notebook-container');\n",
       "if (notebookContainer) {{\n",
       "    x.observe(notebookContainer, {childList: true});\n",
       "}}\n",
       "\n",
       "// Listen for the clearing of the current output cell\n",
       "var outputEl = gd.closest('.output');\n",
       "if (outputEl) {{\n",
       "    x.observe(outputEl, {childList: true});\n",
       "}}\n",
       "\n",
       "                        })                };                });            </script>        </div>"
      ]
     },
     "metadata": {},
     "output_type": "display_data"
    }
   ],
   "source": [
    "# Parallel Coordinates Plot\n",
    "par_cord_plot = px.parallel_coordinates(most_exp,\n",
    "    color='sale_price_sqr_foot',\n",
    "    title='Parallel Coordinates Analysis of Most Expensive San Francisco Neighborhoods'\n",
    "                                       )\n",
    "\n",
    "par_cord_plot.show()"
   ]
  },
  {
   "cell_type": "markdown",
   "id": "41e634bd",
   "metadata": {},
   "source": [
    "### Create a sunburst chart to conduct a costs analysis of most expensive neighborhoods in San Francisco per year"
   ]
  },
  {
   "cell_type": "code",
   "execution_count": 371,
   "id": "e9aa8a80",
   "metadata": {},
   "outputs": [
    {
     "data": {
      "application/vnd.plotly.v1+json": {
       "config": {
        "plotlyServerURL": "https://plot.ly"
       },
       "data": [
        {
         "domain": {
          "x": [
           0,
           1
          ],
          "y": [
           0,
           1
          ]
         },
         "hovertemplate": "neighborhood=%{label}<br>sale_price_sqr_foot=%{value}<br>gross_rent=%{color}<extra></extra>",
         "labels": [
          "Alamo Square",
          "Anza Vista",
          "Bayview",
          "Buena Vista Park",
          "Central Richmond",
          "Central Sunset",
          "Corona Heights",
          "Cow Hollow",
          "Croker Amazon",
          "Diamond Heights",
          "Downtown ",
          "Eureka Valley/Dolores Heights",
          "Excelsior",
          "Financial District North",
          "Financial District South",
          "Forest Knolls",
          "Glen Park",
          "Golden Gate Heights",
          "Haight Ashbury",
          "Hayes Valley",
          "Hunters Point",
          "Ingleside ",
          "Inner Mission",
          "Inner Parkside",
          "Inner Richmond",
          "Inner Sunset",
          "Jordan Park/Laurel Heights",
          "Lake --The Presidio",
          "Lone Mountain",
          "Lower Pacific Heights",
          "Marina",
          "Miraloma Park",
          "Mission Bay",
          "Mission Dolores",
          "Mission Terrace",
          "Nob Hill",
          "Noe Valley",
          "Oceanview",
          "Outer Parkside",
          "Outer Richmond ",
          "Outer Sunset",
          "Pacific Heights",
          "Park North",
          "Parkside",
          "Parnassus/Ashbury Heights",
          "Portola",
          "Potrero Hill",
          "Presidio Heights",
          "Russian Hill",
          "South Beach",
          "South of Market",
          "Sunnyside",
          "Telegraph Hill",
          "Twin Peaks",
          "Union Square District",
          "Van Ness/ Civic Center",
          "West Portal",
          "Western Addition",
          "Yerba Buena",
          "Alamo Square",
          "Bayview",
          "Bernal Heights ",
          "Buena Vista Park",
          "Central Richmond",
          "Central Sunset",
          "Clarendon Heights",
          "Corona Heights",
          "Cow Hollow",
          "Croker Amazon",
          "Diamond Heights",
          "Downtown ",
          "Duboce Triangle",
          "Eureka Valley/Dolores Heights",
          "Financial District North",
          "Financial District South",
          "Glen Park",
          "Golden Gate Heights",
          "Haight Ashbury",
          "Hayes Valley",
          "Ingleside ",
          "Ingleside Heights",
          "Inner Mission",
          "Inner Richmond",
          "Inner Sunset",
          "Jordan Park/Laurel Heights",
          "Lake --The Presidio",
          "Lone Mountain",
          "Lower Pacific Heights",
          "Marina",
          "Miraloma Park",
          "Mission Bay",
          "Mission Dolores",
          "Nob Hill",
          "Noe Valley",
          "North Beach",
          "North Waterfront",
          "Outer Mission",
          "Outer Parkside",
          "Outer Richmond ",
          "Outer Sunset",
          "Pacific Heights",
          "Park North",
          "Parkside",
          "Parnassus/Ashbury Heights",
          "Portola",
          "Potrero Hill",
          "Presidio Heights",
          "Russian Hill",
          "South Beach",
          "South of Market",
          "Sunnyside",
          "Telegraph Hill",
          "Twin Peaks",
          "Union Square District",
          "Van Ness/ Civic Center",
          "Western Addition",
          "Westwood Highlands",
          "Yerba Buena",
          "Alamo Square",
          "Anza Vista",
          "Bayview",
          "Bernal Heights ",
          "Buena Vista Park",
          "Central Richmond",
          "Central Sunset",
          "Corona Heights",
          "Cow Hollow",
          "Croker Amazon",
          "Diamond Heights",
          "Downtown ",
          "Duboce Triangle",
          "Eureka Valley/Dolores Heights",
          "Excelsior",
          "Financial District North",
          "Financial District South",
          "Forest Knolls",
          "Haight Ashbury",
          "Hayes Valley",
          "Inner Mission",
          "Inner Richmond",
          "Inner Sunset",
          "Jordan Park/Laurel Heights",
          "Lake --The Presidio",
          "Lone Mountain",
          "Lower Pacific Heights",
          "Marina",
          "Merced Heights",
          "Midtown Terrace",
          "Miraloma Park",
          "Mission Bay",
          "Mission Dolores",
          "Nob Hill",
          "Noe Valley",
          "North Beach",
          "North Waterfront",
          "Oceanview",
          "Outer Mission",
          "Outer Parkside",
          "Outer Richmond ",
          "Outer Sunset",
          "Pacific Heights",
          "Park North",
          "Parkside",
          "Parnassus/Ashbury Heights",
          "Portola",
          "Potrero Hill",
          "Presidio Heights",
          "Russian Hill",
          "South of Market",
          "Telegraph Hill",
          "Twin Peaks",
          "Union Square District",
          "Van Ness/ Civic Center",
          "West Portal",
          "Western Addition",
          "Yerba Buena",
          "Alamo Square",
          "Anza Vista",
          "Bayview",
          "Bernal Heights ",
          "Buena Vista Park",
          "Central Richmond",
          "Central Sunset",
          "Clarendon Heights",
          "Cow Hollow",
          "Croker Amazon",
          "Diamond Heights",
          "Downtown ",
          "Eureka Valley/Dolores Heights",
          "Excelsior",
          "Financial District North",
          "Glen Park",
          "Golden Gate Heights",
          "Haight Ashbury",
          "Hayes Valley",
          "Inner Mission",
          "Inner Richmond",
          "Inner Sunset",
          "Jordan Park/Laurel Heights",
          "Lake --The Presidio",
          "Lone Mountain",
          "Lower Pacific Heights",
          "Marina",
          "Midtown Terrace",
          "Mission Bay",
          "Mission Dolores",
          "Mission Terrace",
          "Nob Hill",
          "Noe Valley",
          "North Beach",
          "North Waterfront",
          "Outer Parkside",
          "Outer Richmond ",
          "Outer Sunset",
          "Pacific Heights",
          "Park North",
          "Parkside",
          "Parnassus/Ashbury Heights",
          "Portola",
          "Potrero Hill",
          "Presidio Heights",
          "Russian Hill",
          "South of Market",
          "Sunnyside",
          "Telegraph Hill",
          "Twin Peaks",
          "Union Square District",
          "Van Ness/ Civic Center",
          "Visitacion Valley",
          "West Portal",
          "Western Addition",
          "Westwood Highlands",
          "Yerba Buena",
          "Alamo Square",
          "Anza Vista",
          "Bayview",
          "Bernal Heights ",
          "Central Richmond",
          "Central Sunset",
          "Corona Heights",
          "Cow Hollow",
          "Downtown ",
          "Duboce Triangle",
          "Eureka Valley/Dolores Heights",
          "Excelsior",
          "Financial District North",
          "Financial District South",
          "Glen Park",
          "Golden Gate Heights",
          "Haight Ashbury",
          "Hayes Valley",
          "Ingleside ",
          "Inner Mission",
          "Inner Parkside",
          "Inner Richmond",
          "Inner Sunset",
          "Jordan Park/Laurel Heights",
          "Lake --The Presidio",
          "Lone Mountain",
          "Lower Pacific Heights",
          "Marina",
          "Merced Heights",
          "Miraloma Park",
          "Mission Bay",
          "Mission Dolores",
          "Mission Terrace",
          "Nob Hill",
          "Noe Valley",
          "North Waterfront",
          "Outer Parkside",
          "Outer Richmond ",
          "Outer Sunset",
          "Pacific Heights",
          "Park North",
          "Parkside",
          "Parnassus/Ashbury Heights",
          "Portola",
          "Potrero Hill",
          "Presidio Heights",
          "Russian Hill",
          "Silver Terrace",
          "South Beach",
          "South of Market",
          "Sunnyside",
          "Telegraph Hill",
          "Twin Peaks",
          "Union Square District",
          "Van Ness/ Civic Center",
          "Visitacion Valley",
          "West Portal",
          "Western Addition",
          "Westwood Park",
          "Yerba Buena",
          "Alamo Square",
          "Anza Vista",
          "Bayview Heights",
          "Bernal Heights ",
          "Buena Vista Park",
          "Central Richmond",
          "Central Sunset",
          "Corona Heights",
          "Cow Hollow",
          "Croker Amazon",
          "Downtown ",
          "Duboce Triangle",
          "Eureka Valley/Dolores Heights",
          "Excelsior",
          "Financial District North",
          "Financial District South",
          "Glen Park",
          "Golden Gate Heights",
          "Haight Ashbury",
          "Hayes Valley",
          "Hunters Point",
          "Ingleside ",
          "Inner Mission",
          "Inner Parkside",
          "Inner Richmond",
          "Inner Sunset",
          "Jordan Park/Laurel Heights",
          "Lake --The Presidio",
          "Lone Mountain",
          "Lower Pacific Heights",
          "Marina",
          "Mission Dolores",
          "Mission Terrace",
          "Nob Hill",
          "Noe Valley",
          "North Beach",
          "North Waterfront",
          "Oceanview",
          "Outer Mission",
          "Outer Parkside",
          "Outer Richmond ",
          "Outer Sunset",
          "Pacific Heights",
          "Park North",
          "Parkside",
          "Parnassus/Ashbury Heights",
          "Potrero Hill",
          "Presidio Heights",
          "Russian Hill",
          "South of Market",
          "Sunnyside",
          "Telegraph Hill",
          "Twin Peaks",
          "Union Square District",
          "Van Ness/ Civic Center",
          "Visitacion Valley",
          "Western Addition",
          "Yerba Buena",
          "Alamo Square",
          "Anza Vista",
          "Bernal Heights ",
          "Buena Vista Park",
          "Central Richmond",
          "Central Sunset",
          "Cow Hollow",
          "Croker Amazon",
          "Downtown ",
          "Eureka Valley/Dolores Heights",
          "Excelsior",
          "Financial District North",
          "Glen Park",
          "Haight Ashbury",
          "Hayes Valley",
          "Ingleside Heights",
          "Inner Mission",
          "Inner Parkside",
          "Inner Richmond",
          "Inner Sunset",
          "Jordan Park/Laurel Heights",
          "Lower Pacific Heights",
          "Marina",
          "Merced Heights",
          "Mission Bay",
          "Mission Terrace",
          "Nob Hill",
          "Noe Valley",
          "North Beach",
          "Outer Mission",
          "Outer Parkside",
          "Outer Richmond ",
          "Outer Sunset",
          "Pacific Heights",
          "Park North",
          "Parnassus/Ashbury Heights",
          "Potrero Hill",
          "Presidio Heights",
          "Russian Hill",
          "South of Market",
          "Sunnyside",
          "Telegraph Hill",
          "Twin Peaks",
          "Van Ness/ Civic Center",
          "Visitacion Valley",
          "Westwood Park"
         ],
         "marker": {
          "coloraxis": "coloraxis",
          "colors": [
           1239,
           1239,
           1239,
           1239,
           1239,
           1239,
           1239,
           1239,
           1239,
           1239,
           1239,
           1239,
           1239,
           1239,
           1239,
           1239,
           1239,
           1239,
           1239,
           1239,
           1239,
           1239,
           1239,
           1239,
           1239,
           1239,
           1239,
           1239,
           1239,
           1239,
           1239,
           1239,
           1239,
           1239,
           1239,
           1239,
           1239,
           1239,
           1239,
           1239,
           1239,
           1239,
           1239,
           1239,
           1239,
           1239,
           1239,
           1239,
           1239,
           1239,
           1239,
           1239,
           1239,
           1239,
           1239,
           1239,
           1239,
           1239,
           1239,
           1530,
           1530,
           1530,
           1530,
           1530,
           1530,
           1530,
           1530,
           1530,
           1530,
           1530,
           1530,
           1530,
           1530,
           1530,
           1530,
           1530,
           1530,
           1530,
           1530,
           1530,
           1530,
           1530,
           1530,
           1530,
           1530,
           1530,
           1530,
           1530,
           1530,
           1530,
           1530,
           1530,
           1530,
           1530,
           1530,
           1530,
           1530,
           1530,
           1530,
           1530,
           1530,
           1530,
           1530,
           1530,
           1530,
           1530,
           1530,
           1530,
           1530,
           1530,
           1530,
           1530,
           1530,
           1530,
           1530,
           1530,
           1530,
           1530,
           2324,
           2324,
           2324,
           2324,
           2324,
           2324,
           2324,
           2324,
           2324,
           2324,
           2324,
           2324,
           2324,
           2324,
           2324,
           2324,
           2324,
           2324,
           2324,
           2324,
           2324,
           2324,
           2324,
           2324,
           2324,
           2324,
           2324,
           2324,
           2324,
           2324,
           2324,
           2324,
           2324,
           2324,
           2324,
           2324,
           2324,
           2324,
           2324,
           2324,
           2324,
           2324,
           2324,
           2324,
           2324,
           2324,
           2324,
           2324,
           2324,
           2324,
           2324,
           2324,
           2324,
           2324,
           2324,
           2324,
           2324,
           2324,
           2971,
           2971,
           2971,
           2971,
           2971,
           2971,
           2971,
           2971,
           2971,
           2971,
           2971,
           2971,
           2971,
           2971,
           2971,
           2971,
           2971,
           2971,
           2971,
           2971,
           2971,
           2971,
           2971,
           2971,
           2971,
           2971,
           2971,
           2971,
           2971,
           2971,
           2971,
           2971,
           2971,
           2971,
           2971,
           2971,
           2971,
           2971,
           2971,
           2971,
           2971,
           2971,
           2971,
           2971,
           2971,
           2971,
           2971,
           2971,
           2971,
           2971,
           2971,
           2971,
           2971,
           2971,
           2971,
           2971,
           2971,
           3528,
           3528,
           3528,
           3528,
           3528,
           3528,
           3528,
           3528,
           3528,
           3528,
           3528,
           3528,
           3528,
           3528,
           3528,
           3528,
           3528,
           3528,
           3528,
           3528,
           3528,
           3528,
           3528,
           3528,
           3528,
           3528,
           3528,
           3528,
           3528,
           3528,
           3528,
           3528,
           3528,
           3528,
           3528,
           3528,
           3528,
           3528,
           3528,
           3528,
           3528,
           3528,
           3528,
           3528,
           3528,
           3528,
           3528,
           3528,
           3528,
           3528,
           3528,
           3528,
           3528,
           3528,
           3528,
           3528,
           3528,
           3528,
           3528,
           3528,
           3739,
           3739,
           3739,
           3739,
           3739,
           3739,
           3739,
           3739,
           3739,
           3739,
           3739,
           3739,
           3739,
           3739,
           3739,
           3739,
           3739,
           3739,
           3739,
           3739,
           3739,
           3739,
           3739,
           3739,
           3739,
           3739,
           3739,
           3739,
           3739,
           3739,
           3739,
           3739,
           3739,
           3739,
           3739,
           3739,
           3739,
           3739,
           3739,
           3739,
           3739,
           3739,
           3739,
           3739,
           3739,
           3739,
           3739,
           3739,
           3739,
           3739,
           3739,
           3739,
           3739,
           3739,
           3739,
           3739,
           3739,
           3739,
           4390,
           4390,
           4390,
           4390,
           4390,
           4390,
           4390,
           4390,
           4390,
           4390,
           4390,
           4390,
           4390,
           4390,
           4390,
           4390,
           4390,
           4390,
           4390,
           4390,
           4390,
           4390,
           4390,
           4390,
           4390,
           4390,
           4390,
           4390,
           4390,
           4390,
           4390,
           4390,
           4390,
           4390,
           4390,
           4390,
           4390,
           4390,
           4390,
           4390,
           4390,
           4390,
           4390,
           4390,
           4390,
           4390
          ]
         },
         "name": "",
         "type": "sunburst",
         "values": [
          291.18294547229095,
          267.9325826799483,
          170.09866536400102,
          347.3949194037114,
          319.0276225530687,
          418.1724927089675,
          369.35933800413665,
          569.3799679261333,
          165.6457300650791,
          456.9308221979013,
          241.80455206485138,
          403.1183126490986,
          364.92833570851764,
          401.7499665916537,
          162.82121004772353,
          209.0493266346945,
          715.5864380979738,
          551.8011188234774,
          254.47377914469143,
          272.28497956385485,
          170.62491987132685,
          275.05668560990915,
          238.35002040677708,
          199.70200378219917,
          285.82235848868265,
          275.76972957461044,
          419.88781187646566,
          320.79691049204627,
          398.4588759923028,
          374.05763601016855,
          387.392839476922,
          680.6087291389301,
          489.80537777998506,
          257.98799863500693,
          262.87602564056425,
          307.67747674427835,
          381.13844514705266,
          282.11967050133603,
          432.19529211245555,
          338.12619999607017,
          368.31155203937294,
          496.51601414694983,
          326.01715041025074,
          274.16674158669116,
          434.25500394602585,
          302.15611319728896,
          491.45000385678617,
          549.4179312485746,
          362.34822391312133,
          1037.0997886617895,
          401.2959764896399,
          542.5316819894505,
          524.7935090952678,
          331.55599614560697,
          569.1934475267735,
          108.0129268765048,
          392.30076417058257,
          215.56913431487555,
          333.12677384193887,
          272.5273101795261,
          172.54056243085552,
          471.9217320911283,
          171.7723466866044,
          261.6638003416518,
          391.42644972996203,
          520.7181675305429,
          222.567848047696,
          390.5956530284181,
          145.85338027594094,
          382.3522610640586,
          234.28162351035442,
          295.77937822922695,
          413.16280403427527,
          281.312904357283,
          354.66555789282774,
          457.41388429762526,
          348.92970004124925,
          392.35345097326814,
          280.73063309393075,
          356.7090091359044,
          198.01587292452027,
          283.17495073168755,
          360.03727240448274,
          302.60448945564127,
          610.7666631577348,
          330.10889435237306,
          313.33845823084727,
          303.5441997161898,
          390.81846895621413,
          414.67606477603755,
          506.95217450146765,
          293.4042461148187,
          340.6425969783877,
          373.97868706755236,
          290.9210327099608,
          346.96116001560216,
          142.14256751724554,
          241.94565649181578,
          271.09013956932756,
          297.2455578459466,
          509.0214800287398,
          289.60560009472283,
          217.55878684527906,
          466.6178976523653,
          208.1679967483858,
          503.13850456030497,
          493.814917282618,
          448.3201042149405,
          388.6443367815385,
          337.91413464365013,
          437.16429949197664,
          483.4057725178001,
          284.56696642681646,
          302.12325280969134,
          384.23680203579306,
          227.41898086494461,
          320.0743330547439,
          438.86054508174806,
          183.09931693145703,
          344.4909139677922,
          165.79806239165433,
          368.26656078838516,
          338.60116351046344,
          279.0301399218751,
          334.4878725198492,
          356.7948135908725,
          644.8183066758803,
          415.0903401095623,
          366.9954275112727,
          269.109528813633,
          452.66002242984047,
          524.8134180834782,
          371.0302152741686,
          286.3519820673892,
          613.8430658201435,
          434.63234651328025,
          418.83037933269526,
          306.3779578647354,
          336.8259501844992,
          373.4668636470579,
          325.82892041816064,
          383.15039609809617,
          380.5214843069476,
          545.9801982412763,
          396.171112391617,
          445.21509554245245,
          421.1412447061912,
          397.9391288956355,
          756.1923725098497,
          689.5233123659036,
          320.9599230279341,
          307.78311439850694,
          428.0219127043747,
          517.1734931165627,
          390.3838567783597,
          442.24265696115737,
          221.881138746669,
          312.83398436239065,
          338.63301173022234,
          413.05871935195154,
          586.2182148097696,
          288.0785187599688,
          378.2738784387478,
          515.9210732061051,
          351.0432256921308,
          466.6478402167172,
          426.60859207171325,
          414.16272789686775,
          463.8098989043553,
          465.80212163177373,
          304.89964760284107,
          445.1967876448791,
          345.95804038831767,
          325.79541506433713,
          274.33846004864847,
          491.8140030500954,
          387.79414379681333,
          453.34049829869934,
          259.54716259308043,
          630.8973025513741,
          455.2180887853926,
          343.0542609770136,
          330.7364310191893,
          453.7716045219721,
          707.4028088888208,
          223.11583290346024,
          533.6884470076521,
          361.45469198221224,
          608.694967227678,
          289.749665708438,
          274.4579436322337,
          458.7213317825408,
          956.1841219171133,
          478.4956365730093,
          491.5892613631572,
          377.51801557551835,
          302.96737702840636,
          435.5456667813491,
          584.0737147409254,
          568.6511487607912,
          376.08359802951554,
          548.0466890413603,
          655.1980415945777,
          703.0815676877947,
          null,
          427.16626614177557,
          591.4020223180053,
          466.02648785310464,
          615.0639297056517,
          393.71733534550384,
          483.16880334240136,
          372.24198616911974,
          332.40781536886453,
          322.0822144332409,
          503.89926133005366,
          512.6307219919141,
          364.62465302417013,
          425.64225533080946,
          235.99759251727426,
          598.704795328917,
          512.8402484358223,
          506.22752218971993,
          420.822184596571,
          505.83481143735054,
          653.3116166908643,
          414.43569251368126,
          1290.472106646641,
          285.0095060630079,
          293.2983722057751,
          588.0747967826295,
          217.0890689540353,
          747.3335378171588,
          753.0114133184368,
          484.44355217067766,
          620.4414065565543,
          254.95866163273848,
          544.5469286452765,
          423.95272693478194,
          456.2419957897522,
          888.1821435177138,
          691.8654114838455,
          428.7265326799175,
          630.3115352378672,
          728.9797158498743,
          358.30523872237734,
          409.9438351783924,
          694.4181461347432,
          553.5627522522698,
          567.3400104586143,
          496.55100121228986,
          428.9237926791115,
          647.6496334575522,
          464.1758436880091,
          597.200528047448,
          430.9396363161629,
          470.85352986706454,
          426.7863811847511,
          432.9627229749631,
          317.2219194303952,
          716.3765095625198,
          642.838478220973,
          528.7265413888829,
          1267.7662026328826,
          220.11108719171108,
          642.2195925518147,
          300.1873092016618,
          478.44335175268515,
          654.801499892284,
          379.92536172660726,
          650.963515967709,
          401.9350222176535,
          490.36358286726374,
          824.6586936349588,
          371.9242451684328,
          446.23924529045684,
          773.4061347806703,
          538.204698577284,
          1045.2015459222662,
          603.4509968798565,
          714.2220737504065,
          170.2925485152069,
          524.6293121403909,
          1119.8388773148026,
          493.45560489574007,
          708.1930316849231,
          562.9112337982453,
          558.2711194060469,
          475.39318681250677,
          282.02546830016496,
          687.7829633004552,
          429.4883174233179,
          742.9797231632554,
          479.9237488133093,
          602.1158769435002,
          465.68627450980387,
          590.7928388746802,
          458.0042993401075,
          551.6956218496264,
          473.1638149617127,
          453.3793770708969,
          1100.7911936704506,
          598.6205414959003,
          301.61864706270705,
          485.8868855757771,
          631.6456863280099,
          790.1803690820187,
          414.35585647200105,
          694.358566653677,
          453.4330812935196,
          612.1061563311456,
          772.7128362001238,
          574.2740565313097,
          536.5571018753241,
          null,
          192.16524813774402,
          435.9007753824155,
          762.5272331154684,
          493.61555763336935,
          639.1464438694404,
          576.4579094375945,
          426.6849522707296,
          918.2882682038704,
          800.0388650775142,
          1132.8373605554546,
          571.7557085689908,
          583.8486362312665,
          529.847319131393,
          544.6002639104154,
          448.86919667679206,
          890.9095931764135,
          265.92982650327014,
          564.6874764662283,
          652.2879690318528,
          438.4677874196749,
          357.8946922463997,
          910.1876901656897,
          616.5723883169862,
          null,
          605.3433249358948,
          821.3009904764873,
          null,
          793.2619915605263,
          717.0825412171872,
          439.7498835483721,
          996.9902204858653,
          417.33537892280015,
          2258.702831998355,
          677.8382318281795,
          302.2218727063018,
          481.46924427394237,
          963.5226061641273,
          340.98183523166995,
          88.40151094606408,
          986.8421052631579,
          851.4014053492668,
          661.0644257703083,
          581.3708750724594,
          1059.0656015492618,
          566.7011760342162,
          718.7768297452345,
          1026.7911075237503,
          534.2262501283425,
          null,
          945.5665024630542,
          531.8350322320708,
          175.06606919629078,
          571.5799833446893,
          647.7704471840341,
          518.1126504655916,
          403.31113221139015,
          445.9238282688497,
          704.5664189758045,
          636.4307703489127,
          431.94460202359033,
          1416.666666666667,
          924.5691159025888,
          879.0170132325142,
          777.0083145338547,
          799.4956512788842,
          407.5533215595707,
          40.7726253518439,
          732.7206841423807,
          1196.645436923929,
          510.5769072143791,
          996.3893635634033,
          211.30136986006568,
          1207.997484708169,
          707.6516094320912,
          1465.9685863874345,
          1024.3398771365157,
          531.1363737279744,
          751.1737089201877,
          903.0497705987848,
          970.08547008547,
          552.6025671312701,
          328.31900668576884,
          631.1954258724091
         ]
        }
       ],
       "layout": {
        "autosize": true,
        "coloraxis": {
         "colorbar": {
          "title": {
           "text": "gross_rent"
          }
         },
         "colorscale": [
          [
           0,
           "#0d0887"
          ],
          [
           0.1111111111111111,
           "#46039f"
          ],
          [
           0.2222222222222222,
           "#7201a8"
          ],
          [
           0.3333333333333333,
           "#9c179e"
          ],
          [
           0.4444444444444444,
           "#bd3786"
          ],
          [
           0.5555555555555556,
           "#d8576b"
          ],
          [
           0.6666666666666666,
           "#ed7953"
          ],
          [
           0.7777777777777778,
           "#fb9f3a"
          ],
          [
           0.8888888888888888,
           "#fdca26"
          ],
          [
           1,
           "#f0f921"
          ]
         ]
        },
        "legend": {
         "tracegroupgap": 0
        },
        "template": {
         "data": {
          "bar": [
           {
            "error_x": {
             "color": "#2a3f5f"
            },
            "error_y": {
             "color": "#2a3f5f"
            },
            "marker": {
             "line": {
              "color": "#E5ECF6",
              "width": 0.5
             },
             "pattern": {
              "fillmode": "overlay",
              "size": 10,
              "solidity": 0.2
             }
            },
            "type": "bar"
           }
          ],
          "barpolar": [
           {
            "marker": {
             "line": {
              "color": "#E5ECF6",
              "width": 0.5
             },
             "pattern": {
              "fillmode": "overlay",
              "size": 10,
              "solidity": 0.2
             }
            },
            "type": "barpolar"
           }
          ],
          "carpet": [
           {
            "aaxis": {
             "endlinecolor": "#2a3f5f",
             "gridcolor": "white",
             "linecolor": "white",
             "minorgridcolor": "white",
             "startlinecolor": "#2a3f5f"
            },
            "baxis": {
             "endlinecolor": "#2a3f5f",
             "gridcolor": "white",
             "linecolor": "white",
             "minorgridcolor": "white",
             "startlinecolor": "#2a3f5f"
            },
            "type": "carpet"
           }
          ],
          "choropleth": [
           {
            "colorbar": {
             "outlinewidth": 0,
             "ticks": ""
            },
            "type": "choropleth"
           }
          ],
          "contour": [
           {
            "colorbar": {
             "outlinewidth": 0,
             "ticks": ""
            },
            "colorscale": [
             [
              0,
              "#0d0887"
             ],
             [
              0.1111111111111111,
              "#46039f"
             ],
             [
              0.2222222222222222,
              "#7201a8"
             ],
             [
              0.3333333333333333,
              "#9c179e"
             ],
             [
              0.4444444444444444,
              "#bd3786"
             ],
             [
              0.5555555555555556,
              "#d8576b"
             ],
             [
              0.6666666666666666,
              "#ed7953"
             ],
             [
              0.7777777777777778,
              "#fb9f3a"
             ],
             [
              0.8888888888888888,
              "#fdca26"
             ],
             [
              1,
              "#f0f921"
             ]
            ],
            "type": "contour"
           }
          ],
          "contourcarpet": [
           {
            "colorbar": {
             "outlinewidth": 0,
             "ticks": ""
            },
            "type": "contourcarpet"
           }
          ],
          "heatmap": [
           {
            "colorbar": {
             "outlinewidth": 0,
             "ticks": ""
            },
            "colorscale": [
             [
              0,
              "#0d0887"
             ],
             [
              0.1111111111111111,
              "#46039f"
             ],
             [
              0.2222222222222222,
              "#7201a8"
             ],
             [
              0.3333333333333333,
              "#9c179e"
             ],
             [
              0.4444444444444444,
              "#bd3786"
             ],
             [
              0.5555555555555556,
              "#d8576b"
             ],
             [
              0.6666666666666666,
              "#ed7953"
             ],
             [
              0.7777777777777778,
              "#fb9f3a"
             ],
             [
              0.8888888888888888,
              "#fdca26"
             ],
             [
              1,
              "#f0f921"
             ]
            ],
            "type": "heatmap"
           }
          ],
          "heatmapgl": [
           {
            "colorbar": {
             "outlinewidth": 0,
             "ticks": ""
            },
            "colorscale": [
             [
              0,
              "#0d0887"
             ],
             [
              0.1111111111111111,
              "#46039f"
             ],
             [
              0.2222222222222222,
              "#7201a8"
             ],
             [
              0.3333333333333333,
              "#9c179e"
             ],
             [
              0.4444444444444444,
              "#bd3786"
             ],
             [
              0.5555555555555556,
              "#d8576b"
             ],
             [
              0.6666666666666666,
              "#ed7953"
             ],
             [
              0.7777777777777778,
              "#fb9f3a"
             ],
             [
              0.8888888888888888,
              "#fdca26"
             ],
             [
              1,
              "#f0f921"
             ]
            ],
            "type": "heatmapgl"
           }
          ],
          "histogram": [
           {
            "marker": {
             "pattern": {
              "fillmode": "overlay",
              "size": 10,
              "solidity": 0.2
             }
            },
            "type": "histogram"
           }
          ],
          "histogram2d": [
           {
            "colorbar": {
             "outlinewidth": 0,
             "ticks": ""
            },
            "colorscale": [
             [
              0,
              "#0d0887"
             ],
             [
              0.1111111111111111,
              "#46039f"
             ],
             [
              0.2222222222222222,
              "#7201a8"
             ],
             [
              0.3333333333333333,
              "#9c179e"
             ],
             [
              0.4444444444444444,
              "#bd3786"
             ],
             [
              0.5555555555555556,
              "#d8576b"
             ],
             [
              0.6666666666666666,
              "#ed7953"
             ],
             [
              0.7777777777777778,
              "#fb9f3a"
             ],
             [
              0.8888888888888888,
              "#fdca26"
             ],
             [
              1,
              "#f0f921"
             ]
            ],
            "type": "histogram2d"
           }
          ],
          "histogram2dcontour": [
           {
            "colorbar": {
             "outlinewidth": 0,
             "ticks": ""
            },
            "colorscale": [
             [
              0,
              "#0d0887"
             ],
             [
              0.1111111111111111,
              "#46039f"
             ],
             [
              0.2222222222222222,
              "#7201a8"
             ],
             [
              0.3333333333333333,
              "#9c179e"
             ],
             [
              0.4444444444444444,
              "#bd3786"
             ],
             [
              0.5555555555555556,
              "#d8576b"
             ],
             [
              0.6666666666666666,
              "#ed7953"
             ],
             [
              0.7777777777777778,
              "#fb9f3a"
             ],
             [
              0.8888888888888888,
              "#fdca26"
             ],
             [
              1,
              "#f0f921"
             ]
            ],
            "type": "histogram2dcontour"
           }
          ],
          "mesh3d": [
           {
            "colorbar": {
             "outlinewidth": 0,
             "ticks": ""
            },
            "type": "mesh3d"
           }
          ],
          "parcoords": [
           {
            "line": {
             "colorbar": {
              "outlinewidth": 0,
              "ticks": ""
             }
            },
            "type": "parcoords"
           }
          ],
          "pie": [
           {
            "automargin": true,
            "type": "pie"
           }
          ],
          "scatter": [
           {
            "marker": {
             "colorbar": {
              "outlinewidth": 0,
              "ticks": ""
             }
            },
            "type": "scatter"
           }
          ],
          "scatter3d": [
           {
            "line": {
             "colorbar": {
              "outlinewidth": 0,
              "ticks": ""
             }
            },
            "marker": {
             "colorbar": {
              "outlinewidth": 0,
              "ticks": ""
             }
            },
            "type": "scatter3d"
           }
          ],
          "scattercarpet": [
           {
            "marker": {
             "colorbar": {
              "outlinewidth": 0,
              "ticks": ""
             }
            },
            "type": "scattercarpet"
           }
          ],
          "scattergeo": [
           {
            "marker": {
             "colorbar": {
              "outlinewidth": 0,
              "ticks": ""
             }
            },
            "type": "scattergeo"
           }
          ],
          "scattergl": [
           {
            "marker": {
             "colorbar": {
              "outlinewidth": 0,
              "ticks": ""
             }
            },
            "type": "scattergl"
           }
          ],
          "scattermapbox": [
           {
            "marker": {
             "colorbar": {
              "outlinewidth": 0,
              "ticks": ""
             }
            },
            "type": "scattermapbox"
           }
          ],
          "scatterpolar": [
           {
            "marker": {
             "colorbar": {
              "outlinewidth": 0,
              "ticks": ""
             }
            },
            "type": "scatterpolar"
           }
          ],
          "scatterpolargl": [
           {
            "marker": {
             "colorbar": {
              "outlinewidth": 0,
              "ticks": ""
             }
            },
            "type": "scatterpolargl"
           }
          ],
          "scatterternary": [
           {
            "marker": {
             "colorbar": {
              "outlinewidth": 0,
              "ticks": ""
             }
            },
            "type": "scatterternary"
           }
          ],
          "surface": [
           {
            "colorbar": {
             "outlinewidth": 0,
             "ticks": ""
            },
            "colorscale": [
             [
              0,
              "#0d0887"
             ],
             [
              0.1111111111111111,
              "#46039f"
             ],
             [
              0.2222222222222222,
              "#7201a8"
             ],
             [
              0.3333333333333333,
              "#9c179e"
             ],
             [
              0.4444444444444444,
              "#bd3786"
             ],
             [
              0.5555555555555556,
              "#d8576b"
             ],
             [
              0.6666666666666666,
              "#ed7953"
             ],
             [
              0.7777777777777778,
              "#fb9f3a"
             ],
             [
              0.8888888888888888,
              "#fdca26"
             ],
             [
              1,
              "#f0f921"
             ]
            ],
            "type": "surface"
           }
          ],
          "table": [
           {
            "cells": {
             "fill": {
              "color": "#EBF0F8"
             },
             "line": {
              "color": "white"
             }
            },
            "header": {
             "fill": {
              "color": "#C8D4E3"
             },
             "line": {
              "color": "white"
             }
            },
            "type": "table"
           }
          ]
         },
         "layout": {
          "annotationdefaults": {
           "arrowcolor": "#2a3f5f",
           "arrowhead": 0,
           "arrowwidth": 1
          },
          "autotypenumbers": "strict",
          "coloraxis": {
           "colorbar": {
            "outlinewidth": 0,
            "ticks": ""
           }
          },
          "colorscale": {
           "diverging": [
            [
             0,
             "#8e0152"
            ],
            [
             0.1,
             "#c51b7d"
            ],
            [
             0.2,
             "#de77ae"
            ],
            [
             0.3,
             "#f1b6da"
            ],
            [
             0.4,
             "#fde0ef"
            ],
            [
             0.5,
             "#f7f7f7"
            ],
            [
             0.6,
             "#e6f5d0"
            ],
            [
             0.7,
             "#b8e186"
            ],
            [
             0.8,
             "#7fbc41"
            ],
            [
             0.9,
             "#4d9221"
            ],
            [
             1,
             "#276419"
            ]
           ],
           "sequential": [
            [
             0,
             "#0d0887"
            ],
            [
             0.1111111111111111,
             "#46039f"
            ],
            [
             0.2222222222222222,
             "#7201a8"
            ],
            [
             0.3333333333333333,
             "#9c179e"
            ],
            [
             0.4444444444444444,
             "#bd3786"
            ],
            [
             0.5555555555555556,
             "#d8576b"
            ],
            [
             0.6666666666666666,
             "#ed7953"
            ],
            [
             0.7777777777777778,
             "#fb9f3a"
            ],
            [
             0.8888888888888888,
             "#fdca26"
            ],
            [
             1,
             "#f0f921"
            ]
           ],
           "sequentialminus": [
            [
             0,
             "#0d0887"
            ],
            [
             0.1111111111111111,
             "#46039f"
            ],
            [
             0.2222222222222222,
             "#7201a8"
            ],
            [
             0.3333333333333333,
             "#9c179e"
            ],
            [
             0.4444444444444444,
             "#bd3786"
            ],
            [
             0.5555555555555556,
             "#d8576b"
            ],
            [
             0.6666666666666666,
             "#ed7953"
            ],
            [
             0.7777777777777778,
             "#fb9f3a"
            ],
            [
             0.8888888888888888,
             "#fdca26"
            ],
            [
             1,
             "#f0f921"
            ]
           ]
          },
          "colorway": [
           "#636efa",
           "#EF553B",
           "#00cc96",
           "#ab63fa",
           "#FFA15A",
           "#19d3f3",
           "#FF6692",
           "#B6E880",
           "#FF97FF",
           "#FECB52"
          ],
          "font": {
           "color": "#2a3f5f"
          },
          "geo": {
           "bgcolor": "white",
           "lakecolor": "white",
           "landcolor": "#E5ECF6",
           "showlakes": true,
           "showland": true,
           "subunitcolor": "white"
          },
          "hoverlabel": {
           "align": "left"
          },
          "hovermode": "closest",
          "mapbox": {
           "style": "light"
          },
          "paper_bgcolor": "white",
          "plot_bgcolor": "#E5ECF6",
          "polar": {
           "angularaxis": {
            "gridcolor": "white",
            "linecolor": "white",
            "ticks": ""
           },
           "bgcolor": "#E5ECF6",
           "radialaxis": {
            "gridcolor": "white",
            "linecolor": "white",
            "ticks": ""
           }
          },
          "scene": {
           "xaxis": {
            "backgroundcolor": "#E5ECF6",
            "gridcolor": "white",
            "gridwidth": 2,
            "linecolor": "white",
            "showbackground": true,
            "ticks": "",
            "zerolinecolor": "white"
           },
           "yaxis": {
            "backgroundcolor": "#E5ECF6",
            "gridcolor": "white",
            "gridwidth": 2,
            "linecolor": "white",
            "showbackground": true,
            "ticks": "",
            "zerolinecolor": "white"
           },
           "zaxis": {
            "backgroundcolor": "#E5ECF6",
            "gridcolor": "white",
            "gridwidth": 2,
            "linecolor": "white",
            "showbackground": true,
            "ticks": "",
            "zerolinecolor": "white"
           }
          },
          "shapedefaults": {
           "line": {
            "color": "#2a3f5f"
           }
          },
          "ternary": {
           "aaxis": {
            "gridcolor": "white",
            "linecolor": "white",
            "ticks": ""
           },
           "baxis": {
            "gridcolor": "white",
            "linecolor": "white",
            "ticks": ""
           },
           "bgcolor": "#E5ECF6",
           "caxis": {
            "gridcolor": "white",
            "linecolor": "white",
            "ticks": ""
           }
          },
          "title": {
           "x": 0.05
          },
          "xaxis": {
           "automargin": true,
           "gridcolor": "white",
           "linecolor": "white",
           "ticks": "",
           "title": {
            "standoff": 15
           },
           "zerolinecolor": "white",
           "zerolinewidth": 2
          },
          "yaxis": {
           "automargin": true,
           "gridcolor": "white",
           "linecolor": "white",
           "ticks": "",
           "title": {
            "standoff": 15
           },
           "zerolinecolor": "white",
           "zerolinewidth": 2
          }
         }
        },
        "title": {
         "text": "Costs Analysis of Most Expensive Neighborhoods in San Francisco per Year"
        }
       }
      },
      "image/png": "[encoded data removed]",
      "text/html": [
       "<div>                            <div id=\"a4546d36-62d4-497e-a3ce-3be03bbda85c\" class=\"plotly-graph-div\" style=\"height:525px; width:100%;\"></div>            <script type=\"text/javascript\">                require([\"plotly\"], function(Plotly) {                    window.PLOTLYENV=window.PLOTLYENV || {};                                    if (document.getElementById(\"a4546d36-62d4-497e-a3ce-3be03bbda85c\")) {                    Plotly.newPlot(                        \"a4546d36-62d4-497e-a3ce-3be03bbda85c\",                        [{\"domain\":{\"x\":[0.0,1.0],\"y\":[0.0,1.0]},\"hovertemplate\":\"neighborhood=%{label}<br>sale_price_sqr_foot=%{value}<br>gross_rent=%{color}<extra></extra>\",\"labels\":[\"Alamo Square\",\"Anza Vista\",\"Bayview\",\"Buena Vista Park\",\"Central Richmond\",\"Central Sunset\",\"Corona Heights\",\"Cow Hollow\",\"Croker Amazon\",\"Diamond Heights\",\"Downtown \",\"Eureka Valley/Dolores Heights\",\"Excelsior\",\"Financial District North\",\"Financial District South\",\"Forest Knolls\",\"Glen Park\",\"Golden Gate Heights\",\"Haight Ashbury\",\"Hayes Valley\",\"Hunters Point\",\"Ingleside \",\"Inner Mission\",\"Inner Parkside\",\"Inner Richmond\",\"Inner Sunset\",\"Jordan Park/Laurel Heights\",\"Lake --The Presidio\",\"Lone Mountain\",\"Lower Pacific Heights\",\"Marina\",\"Miraloma Park\",\"Mission Bay\",\"Mission Dolores\",\"Mission Terrace\",\"Nob Hill\",\"Noe Valley\",\"Oceanview\",\"Outer Parkside\",\"Outer Richmond \",\"Outer Sunset\",\"Pacific Heights\",\"Park North\",\"Parkside\",\"Parnassus/Ashbury Heights\",\"Portola\",\"Potrero Hill\",\"Presidio Heights\",\"Russian Hill\",\"South Beach\",\"South of Market\",\"Sunnyside\",\"Telegraph Hill\",\"Twin Peaks\",\"Union Square District\",\"Van Ness/ Civic Center\",\"West Portal\",\"Western Addition\",\"Yerba Buena\",\"Alamo Square\",\"Bayview\",\"Bernal Heights \",\"Buena Vista Park\",\"Central Richmond\",\"Central Sunset\",\"Clarendon Heights\",\"Corona Heights\",\"Cow Hollow\",\"Croker Amazon\",\"Diamond Heights\",\"Downtown \",\"Duboce Triangle\",\"Eureka Valley/Dolores Heights\",\"Financial District North\",\"Financial District South\",\"Glen Park\",\"Golden Gate Heights\",\"Haight Ashbury\",\"Hayes Valley\",\"Ingleside \",\"Ingleside Heights\",\"Inner Mission\",\"Inner Richmond\",\"Inner Sunset\",\"Jordan Park/Laurel Heights\",\"Lake --The Presidio\",\"Lone Mountain\",\"Lower Pacific Heights\",\"Marina\",\"Miraloma Park\",\"Mission Bay\",\"Mission Dolores\",\"Nob Hill\",\"Noe Valley\",\"North Beach\",\"North Waterfront\",\"Outer Mission\",\"Outer Parkside\",\"Outer Richmond \",\"Outer Sunset\",\"Pacific Heights\",\"Park North\",\"Parkside\",\"Parnassus/Ashbury Heights\",\"Portola\",\"Potrero Hill\",\"Presidio Heights\",\"Russian Hill\",\"South Beach\",\"South of Market\",\"Sunnyside\",\"Telegraph Hill\",\"Twin Peaks\",\"Union Square District\",\"Van Ness/ Civic Center\",\"Western Addition\",\"Westwood Highlands\",\"Yerba Buena\",\"Alamo Square\",\"Anza Vista\",\"Bayview\",\"Bernal Heights \",\"Buena Vista Park\",\"Central Richmond\",\"Central Sunset\",\"Corona Heights\",\"Cow Hollow\",\"Croker Amazon\",\"Diamond Heights\",\"Downtown \",\"Duboce Triangle\",\"Eureka Valley/Dolores Heights\",\"Excelsior\",\"Financial District North\",\"Financial District South\",\"Forest Knolls\",\"Haight Ashbury\",\"Hayes Valley\",\"Inner Mission\",\"Inner Richmond\",\"Inner Sunset\",\"Jordan Park/Laurel Heights\",\"Lake --The Presidio\",\"Lone Mountain\",\"Lower Pacific Heights\",\"Marina\",\"Merced Heights\",\"Midtown Terrace\",\"Miraloma Park\",\"Mission Bay\",\"Mission Dolores\",\"Nob Hill\",\"Noe Valley\",\"North Beach\",\"North Waterfront\",\"Oceanview\",\"Outer Mission\",\"Outer Parkside\",\"Outer Richmond \",\"Outer Sunset\",\"Pacific Heights\",\"Park North\",\"Parkside\",\"Parnassus/Ashbury Heights\",\"Portola\",\"Potrero Hill\",\"Presidio Heights\",\"Russian Hill\",\"South of Market\",\"Telegraph Hill\",\"Twin Peaks\",\"Union Square District\",\"Van Ness/ Civic Center\",\"West Portal\",\"Western Addition\",\"Yerba Buena\",\"Alamo Square\",\"Anza Vista\",\"Bayview\",\"Bernal Heights \",\"Buena Vista Park\",\"Central Richmond\",\"Central Sunset\",\"Clarendon Heights\",\"Cow Hollow\",\"Croker Amazon\",\"Diamond Heights\",\"Downtown \",\"Eureka Valley/Dolores Heights\",\"Excelsior\",\"Financial District North\",\"Glen Park\",\"Golden Gate Heights\",\"Haight Ashbury\",\"Hayes Valley\",\"Inner Mission\",\"Inner Richmond\",\"Inner Sunset\",\"Jordan Park/Laurel Heights\",\"Lake --The Presidio\",\"Lone Mountain\",\"Lower Pacific Heights\",\"Marina\",\"Midtown Terrace\",\"Mission Bay\",\"Mission Dolores\",\"Mission Terrace\",\"Nob Hill\",\"Noe Valley\",\"North Beach\",\"North Waterfront\",\"Outer Parkside\",\"Outer Richmond \",\"Outer Sunset\",\"Pacific Heights\",\"Park North\",\"Parkside\",\"Parnassus/Ashbury Heights\",\"Portola\",\"Potrero Hill\",\"Presidio Heights\",\"Russian Hill\",\"South of Market\",\"Sunnyside\",\"Telegraph Hill\",\"Twin Peaks\",\"Union Square District\",\"Van Ness/ Civic Center\",\"Visitacion Valley\",\"West Portal\",\"Western Addition\",\"Westwood Highlands\",\"Yerba Buena\",\"Alamo Square\",\"Anza Vista\",\"Bayview\",\"Bernal Heights \",\"Central Richmond\",\"Central Sunset\",\"Corona Heights\",\"Cow Hollow\",\"Downtown \",\"Duboce Triangle\",\"Eureka Valley/Dolores Heights\",\"Excelsior\",\"Financial District North\",\"Financial District South\",\"Glen Park\",\"Golden Gate Heights\",\"Haight Ashbury\",\"Hayes Valley\",\"Ingleside \",\"Inner Mission\",\"Inner Parkside\",\"Inner Richmond\",\"Inner Sunset\",\"Jordan Park/Laurel Heights\",\"Lake --The Presidio\",\"Lone Mountain\",\"Lower Pacific Heights\",\"Marina\",\"Merced Heights\",\"Miraloma Park\",\"Mission Bay\",\"Mission Dolores\",\"Mission Terrace\",\"Nob Hill\",\"Noe Valley\",\"North Waterfront\",\"Outer Parkside\",\"Outer Richmond \",\"Outer Sunset\",\"Pacific Heights\",\"Park North\",\"Parkside\",\"Parnassus/Ashbury Heights\",\"Portola\",\"Potrero Hill\",\"Presidio Heights\",\"Russian Hill\",\"Silver Terrace\",\"South Beach\",\"South of Market\",\"Sunnyside\",\"Telegraph Hill\",\"Twin Peaks\",\"Union Square District\",\"Van Ness/ Civic Center\",\"Visitacion Valley\",\"West Portal\",\"Western Addition\",\"Westwood Park\",\"Yerba Buena\",\"Alamo Square\",\"Anza Vista\",\"Bayview Heights\",\"Bernal Heights \",\"Buena Vista Park\",\"Central Richmond\",\"Central Sunset\",\"Corona Heights\",\"Cow Hollow\",\"Croker Amazon\",\"Downtown \",\"Duboce Triangle\",\"Eureka Valley/Dolores Heights\",\"Excelsior\",\"Financial District North\",\"Financial District South\",\"Glen Park\",\"Golden Gate Heights\",\"Haight Ashbury\",\"Hayes Valley\",\"Hunters Point\",\"Ingleside \",\"Inner Mission\",\"Inner Parkside\",\"Inner Richmond\",\"Inner Sunset\",\"Jordan Park/Laurel Heights\",\"Lake --The Presidio\",\"Lone Mountain\",\"Lower Pacific Heights\",\"Marina\",\"Mission Dolores\",\"Mission Terrace\",\"Nob Hill\",\"Noe Valley\",\"North Beach\",\"North Waterfront\",\"Oceanview\",\"Outer Mission\",\"Outer Parkside\",\"Outer Richmond \",\"Outer Sunset\",\"Pacific Heights\",\"Park North\",\"Parkside\",\"Parnassus/Ashbury Heights\",\"Potrero Hill\",\"Presidio Heights\",\"Russian Hill\",\"South of Market\",\"Sunnyside\",\"Telegraph Hill\",\"Twin Peaks\",\"Union Square District\",\"Van Ness/ Civic Center\",\"Visitacion Valley\",\"Western Addition\",\"Yerba Buena\",\"Alamo Square\",\"Anza Vista\",\"Bernal Heights \",\"Buena Vista Park\",\"Central Richmond\",\"Central Sunset\",\"Cow Hollow\",\"Croker Amazon\",\"Downtown \",\"Eureka Valley/Dolores Heights\",\"Excelsior\",\"Financial District North\",\"Glen Park\",\"Haight Ashbury\",\"Hayes Valley\",\"Ingleside Heights\",\"Inner Mission\",\"Inner Parkside\",\"Inner Richmond\",\"Inner Sunset\",\"Jordan Park/Laurel Heights\",\"Lower Pacific Heights\",\"Marina\",\"Merced Heights\",\"Mission Bay\",\"Mission Terrace\",\"Nob Hill\",\"Noe Valley\",\"North Beach\",\"Outer Mission\",\"Outer Parkside\",\"Outer Richmond \",\"Outer Sunset\",\"Pacific Heights\",\"Park North\",\"Parnassus/Ashbury Heights\",\"Potrero Hill\",\"Presidio Heights\",\"Russian Hill\",\"South of Market\",\"Sunnyside\",\"Telegraph Hill\",\"Twin Peaks\",\"Van Ness/ Civic Center\",\"Visitacion Valley\",\"Westwood Park\"],\"marker\":{\"coloraxis\":\"coloraxis\",\"colors\":[1239,1239,1239,1239,1239,1239,1239,1239,1239,1239,1239,1239,1239,1239,1239,1239,1239,1239,1239,1239,1239,1239,1239,1239,1239,1239,1239,1239,1239,1239,1239,1239,1239,1239,1239,1239,1239,1239,1239,1239,1239,1239,1239,1239,1239,1239,1239,1239,1239,1239,1239,1239,1239,1239,1239,1239,1239,1239,1239,1530,1530,1530,1530,1530,1530,1530,1530,1530,1530,1530,1530,1530,1530,1530,1530,1530,1530,1530,1530,1530,1530,1530,1530,1530,1530,1530,1530,1530,1530,1530,1530,1530,1530,1530,1530,1530,1530,1530,1530,1530,1530,1530,1530,1530,1530,1530,1530,1530,1530,1530,1530,1530,1530,1530,1530,1530,1530,1530,2324,2324,2324,2324,2324,2324,2324,2324,2324,2324,2324,2324,2324,2324,2324,2324,2324,2324,2324,2324,2324,2324,2324,2324,2324,2324,2324,2324,2324,2324,2324,2324,2324,2324,2324,2324,2324,2324,2324,2324,2324,2324,2324,2324,2324,2324,2324,2324,2324,2324,2324,2324,2324,2324,2324,2324,2324,2324,2971,2971,2971,2971,2971,2971,2971,2971,2971,2971,2971,2971,2971,2971,2971,2971,2971,2971,2971,2971,2971,2971,2971,2971,2971,2971,2971,2971,2971,2971,2971,2971,2971,2971,2971,2971,2971,2971,2971,2971,2971,2971,2971,2971,2971,2971,2971,2971,2971,2971,2971,2971,2971,2971,2971,2971,2971,3528,3528,3528,3528,3528,3528,3528,3528,3528,3528,3528,3528,3528,3528,3528,3528,3528,3528,3528,3528,3528,3528,3528,3528,3528,3528,3528,3528,3528,3528,3528,3528,3528,3528,3528,3528,3528,3528,3528,3528,3528,3528,3528,3528,3528,3528,3528,3528,3528,3528,3528,3528,3528,3528,3528,3528,3528,3528,3528,3528,3739,3739,3739,3739,3739,3739,3739,3739,3739,3739,3739,3739,3739,3739,3739,3739,3739,3739,3739,3739,3739,3739,3739,3739,3739,3739,3739,3739,3739,3739,3739,3739,3739,3739,3739,3739,3739,3739,3739,3739,3739,3739,3739,3739,3739,3739,3739,3739,3739,3739,3739,3739,3739,3739,3739,3739,3739,3739,4390,4390,4390,4390,4390,4390,4390,4390,4390,4390,4390,4390,4390,4390,4390,4390,4390,4390,4390,4390,4390,4390,4390,4390,4390,4390,4390,4390,4390,4390,4390,4390,4390,4390,4390,4390,4390,4390,4390,4390,4390,4390,4390,4390,4390,4390]},\"name\":\"\",\"type\":\"sunburst\",\"values\":[291.18294547229095,267.9325826799483,170.09866536400102,347.3949194037114,319.0276225530687,418.1724927089675,369.35933800413665,569.3799679261333,165.6457300650791,456.9308221979013,241.80455206485138,403.1183126490986,364.92833570851764,401.7499665916537,162.82121004772353,209.0493266346945,715.5864380979738,551.8011188234774,254.47377914469143,272.28497956385485,170.62491987132685,275.05668560990915,238.35002040677708,199.70200378219917,285.82235848868265,275.76972957461044,419.88781187646566,320.79691049204627,398.4588759923028,374.05763601016855,387.392839476922,680.6087291389301,489.80537777998506,257.98799863500693,262.87602564056425,307.67747674427835,381.13844514705266,282.11967050133603,432.19529211245555,338.12619999607017,368.31155203937294,496.51601414694983,326.01715041025074,274.16674158669116,434.25500394602585,302.15611319728896,491.45000385678617,549.4179312485746,362.34822391312133,1037.0997886617895,401.2959764896399,542.5316819894505,524.7935090952678,331.55599614560697,569.1934475267735,108.0129268765048,392.30076417058257,215.56913431487555,333.12677384193887,272.5273101795261,172.54056243085552,471.9217320911283,171.7723466866044,261.6638003416518,391.42644972996203,520.7181675305429,222.567848047696,390.5956530284181,145.85338027594094,382.3522610640586,234.28162351035442,295.77937822922695,413.16280403427527,281.312904357283,354.66555789282774,457.41388429762526,348.92970004124925,392.35345097326814,280.73063309393075,356.7090091359044,198.01587292452027,283.17495073168755,360.03727240448274,302.60448945564127,610.7666631577348,330.10889435237306,313.33845823084727,303.5441997161898,390.81846895621413,414.67606477603755,506.95217450146765,293.4042461148187,340.6425969783877,373.97868706755236,290.9210327099608,346.96116001560216,142.14256751724554,241.94565649181578,271.09013956932756,297.2455578459466,509.0214800287398,289.60560009472283,217.55878684527906,466.6178976523653,208.1679967483858,503.13850456030497,493.814917282618,448.3201042149405,388.6443367815385,337.91413464365013,437.16429949197664,483.4057725178001,284.56696642681646,302.12325280969134,384.23680203579306,227.41898086494461,320.0743330547439,438.86054508174806,183.09931693145703,344.4909139677922,165.79806239165433,368.26656078838516,338.60116351046344,279.0301399218751,334.4878725198492,356.7948135908725,644.8183066758803,415.0903401095623,366.9954275112727,269.109528813633,452.66002242984047,524.8134180834782,371.0302152741686,286.3519820673892,613.8430658201435,434.63234651328025,418.83037933269526,306.3779578647354,336.8259501844992,373.4668636470579,325.82892041816064,383.15039609809617,380.5214843069476,545.9801982412763,396.171112391617,445.21509554245245,421.1412447061912,397.9391288956355,756.1923725098497,689.5233123659036,320.9599230279341,307.78311439850694,428.0219127043747,517.1734931165627,390.3838567783597,442.24265696115737,221.881138746669,312.83398436239065,338.63301173022234,413.05871935195154,586.2182148097696,288.0785187599688,378.2738784387478,515.9210732061051,351.0432256921308,466.6478402167172,426.60859207171325,414.16272789686775,463.8098989043553,465.80212163177373,304.89964760284107,445.1967876448791,345.95804038831767,325.79541506433713,274.33846004864847,491.8140030500954,387.79414379681333,453.34049829869934,259.54716259308043,630.8973025513741,455.2180887853926,343.0542609770136,330.7364310191893,453.7716045219721,707.4028088888208,223.11583290346024,533.6884470076521,361.45469198221224,608.694967227678,289.749665708438,274.4579436322337,458.7213317825408,956.1841219171133,478.4956365730093,491.5892613631572,377.51801557551835,302.96737702840636,435.5456667813491,584.0737147409254,568.6511487607912,376.08359802951554,548.0466890413603,655.1980415945777,703.0815676877947,null,427.16626614177557,591.4020223180053,466.02648785310464,615.0639297056517,393.71733534550384,483.16880334240136,372.24198616911974,332.40781536886453,322.0822144332409,503.89926133005366,512.6307219919141,364.62465302417013,425.64225533080946,235.99759251727426,598.704795328917,512.8402484358223,506.22752218971993,420.822184596571,505.83481143735054,653.3116166908643,414.43569251368126,1290.472106646641,285.0095060630079,293.2983722057751,588.0747967826295,217.0890689540353,747.3335378171588,753.0114133184368,484.44355217067766,620.4414065565543,254.95866163273848,544.5469286452765,423.95272693478194,456.2419957897522,888.1821435177138,691.8654114838455,428.7265326799175,630.3115352378672,728.9797158498743,358.30523872237734,409.9438351783924,694.4181461347432,553.5627522522698,567.3400104586143,496.55100121228986,428.9237926791115,647.6496334575522,464.1758436880091,597.200528047448,430.9396363161629,470.85352986706454,426.7863811847511,432.9627229749631,317.2219194303952,716.3765095625198,642.838478220973,528.7265413888829,1267.7662026328826,220.11108719171108,642.2195925518147,300.1873092016618,478.44335175268515,654.801499892284,379.92536172660726,650.963515967709,401.9350222176535,490.36358286726374,824.6586936349588,371.9242451684328,446.23924529045684,773.4061347806703,538.204698577284,1045.2015459222662,603.4509968798565,714.2220737504065,170.2925485152069,524.6293121403909,1119.8388773148026,493.45560489574007,708.1930316849231,562.9112337982453,558.2711194060469,475.39318681250677,282.02546830016496,687.7829633004552,429.4883174233179,742.9797231632554,479.9237488133093,602.1158769435002,465.68627450980387,590.7928388746802,458.0042993401075,551.6956218496264,473.1638149617127,453.3793770708969,1100.7911936704506,598.6205414959003,301.61864706270705,485.8868855757771,631.6456863280099,790.1803690820187,414.35585647200105,694.358566653677,453.4330812935196,612.1061563311456,772.7128362001238,574.2740565313097,536.5571018753241,null,192.16524813774402,435.9007753824155,762.5272331154684,493.61555763336935,639.1464438694404,576.4579094375945,426.6849522707296,918.2882682038704,800.0388650775142,1132.8373605554546,571.7557085689908,583.8486362312665,529.847319131393,544.6002639104154,448.86919667679206,890.9095931764135,265.92982650327014,564.6874764662283,652.2879690318528,438.4677874196749,357.8946922463997,910.1876901656897,616.5723883169862,null,605.3433249358948,821.3009904764873,null,793.2619915605263,717.0825412171872,439.7498835483721,996.9902204858653,417.33537892280015,2258.702831998355,677.8382318281795,302.2218727063018,481.46924427394237,963.5226061641273,340.98183523166995,88.40151094606408,986.8421052631579,851.4014053492668,661.0644257703083,581.3708750724594,1059.0656015492618,566.7011760342162,718.7768297452345,1026.7911075237503,534.2262501283425,null,945.5665024630542,531.8350322320708,175.06606919629078,571.5799833446893,647.7704471840341,518.1126504655916,403.31113221139015,445.9238282688497,704.5664189758045,636.4307703489127,431.94460202359033,1416.666666666667,924.5691159025888,879.0170132325142,777.0083145338547,799.4956512788842,407.5533215595707,40.7726253518439,732.7206841423807,1196.645436923929,510.5769072143791,996.3893635634033,211.30136986006568,1207.997484708169,707.6516094320912,1465.9685863874345,1024.3398771365157,531.1363737279744,751.1737089201877,903.0497705987848,970.08547008547,552.6025671312701,328.31900668576884,631.1954258724091]}],                        {\"coloraxis\":{\"colorbar\":{\"title\":{\"text\":\"gross_rent\"}},\"colorscale\":[[0.0,\"#0d0887\"],[0.1111111111111111,\"#46039f\"],[0.2222222222222222,\"#7201a8\"],[0.3333333333333333,\"#9c179e\"],[0.4444444444444444,\"#bd3786\"],[0.5555555555555556,\"#d8576b\"],[0.6666666666666666,\"#ed7953\"],[0.7777777777777778,\"#fb9f3a\"],[0.8888888888888888,\"#fdca26\"],[1.0,\"#f0f921\"]]},\"legend\":{\"tracegroupgap\":0},\"template\":{\"data\":{\"bar\":[{\"error_x\":{\"color\":\"#2a3f5f\"},\"error_y\":{\"color\":\"#2a3f5f\"},\"marker\":{\"line\":{\"color\":\"#E5ECF6\",\"width\":0.5},\"pattern\":{\"fillmode\":\"overlay\",\"size\":10,\"solidity\":0.2}},\"type\":\"bar\"}],\"barpolar\":[{\"marker\":{\"line\":{\"color\":\"#E5ECF6\",\"width\":0.5},\"pattern\":{\"fillmode\":\"overlay\",\"size\":10,\"solidity\":0.2}},\"type\":\"barpolar\"}],\"carpet\":[{\"aaxis\":{\"endlinecolor\":\"#2a3f5f\",\"gridcolor\":\"white\",\"linecolor\":\"white\",\"minorgridcolor\":\"white\",\"startlinecolor\":\"#2a3f5f\"},\"baxis\":{\"endlinecolor\":\"#2a3f5f\",\"gridcolor\":\"white\",\"linecolor\":\"white\",\"minorgridcolor\":\"white\",\"startlinecolor\":\"#2a3f5f\"},\"type\":\"carpet\"}],\"choropleth\":[{\"colorbar\":{\"outlinewidth\":0,\"ticks\":\"\"},\"type\":\"choropleth\"}],\"contour\":[{\"colorbar\":{\"outlinewidth\":0,\"ticks\":\"\"},\"colorscale\":[[0.0,\"#0d0887\"],[0.1111111111111111,\"#46039f\"],[0.2222222222222222,\"#7201a8\"],[0.3333333333333333,\"#9c179e\"],[0.4444444444444444,\"#bd3786\"],[0.5555555555555556,\"#d8576b\"],[0.6666666666666666,\"#ed7953\"],[0.7777777777777778,\"#fb9f3a\"],[0.8888888888888888,\"#fdca26\"],[1.0,\"#f0f921\"]],\"type\":\"contour\"}],\"contourcarpet\":[{\"colorbar\":{\"outlinewidth\":0,\"ticks\":\"\"},\"type\":\"contourcarpet\"}],\"heatmap\":[{\"colorbar\":{\"outlinewidth\":0,\"ticks\":\"\"},\"colorscale\":[[0.0,\"#0d0887\"],[0.1111111111111111,\"#46039f\"],[0.2222222222222222,\"#7201a8\"],[0.3333333333333333,\"#9c179e\"],[0.4444444444444444,\"#bd3786\"],[0.5555555555555556,\"#d8576b\"],[0.6666666666666666,\"#ed7953\"],[0.7777777777777778,\"#fb9f3a\"],[0.8888888888888888,\"#fdca26\"],[1.0,\"#f0f921\"]],\"type\":\"heatmap\"}],\"heatmapgl\":[{\"colorbar\":{\"outlinewidth\":0,\"ticks\":\"\"},\"colorscale\":[[0.0,\"#0d0887\"],[0.1111111111111111,\"#46039f\"],[0.2222222222222222,\"#7201a8\"],[0.3333333333333333,\"#9c179e\"],[0.4444444444444444,\"#bd3786\"],[0.5555555555555556,\"#d8576b\"],[0.6666666666666666,\"#ed7953\"],[0.7777777777777778,\"#fb9f3a\"],[0.8888888888888888,\"#fdca26\"],[1.0,\"#f0f921\"]],\"type\":\"heatmapgl\"}],\"histogram\":[{\"marker\":{\"pattern\":{\"fillmode\":\"overlay\",\"size\":10,\"solidity\":0.2}},\"type\":\"histogram\"}],\"histogram2d\":[{\"colorbar\":{\"outlinewidth\":0,\"ticks\":\"\"},\"colorscale\":[[0.0,\"#0d0887\"],[0.1111111111111111,\"#46039f\"],[0.2222222222222222,\"#7201a8\"],[0.3333333333333333,\"#9c179e\"],[0.4444444444444444,\"#bd3786\"],[0.5555555555555556,\"#d8576b\"],[0.6666666666666666,\"#ed7953\"],[0.7777777777777778,\"#fb9f3a\"],[0.8888888888888888,\"#fdca26\"],[1.0,\"#f0f921\"]],\"type\":\"histogram2d\"}],\"histogram2dcontour\":[{\"colorbar\":{\"outlinewidth\":0,\"ticks\":\"\"},\"colorscale\":[[0.0,\"#0d0887\"],[0.1111111111111111,\"#46039f\"],[0.2222222222222222,\"#7201a8\"],[0.3333333333333333,\"#9c179e\"],[0.4444444444444444,\"#bd3786\"],[0.5555555555555556,\"#d8576b\"],[0.6666666666666666,\"#ed7953\"],[0.7777777777777778,\"#fb9f3a\"],[0.8888888888888888,\"#fdca26\"],[1.0,\"#f0f921\"]],\"type\":\"histogram2dcontour\"}],\"mesh3d\":[{\"colorbar\":{\"outlinewidth\":0,\"ticks\":\"\"},\"type\":\"mesh3d\"}],\"parcoords\":[{\"line\":{\"colorbar\":{\"outlinewidth\":0,\"ticks\":\"\"}},\"type\":\"parcoords\"}],\"pie\":[{\"automargin\":true,\"type\":\"pie\"}],\"scatter\":[{\"marker\":{\"colorbar\":{\"outlinewidth\":0,\"ticks\":\"\"}},\"type\":\"scatter\"}],\"scatter3d\":[{\"line\":{\"colorbar\":{\"outlinewidth\":0,\"ticks\":\"\"}},\"marker\":{\"colorbar\":{\"outlinewidth\":0,\"ticks\":\"\"}},\"type\":\"scatter3d\"}],\"scattercarpet\":[{\"marker\":{\"colorbar\":{\"outlinewidth\":0,\"ticks\":\"\"}},\"type\":\"scattercarpet\"}],\"scattergeo\":[{\"marker\":{\"colorbar\":{\"outlinewidth\":0,\"ticks\":\"\"}},\"type\":\"scattergeo\"}],\"scattergl\":[{\"marker\":{\"colorbar\":{\"outlinewidth\":0,\"ticks\":\"\"}},\"type\":\"scattergl\"}],\"scattermapbox\":[{\"marker\":{\"colorbar\":{\"outlinewidth\":0,\"ticks\":\"\"}},\"type\":\"scattermapbox\"}],\"scatterpolar\":[{\"marker\":{\"colorbar\":{\"outlinewidth\":0,\"ticks\":\"\"}},\"type\":\"scatterpolar\"}],\"scatterpolargl\":[{\"marker\":{\"colorbar\":{\"outlinewidth\":0,\"ticks\":\"\"}},\"type\":\"scatterpolargl\"}],\"scatterternary\":[{\"marker\":{\"colorbar\":{\"outlinewidth\":0,\"ticks\":\"\"}},\"type\":\"scatterternary\"}],\"surface\":[{\"colorbar\":{\"outlinewidth\":0,\"ticks\":\"\"},\"colorscale\":[[0.0,\"#0d0887\"],[0.1111111111111111,\"#46039f\"],[0.2222222222222222,\"#7201a8\"],[0.3333333333333333,\"#9c179e\"],[0.4444444444444444,\"#bd3786\"],[0.5555555555555556,\"#d8576b\"],[0.6666666666666666,\"#ed7953\"],[0.7777777777777778,\"#fb9f3a\"],[0.8888888888888888,\"#fdca26\"],[1.0,\"#f0f921\"]],\"type\":\"surface\"}],\"table\":[{\"cells\":{\"fill\":{\"color\":\"#EBF0F8\"},\"line\":{\"color\":\"white\"}},\"header\":{\"fill\":{\"color\":\"#C8D4E3\"},\"line\":{\"color\":\"white\"}},\"type\":\"table\"}]},\"layout\":{\"annotationdefaults\":{\"arrowcolor\":\"#2a3f5f\",\"arrowhead\":0,\"arrowwidth\":1},\"autotypenumbers\":\"strict\",\"coloraxis\":{\"colorbar\":{\"outlinewidth\":0,\"ticks\":\"\"}},\"colorscale\":{\"diverging\":[[0,\"#8e0152\"],[0.1,\"#c51b7d\"],[0.2,\"#de77ae\"],[0.3,\"#f1b6da\"],[0.4,\"#fde0ef\"],[0.5,\"#f7f7f7\"],[0.6,\"#e6f5d0\"],[0.7,\"#b8e186\"],[0.8,\"#7fbc41\"],[0.9,\"#4d9221\"],[1,\"#276419\"]],\"sequential\":[[0.0,\"#0d0887\"],[0.1111111111111111,\"#46039f\"],[0.2222222222222222,\"#7201a8\"],[0.3333333333333333,\"#9c179e\"],[0.4444444444444444,\"#bd3786\"],[0.5555555555555556,\"#d8576b\"],[0.6666666666666666,\"#ed7953\"],[0.7777777777777778,\"#fb9f3a\"],[0.8888888888888888,\"#fdca26\"],[1.0,\"#f0f921\"]],\"sequentialminus\":[[0.0,\"#0d0887\"],[0.1111111111111111,\"#46039f\"],[0.2222222222222222,\"#7201a8\"],[0.3333333333333333,\"#9c179e\"],[0.4444444444444444,\"#bd3786\"],[0.5555555555555556,\"#d8576b\"],[0.6666666666666666,\"#ed7953\"],[0.7777777777777778,\"#fb9f3a\"],[0.8888888888888888,\"#fdca26\"],[1.0,\"#f0f921\"]]},\"colorway\":[\"#636efa\",\"#EF553B\",\"#00cc96\",\"#ab63fa\",\"#FFA15A\",\"#19d3f3\",\"#FF6692\",\"#B6E880\",\"#FF97FF\",\"#FECB52\"],\"font\":{\"color\":\"#2a3f5f\"},\"geo\":{\"bgcolor\":\"white\",\"lakecolor\":\"white\",\"landcolor\":\"#E5ECF6\",\"showlakes\":true,\"showland\":true,\"subunitcolor\":\"white\"},\"hoverlabel\":{\"align\":\"left\"},\"hovermode\":\"closest\",\"mapbox\":{\"style\":\"light\"},\"paper_bgcolor\":\"white\",\"plot_bgcolor\":\"#E5ECF6\",\"polar\":{\"angularaxis\":{\"gridcolor\":\"white\",\"linecolor\":\"white\",\"ticks\":\"\"},\"bgcolor\":\"#E5ECF6\",\"radialaxis\":{\"gridcolor\":\"white\",\"linecolor\":\"white\",\"ticks\":\"\"}},\"scene\":{\"xaxis\":{\"backgroundcolor\":\"#E5ECF6\",\"gridcolor\":\"white\",\"gridwidth\":2,\"linecolor\":\"white\",\"showbackground\":true,\"ticks\":\"\",\"zerolinecolor\":\"white\"},\"yaxis\":{\"backgroundcolor\":\"#E5ECF6\",\"gridcolor\":\"white\",\"gridwidth\":2,\"linecolor\":\"white\",\"showbackground\":true,\"ticks\":\"\",\"zerolinecolor\":\"white\"},\"zaxis\":{\"backgroundcolor\":\"#E5ECF6\",\"gridcolor\":\"white\",\"gridwidth\":2,\"linecolor\":\"white\",\"showbackground\":true,\"ticks\":\"\",\"zerolinecolor\":\"white\"}},\"shapedefaults\":{\"line\":{\"color\":\"#2a3f5f\"}},\"ternary\":{\"aaxis\":{\"gridcolor\":\"white\",\"linecolor\":\"white\",\"ticks\":\"\"},\"baxis\":{\"gridcolor\":\"white\",\"linecolor\":\"white\",\"ticks\":\"\"},\"bgcolor\":\"#E5ECF6\",\"caxis\":{\"gridcolor\":\"white\",\"linecolor\":\"white\",\"ticks\":\"\"}},\"title\":{\"x\":0.05},\"xaxis\":{\"automargin\":true,\"gridcolor\":\"white\",\"linecolor\":\"white\",\"ticks\":\"\",\"title\":{\"standoff\":15},\"zerolinecolor\":\"white\",\"zerolinewidth\":2},\"yaxis\":{\"automargin\":true,\"gridcolor\":\"white\",\"linecolor\":\"white\",\"ticks\":\"\",\"title\":{\"standoff\":15},\"zerolinecolor\":\"white\",\"zerolinewidth\":2}}},\"title\":{\"text\":\"Costs Analysis of Most Expensive Neighborhoods in San Francisco per Year\"}},                        {\"responsive\": true}                    ).then(function(){\n",
       "                            \n",
       "var gd = document.getElementById('a4546d36-62d4-497e-a3ce-3be03bbda85c');\n",
       "var x = new MutationObserver(function (mutations, observer) {{\n",
       "        var display = window.getComputedStyle(gd).display;\n",
       "        if (!display || display === 'none') {{\n",
       "            console.log([gd, 'removed!']);\n",
       "            Plotly.purge(gd);\n",
       "            observer.disconnect();\n",
       "        }}\n",
       "}});\n",
       "\n",
       "// Listen for the removal of the full notebook cells\n",
       "var notebookContainer = gd.closest('#notebook-container');\n",
       "if (notebookContainer) {{\n",
       "    x.observe(notebookContainer, {childList: true});\n",
       "}}\n",
       "\n",
       "// Listen for the clearing of the current output cell\n",
       "var outputEl = gd.closest('.output');\n",
       "if (outputEl) {{\n",
       "    x.observe(outputEl, {childList: true});\n",
       "}}\n",
       "\n",
       "                        })                };                });            </script>        </div>"
      ]
     },
     "metadata": {},
     "output_type": "display_data"
    }
   ],
   "source": [
    "#\n",
    "\n",
    "# Sunburst Plot\n",
    "sunburst_plot = px.sunburst(avg_price_by_nbhd,\n",
    "    values='sale_price_sqr_foot',\n",
    "    color='gross_rent',\n",
    "    title='Costs Analysis of Most Expensive Neighborhoods in San Francisco per Year',\n",
    "    names='neighborhood',\n",
    "    \n",
    "    \n",
    "                           )\n",
    "\n",
    "sunburst_plot.show()\n",
    "\n"
   ]
  },
  {
   "cell_type": "code",
   "execution_count": 361,
   "id": "90dd1095",
   "metadata": {},
   "outputs": [
    {
     "data": {
      "text/html": [
       "<div>\n",
       "<style scoped>\n",
       "    .dataframe tbody tr th:only-of-type {\n",
       "        vertical-align: middle;\n",
       "    }\n",
       "\n",
       "    .dataframe tbody tr th {\n",
       "        vertical-align: top;\n",
       "    }\n",
       "\n",
       "    .dataframe thead th {\n",
       "        text-align: right;\n",
       "    }\n",
       "</style>\n",
       "<table border=\"1\" class=\"dataframe\">\n",
       "  <thead>\n",
       "    <tr style=\"text-align: right;\">\n",
       "      <th></th>\n",
       "      <th>year</th>\n",
       "      <th>neighborhood</th>\n",
       "      <th>sale_price_sqr_foot</th>\n",
       "      <th>housing_units</th>\n",
       "      <th>gross_rent</th>\n",
       "    </tr>\n",
       "  </thead>\n",
       "  <tbody>\n",
       "    <tr>\n",
       "      <th>0</th>\n",
       "      <td>2010</td>\n",
       "      <td>Alamo Square</td>\n",
       "      <td>291.182945</td>\n",
       "      <td>372560</td>\n",
       "      <td>1239</td>\n",
       "    </tr>\n",
       "    <tr>\n",
       "      <th>1</th>\n",
       "      <td>2010</td>\n",
       "      <td>Anza Vista</td>\n",
       "      <td>267.932583</td>\n",
       "      <td>372560</td>\n",
       "      <td>1239</td>\n",
       "    </tr>\n",
       "    <tr>\n",
       "      <th>2</th>\n",
       "      <td>2010</td>\n",
       "      <td>Bayview</td>\n",
       "      <td>170.098665</td>\n",
       "      <td>372560</td>\n",
       "      <td>1239</td>\n",
       "    </tr>\n",
       "    <tr>\n",
       "      <th>3</th>\n",
       "      <td>2010</td>\n",
       "      <td>Buena Vista Park</td>\n",
       "      <td>347.394919</td>\n",
       "      <td>372560</td>\n",
       "      <td>1239</td>\n",
       "    </tr>\n",
       "    <tr>\n",
       "      <th>4</th>\n",
       "      <td>2010</td>\n",
       "      <td>Central Richmond</td>\n",
       "      <td>319.027623</td>\n",
       "      <td>372560</td>\n",
       "      <td>1239</td>\n",
       "    </tr>\n",
       "    <tr>\n",
       "      <th>5</th>\n",
       "      <td>2010</td>\n",
       "      <td>Central Sunset</td>\n",
       "      <td>418.172493</td>\n",
       "      <td>372560</td>\n",
       "      <td>1239</td>\n",
       "    </tr>\n",
       "    <tr>\n",
       "      <th>6</th>\n",
       "      <td>2010</td>\n",
       "      <td>Corona Heights</td>\n",
       "      <td>369.359338</td>\n",
       "      <td>372560</td>\n",
       "      <td>1239</td>\n",
       "    </tr>\n",
       "    <tr>\n",
       "      <th>7</th>\n",
       "      <td>2010</td>\n",
       "      <td>Cow Hollow</td>\n",
       "      <td>569.379968</td>\n",
       "      <td>372560</td>\n",
       "      <td>1239</td>\n",
       "    </tr>\n",
       "    <tr>\n",
       "      <th>8</th>\n",
       "      <td>2010</td>\n",
       "      <td>Croker Amazon</td>\n",
       "      <td>165.645730</td>\n",
       "      <td>372560</td>\n",
       "      <td>1239</td>\n",
       "    </tr>\n",
       "    <tr>\n",
       "      <th>9</th>\n",
       "      <td>2010</td>\n",
       "      <td>Diamond Heights</td>\n",
       "      <td>456.930822</td>\n",
       "      <td>372560</td>\n",
       "      <td>1239</td>\n",
       "    </tr>\n",
       "    <tr>\n",
       "      <th>10</th>\n",
       "      <td>2010</td>\n",
       "      <td>Downtown</td>\n",
       "      <td>241.804552</td>\n",
       "      <td>372560</td>\n",
       "      <td>1239</td>\n",
       "    </tr>\n",
       "    <tr>\n",
       "      <th>11</th>\n",
       "      <td>2010</td>\n",
       "      <td>Eureka Valley/Dolores Heights</td>\n",
       "      <td>403.118313</td>\n",
       "      <td>372560</td>\n",
       "      <td>1239</td>\n",
       "    </tr>\n",
       "    <tr>\n",
       "      <th>12</th>\n",
       "      <td>2010</td>\n",
       "      <td>Excelsior</td>\n",
       "      <td>364.928336</td>\n",
       "      <td>372560</td>\n",
       "      <td>1239</td>\n",
       "    </tr>\n",
       "    <tr>\n",
       "      <th>13</th>\n",
       "      <td>2010</td>\n",
       "      <td>Financial District North</td>\n",
       "      <td>401.749967</td>\n",
       "      <td>372560</td>\n",
       "      <td>1239</td>\n",
       "    </tr>\n",
       "    <tr>\n",
       "      <th>14</th>\n",
       "      <td>2010</td>\n",
       "      <td>Financial District South</td>\n",
       "      <td>162.821210</td>\n",
       "      <td>372560</td>\n",
       "      <td>1239</td>\n",
       "    </tr>\n",
       "    <tr>\n",
       "      <th>15</th>\n",
       "      <td>2010</td>\n",
       "      <td>Forest Knolls</td>\n",
       "      <td>209.049327</td>\n",
       "      <td>372560</td>\n",
       "      <td>1239</td>\n",
       "    </tr>\n",
       "    <tr>\n",
       "      <th>16</th>\n",
       "      <td>2010</td>\n",
       "      <td>Glen Park</td>\n",
       "      <td>715.586438</td>\n",
       "      <td>372560</td>\n",
       "      <td>1239</td>\n",
       "    </tr>\n",
       "    <tr>\n",
       "      <th>17</th>\n",
       "      <td>2010</td>\n",
       "      <td>Golden Gate Heights</td>\n",
       "      <td>551.801119</td>\n",
       "      <td>372560</td>\n",
       "      <td>1239</td>\n",
       "    </tr>\n",
       "    <tr>\n",
       "      <th>18</th>\n",
       "      <td>2010</td>\n",
       "      <td>Haight Ashbury</td>\n",
       "      <td>254.473779</td>\n",
       "      <td>372560</td>\n",
       "      <td>1239</td>\n",
       "    </tr>\n",
       "    <tr>\n",
       "      <th>19</th>\n",
       "      <td>2010</td>\n",
       "      <td>Hayes Valley</td>\n",
       "      <td>272.284980</td>\n",
       "      <td>372560</td>\n",
       "      <td>1239</td>\n",
       "    </tr>\n",
       "    <tr>\n",
       "      <th>20</th>\n",
       "      <td>2010</td>\n",
       "      <td>Hunters Point</td>\n",
       "      <td>170.624920</td>\n",
       "      <td>372560</td>\n",
       "      <td>1239</td>\n",
       "    </tr>\n",
       "    <tr>\n",
       "      <th>21</th>\n",
       "      <td>2010</td>\n",
       "      <td>Ingleside</td>\n",
       "      <td>275.056686</td>\n",
       "      <td>372560</td>\n",
       "      <td>1239</td>\n",
       "    </tr>\n",
       "    <tr>\n",
       "      <th>22</th>\n",
       "      <td>2010</td>\n",
       "      <td>Inner Mission</td>\n",
       "      <td>238.350020</td>\n",
       "      <td>372560</td>\n",
       "      <td>1239</td>\n",
       "    </tr>\n",
       "    <tr>\n",
       "      <th>23</th>\n",
       "      <td>2010</td>\n",
       "      <td>Inner Parkside</td>\n",
       "      <td>199.702004</td>\n",
       "      <td>372560</td>\n",
       "      <td>1239</td>\n",
       "    </tr>\n",
       "    <tr>\n",
       "      <th>24</th>\n",
       "      <td>2010</td>\n",
       "      <td>Inner Richmond</td>\n",
       "      <td>285.822358</td>\n",
       "      <td>372560</td>\n",
       "      <td>1239</td>\n",
       "    </tr>\n",
       "    <tr>\n",
       "      <th>25</th>\n",
       "      <td>2010</td>\n",
       "      <td>Inner Sunset</td>\n",
       "      <td>275.769730</td>\n",
       "      <td>372560</td>\n",
       "      <td>1239</td>\n",
       "    </tr>\n",
       "    <tr>\n",
       "      <th>26</th>\n",
       "      <td>2010</td>\n",
       "      <td>Jordan Park/Laurel Heights</td>\n",
       "      <td>419.887812</td>\n",
       "      <td>372560</td>\n",
       "      <td>1239</td>\n",
       "    </tr>\n",
       "    <tr>\n",
       "      <th>27</th>\n",
       "      <td>2010</td>\n",
       "      <td>Lake --The Presidio</td>\n",
       "      <td>320.796910</td>\n",
       "      <td>372560</td>\n",
       "      <td>1239</td>\n",
       "    </tr>\n",
       "    <tr>\n",
       "      <th>28</th>\n",
       "      <td>2010</td>\n",
       "      <td>Lone Mountain</td>\n",
       "      <td>398.458876</td>\n",
       "      <td>372560</td>\n",
       "      <td>1239</td>\n",
       "    </tr>\n",
       "    <tr>\n",
       "      <th>29</th>\n",
       "      <td>2010</td>\n",
       "      <td>Lower Pacific Heights</td>\n",
       "      <td>374.057636</td>\n",
       "      <td>372560</td>\n",
       "      <td>1239</td>\n",
       "    </tr>\n",
       "    <tr>\n",
       "      <th>...</th>\n",
       "      <td>...</td>\n",
       "      <td>...</td>\n",
       "      <td>...</td>\n",
       "      <td>...</td>\n",
       "      <td>...</td>\n",
       "    </tr>\n",
       "    <tr>\n",
       "      <th>367</th>\n",
       "      <td>2016</td>\n",
       "      <td>Inner Mission</td>\n",
       "      <td>647.770447</td>\n",
       "      <td>384242</td>\n",
       "      <td>4390</td>\n",
       "    </tr>\n",
       "    <tr>\n",
       "      <th>368</th>\n",
       "      <td>2016</td>\n",
       "      <td>Inner Parkside</td>\n",
       "      <td>518.112650</td>\n",
       "      <td>384242</td>\n",
       "      <td>4390</td>\n",
       "    </tr>\n",
       "    <tr>\n",
       "      <th>369</th>\n",
       "      <td>2016</td>\n",
       "      <td>Inner Richmond</td>\n",
       "      <td>403.311132</td>\n",
       "      <td>384242</td>\n",
       "      <td>4390</td>\n",
       "    </tr>\n",
       "    <tr>\n",
       "      <th>370</th>\n",
       "      <td>2016</td>\n",
       "      <td>Inner Sunset</td>\n",
       "      <td>445.923828</td>\n",
       "      <td>384242</td>\n",
       "      <td>4390</td>\n",
       "    </tr>\n",
       "    <tr>\n",
       "      <th>371</th>\n",
       "      <td>2016</td>\n",
       "      <td>Jordan Park/Laurel Heights</td>\n",
       "      <td>704.566419</td>\n",
       "      <td>384242</td>\n",
       "      <td>4390</td>\n",
       "    </tr>\n",
       "    <tr>\n",
       "      <th>372</th>\n",
       "      <td>2016</td>\n",
       "      <td>Lower Pacific Heights</td>\n",
       "      <td>636.430770</td>\n",
       "      <td>384242</td>\n",
       "      <td>4390</td>\n",
       "    </tr>\n",
       "    <tr>\n",
       "      <th>373</th>\n",
       "      <td>2016</td>\n",
       "      <td>Marina</td>\n",
       "      <td>431.944602</td>\n",
       "      <td>384242</td>\n",
       "      <td>4390</td>\n",
       "    </tr>\n",
       "    <tr>\n",
       "      <th>374</th>\n",
       "      <td>2016</td>\n",
       "      <td>Merced Heights</td>\n",
       "      <td>1416.666667</td>\n",
       "      <td>384242</td>\n",
       "      <td>4390</td>\n",
       "    </tr>\n",
       "    <tr>\n",
       "      <th>375</th>\n",
       "      <td>2016</td>\n",
       "      <td>Mission Bay</td>\n",
       "      <td>924.569116</td>\n",
       "      <td>384242</td>\n",
       "      <td>4390</td>\n",
       "    </tr>\n",
       "    <tr>\n",
       "      <th>376</th>\n",
       "      <td>2016</td>\n",
       "      <td>Mission Terrace</td>\n",
       "      <td>879.017013</td>\n",
       "      <td>384242</td>\n",
       "      <td>4390</td>\n",
       "    </tr>\n",
       "    <tr>\n",
       "      <th>377</th>\n",
       "      <td>2016</td>\n",
       "      <td>Nob Hill</td>\n",
       "      <td>777.008315</td>\n",
       "      <td>384242</td>\n",
       "      <td>4390</td>\n",
       "    </tr>\n",
       "    <tr>\n",
       "      <th>378</th>\n",
       "      <td>2016</td>\n",
       "      <td>Noe Valley</td>\n",
       "      <td>799.495651</td>\n",
       "      <td>384242</td>\n",
       "      <td>4390</td>\n",
       "    </tr>\n",
       "    <tr>\n",
       "      <th>379</th>\n",
       "      <td>2016</td>\n",
       "      <td>North Beach</td>\n",
       "      <td>407.553322</td>\n",
       "      <td>384242</td>\n",
       "      <td>4390</td>\n",
       "    </tr>\n",
       "    <tr>\n",
       "      <th>380</th>\n",
       "      <td>2016</td>\n",
       "      <td>Outer Mission</td>\n",
       "      <td>40.772625</td>\n",
       "      <td>384242</td>\n",
       "      <td>4390</td>\n",
       "    </tr>\n",
       "    <tr>\n",
       "      <th>381</th>\n",
       "      <td>2016</td>\n",
       "      <td>Outer Parkside</td>\n",
       "      <td>732.720684</td>\n",
       "      <td>384242</td>\n",
       "      <td>4390</td>\n",
       "    </tr>\n",
       "    <tr>\n",
       "      <th>382</th>\n",
       "      <td>2016</td>\n",
       "      <td>Outer Richmond</td>\n",
       "      <td>1196.645437</td>\n",
       "      <td>384242</td>\n",
       "      <td>4390</td>\n",
       "    </tr>\n",
       "    <tr>\n",
       "      <th>383</th>\n",
       "      <td>2016</td>\n",
       "      <td>Outer Sunset</td>\n",
       "      <td>510.576907</td>\n",
       "      <td>384242</td>\n",
       "      <td>4390</td>\n",
       "    </tr>\n",
       "    <tr>\n",
       "      <th>384</th>\n",
       "      <td>2016</td>\n",
       "      <td>Pacific Heights</td>\n",
       "      <td>996.389364</td>\n",
       "      <td>384242</td>\n",
       "      <td>4390</td>\n",
       "    </tr>\n",
       "    <tr>\n",
       "      <th>385</th>\n",
       "      <td>2016</td>\n",
       "      <td>Park North</td>\n",
       "      <td>211.301370</td>\n",
       "      <td>384242</td>\n",
       "      <td>4390</td>\n",
       "    </tr>\n",
       "    <tr>\n",
       "      <th>386</th>\n",
       "      <td>2016</td>\n",
       "      <td>Parnassus/Ashbury Heights</td>\n",
       "      <td>1207.997485</td>\n",
       "      <td>384242</td>\n",
       "      <td>4390</td>\n",
       "    </tr>\n",
       "    <tr>\n",
       "      <th>387</th>\n",
       "      <td>2016</td>\n",
       "      <td>Potrero Hill</td>\n",
       "      <td>707.651609</td>\n",
       "      <td>384242</td>\n",
       "      <td>4390</td>\n",
       "    </tr>\n",
       "    <tr>\n",
       "      <th>388</th>\n",
       "      <td>2016</td>\n",
       "      <td>Presidio Heights</td>\n",
       "      <td>1465.968586</td>\n",
       "      <td>384242</td>\n",
       "      <td>4390</td>\n",
       "    </tr>\n",
       "    <tr>\n",
       "      <th>389</th>\n",
       "      <td>2016</td>\n",
       "      <td>Russian Hill</td>\n",
       "      <td>1024.339877</td>\n",
       "      <td>384242</td>\n",
       "      <td>4390</td>\n",
       "    </tr>\n",
       "    <tr>\n",
       "      <th>390</th>\n",
       "      <td>2016</td>\n",
       "      <td>South of Market</td>\n",
       "      <td>531.136374</td>\n",
       "      <td>384242</td>\n",
       "      <td>4390</td>\n",
       "    </tr>\n",
       "    <tr>\n",
       "      <th>391</th>\n",
       "      <td>2016</td>\n",
       "      <td>Sunnyside</td>\n",
       "      <td>751.173709</td>\n",
       "      <td>384242</td>\n",
       "      <td>4390</td>\n",
       "    </tr>\n",
       "    <tr>\n",
       "      <th>392</th>\n",
       "      <td>2016</td>\n",
       "      <td>Telegraph Hill</td>\n",
       "      <td>903.049771</td>\n",
       "      <td>384242</td>\n",
       "      <td>4390</td>\n",
       "    </tr>\n",
       "    <tr>\n",
       "      <th>393</th>\n",
       "      <td>2016</td>\n",
       "      <td>Twin Peaks</td>\n",
       "      <td>970.085470</td>\n",
       "      <td>384242</td>\n",
       "      <td>4390</td>\n",
       "    </tr>\n",
       "    <tr>\n",
       "      <th>394</th>\n",
       "      <td>2016</td>\n",
       "      <td>Van Ness/ Civic Center</td>\n",
       "      <td>552.602567</td>\n",
       "      <td>384242</td>\n",
       "      <td>4390</td>\n",
       "    </tr>\n",
       "    <tr>\n",
       "      <th>395</th>\n",
       "      <td>2016</td>\n",
       "      <td>Visitacion Valley</td>\n",
       "      <td>328.319007</td>\n",
       "      <td>384242</td>\n",
       "      <td>4390</td>\n",
       "    </tr>\n",
       "    <tr>\n",
       "      <th>396</th>\n",
       "      <td>2016</td>\n",
       "      <td>Westwood Park</td>\n",
       "      <td>631.195426</td>\n",
       "      <td>384242</td>\n",
       "      <td>4390</td>\n",
       "    </tr>\n",
       "  </tbody>\n",
       "</table>\n",
       "<p>397 rows × 5 columns</p>\n",
       "</div>"
      ],
      "text/plain": [
       "     year                   neighborhood  sale_price_sqr_foot  housing_units  \\\n",
       "0    2010                   Alamo Square           291.182945         372560   \n",
       "1    2010                     Anza Vista           267.932583         372560   \n",
       "2    2010                        Bayview           170.098665         372560   \n",
       "3    2010               Buena Vista Park           347.394919         372560   \n",
       "4    2010               Central Richmond           319.027623         372560   \n",
       "5    2010                 Central Sunset           418.172493         372560   \n",
       "6    2010                 Corona Heights           369.359338         372560   \n",
       "7    2010                     Cow Hollow           569.379968         372560   \n",
       "8    2010                  Croker Amazon           165.645730         372560   \n",
       "9    2010                Diamond Heights           456.930822         372560   \n",
       "10   2010                      Downtown            241.804552         372560   \n",
       "11   2010  Eureka Valley/Dolores Heights           403.118313         372560   \n",
       "12   2010                      Excelsior           364.928336         372560   \n",
       "13   2010       Financial District North           401.749967         372560   \n",
       "14   2010       Financial District South           162.821210         372560   \n",
       "15   2010                  Forest Knolls           209.049327         372560   \n",
       "16   2010                      Glen Park           715.586438         372560   \n",
       "17   2010            Golden Gate Heights           551.801119         372560   \n",
       "18   2010                 Haight Ashbury           254.473779         372560   \n",
       "19   2010                   Hayes Valley           272.284980         372560   \n",
       "20   2010                  Hunters Point           170.624920         372560   \n",
       "21   2010                     Ingleside            275.056686         372560   \n",
       "22   2010                  Inner Mission           238.350020         372560   \n",
       "23   2010                 Inner Parkside           199.702004         372560   \n",
       "24   2010                 Inner Richmond           285.822358         372560   \n",
       "25   2010                   Inner Sunset           275.769730         372560   \n",
       "26   2010     Jordan Park/Laurel Heights           419.887812         372560   \n",
       "27   2010            Lake --The Presidio           320.796910         372560   \n",
       "28   2010                  Lone Mountain           398.458876         372560   \n",
       "29   2010          Lower Pacific Heights           374.057636         372560   \n",
       "..    ...                            ...                  ...            ...   \n",
       "367  2016                  Inner Mission           647.770447         384242   \n",
       "368  2016                 Inner Parkside           518.112650         384242   \n",
       "369  2016                 Inner Richmond           403.311132         384242   \n",
       "370  2016                   Inner Sunset           445.923828         384242   \n",
       "371  2016     Jordan Park/Laurel Heights           704.566419         384242   \n",
       "372  2016          Lower Pacific Heights           636.430770         384242   \n",
       "373  2016                         Marina           431.944602         384242   \n",
       "374  2016                 Merced Heights          1416.666667         384242   \n",
       "375  2016                    Mission Bay           924.569116         384242   \n",
       "376  2016                Mission Terrace           879.017013         384242   \n",
       "377  2016                       Nob Hill           777.008315         384242   \n",
       "378  2016                     Noe Valley           799.495651         384242   \n",
       "379  2016                    North Beach           407.553322         384242   \n",
       "380  2016                  Outer Mission            40.772625         384242   \n",
       "381  2016                 Outer Parkside           732.720684         384242   \n",
       "382  2016                Outer Richmond           1196.645437         384242   \n",
       "383  2016                   Outer Sunset           510.576907         384242   \n",
       "384  2016                Pacific Heights           996.389364         384242   \n",
       "385  2016                     Park North           211.301370         384242   \n",
       "386  2016      Parnassus/Ashbury Heights          1207.997485         384242   \n",
       "387  2016                   Potrero Hill           707.651609         384242   \n",
       "388  2016               Presidio Heights          1465.968586         384242   \n",
       "389  2016                   Russian Hill          1024.339877         384242   \n",
       "390  2016                South of Market           531.136374         384242   \n",
       "391  2016                      Sunnyside           751.173709         384242   \n",
       "392  2016                 Telegraph Hill           903.049771         384242   \n",
       "393  2016                     Twin Peaks           970.085470         384242   \n",
       "394  2016         Van Ness/ Civic Center           552.602567         384242   \n",
       "395  2016              Visitacion Valley           328.319007         384242   \n",
       "396  2016                  Westwood Park           631.195426         384242   \n",
       "\n",
       "     gross_rent  \n",
       "0          1239  \n",
       "1          1239  \n",
       "2          1239  \n",
       "3          1239  \n",
       "4          1239  \n",
       "5          1239  \n",
       "6          1239  \n",
       "7          1239  \n",
       "8          1239  \n",
       "9          1239  \n",
       "10         1239  \n",
       "11         1239  \n",
       "12         1239  \n",
       "13         1239  \n",
       "14         1239  \n",
       "15         1239  \n",
       "16         1239  \n",
       "17         1239  \n",
       "18         1239  \n",
       "19         1239  \n",
       "20         1239  \n",
       "21         1239  \n",
       "22         1239  \n",
       "23         1239  \n",
       "24         1239  \n",
       "25         1239  \n",
       "26         1239  \n",
       "27         1239  \n",
       "28         1239  \n",
       "29         1239  \n",
       "..          ...  \n",
       "367        4390  \n",
       "368        4390  \n",
       "369        4390  \n",
       "370        4390  \n",
       "371        4390  \n",
       "372        4390  \n",
       "373        4390  \n",
       "374        4390  \n",
       "375        4390  \n",
       "376        4390  \n",
       "377        4390  \n",
       "378        4390  \n",
       "379        4390  \n",
       "380        4390  \n",
       "381        4390  \n",
       "382        4390  \n",
       "383        4390  \n",
       "384        4390  \n",
       "385        4390  \n",
       "386        4390  \n",
       "387        4390  \n",
       "388        4390  \n",
       "389        4390  \n",
       "390        4390  \n",
       "391        4390  \n",
       "392        4390  \n",
       "393        4390  \n",
       "394        4390  \n",
       "395        4390  \n",
       "396        4390  \n",
       "\n",
       "[397 rows x 5 columns]"
      ]
     },
     "execution_count": 361,
     "metadata": {},
     "output_type": "execute_result"
    }
   ],
   "source": [
    "avg_price_by_nbhd"
   ]
  },
  {
   "cell_type": "code",
   "execution_count": null,
   "id": "0230f9e9",
   "metadata": {},
   "outputs": [],
   "source": []
  }
 ],
 "metadata": {
  "kernelspec": {
   "display_name": "Python [conda env:pyvizenv] *",
   "language": "python",
   "name": "conda-env-pyvizenv-py"
  },
  "language_info": {
   "codemirror_mode": {
    "name": "ipython",
    "version": 3
   },
   "file_extension": ".py",
   "mimetype": "text/x-python",
   "name": "python",
   "nbconvert_exporter": "python",
   "pygments_lexer": "ipython3",
   "version": "3.7.10"
  }
 },
 "nbformat": 4,
 "nbformat_minor": 5
}
